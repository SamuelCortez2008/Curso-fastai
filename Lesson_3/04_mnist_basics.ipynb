{
  "cells": [
    {
      "cell_type": "code",
      "execution_count": 1,
      "metadata": {
        "colab": {
          "base_uri": "https://localhost:8080/"
        },
        "id": "kn_P_kVfjlPt",
        "outputId": "e885a6f7-a5ce-4106-c408-d46d14da1af3"
      },
      "outputs": [
        {
          "output_type": "stream",
          "name": "stdout",
          "text": [
            "\u001b[K     |████████████████████████████████| 719 kB 5.9 MB/s \n",
            "\u001b[K     |████████████████████████████████| 451 kB 53.9 MB/s \n",
            "\u001b[K     |████████████████████████████████| 1.3 MB 34.5 MB/s \n",
            "\u001b[K     |████████████████████████████████| 5.5 MB 41.3 MB/s \n",
            "\u001b[K     |████████████████████████████████| 1.6 MB 38.7 MB/s \n",
            "\u001b[K     |████████████████████████████████| 212 kB 45.0 MB/s \n",
            "\u001b[K     |████████████████████████████████| 182 kB 36.1 MB/s \n",
            "\u001b[K     |████████████████████████████████| 115 kB 11.0 MB/s \n",
            "\u001b[K     |████████████████████████████████| 127 kB 26.5 MB/s \n",
            "\u001b[K     |████████████████████████████████| 7.6 MB 9.8 MB/s \n",
            "\u001b[?25hMounted at /content/gdrive\n"
          ]
        }
      ],
      "source": [
        "#hide\n",
        "! [ -e /content ] && pip install -Uqq fastbook\n",
        "import fastbook\n",
        "fastbook.setup_book()"
      ]
    },
    {
      "cell_type": "code",
      "execution_count": 2,
      "metadata": {
        "id": "-qs16g4WjlPx"
      },
      "outputs": [],
      "source": [
        "#hide\n",
        "from fastai.vision.all import *\n",
        "from fastbook import *\n",
        "\n",
        "matplotlib.rc('image', cmap='Greys')"
      ]
    },
    {
      "cell_type": "raw",
      "metadata": {
        "id": "icC2GVuDjlPy"
      },
      "source": [
        "[[chapter_mnist_basics]]"
      ]
    },
    {
      "cell_type": "markdown",
      "metadata": {
        "id": "1gNfaL-4jlPy"
      },
      "source": [
        "# Under the Hood: Training a Digit Classifier"
      ]
    },
    {
      "cell_type": "markdown",
      "metadata": {
        "id": "qPoAl5eIjlP0"
      },
      "source": [
        "Having seen what it looks like to actually train a variety of models in Chapter 2, let’s now look under the hood and see exactly what is going on. We’ll start by using computer vision to introduce fundamental tools and concepts for deep learning.\n",
        "\n",
        "To be exact, we'll discuss the roles of arrays and tensors and of broadcasting, a powerful technique for using them expressively. We'll explain stochastic gradient descent (SGD), the mechanism for learning by updating weights automatically. We'll discuss the choice of a loss function for our basic classification task, and the role of mini-batches. We'll also describe the math that a basic neural network is actually doing. Finally, we'll put all these pieces together.\n",
        "\n",
        "In future chapters we’ll do deep dives into other applications as well, and see how these concepts and tools generalize. But this chapter is about laying foundation stones. To be frank, that also makes this one of the hardest chapters, because of how these concepts all depend on each other. Like an arch, all the stones need to be in place for the structure to stay up. Also like an arch, once that happens, it's a powerful structure that can support other things. But it requires some patience to assemble.\n",
        "\n",
        "Let's begin. The first step is to consider how images are represented in a computer."
      ]
    },
    {
      "cell_type": "markdown",
      "metadata": {
        "id": "uoacqPsKjlP2"
      },
      "source": [
        "## Pixels: The Foundations of Computer Vision"
      ]
    },
    {
      "cell_type": "markdown",
      "metadata": {
        "id": "v5DEGQv_jlP3"
      },
      "source": [
        "In order to understand what happens in a computer vision model, we first have to understand how computers handle images. We'll use one of the most famous datasets in computer vision, [MNIST](https://en.wikipedia.org/wiki/MNIST_database), for our experiments. MNIST contains images of handwritten digits, collected by the National Institute of Standards and Technology and collated into a machine learning dataset by Yann Lecun and his colleagues. Lecun used MNIST in 1998 in [Lenet-5](http://yann.lecun.com/exdb/lenet/), the first computer system to demonstrate practically useful recognition of handwritten digit sequences. This was one of the most important breakthroughs in the history of AI."
      ]
    },
    {
      "cell_type": "markdown",
      "metadata": {
        "id": "mWJdO20ljlP3"
      },
      "source": [
        "## Sidebar: Tenacity and Deep Learning"
      ]
    },
    {
      "cell_type": "markdown",
      "metadata": {
        "id": "Ztf6nXMLjlP4"
      },
      "source": [
        "The story of deep learning is one of tenacity and grit by a handful of dedicated researchers. After early hopes (and hype!) neural networks went out of favor in the 1990's and 2000's, and just a handful of researchers kept trying to make them work well. Three of them, Yann Lecun, Yoshua Bengio, and Geoffrey Hinton, were awarded the highest honor in computer science, the Turing Award (generally considered the \"Nobel Prize of computer science\"), in 2018 after triumphing despite the deep skepticism and disinterest of the wider machine learning and statistics community.\n",
        "\n",
        "Geoff Hinton has told of how even academic papers showing dramatically better results than anything previously published would be rejected by top journals and conferences, just because they used a neural network. Yann Lecun's work on convolutional neural networks, which we will study in the next section, showed that these models could read handwritten text—something that had never been achieved before. However, his breakthrough was ignored by most researchers, even as it was used commercially to read 10% of the checks in the US!\n",
        "\n",
        "In addition to these three Turing Award winners, there are many other researchers who have battled to get us to where we are today. For instance, Jurgen Schmidhuber (who many believe should have shared in the Turing Award) pioneered many important ideas, including working with his student Sepp Hochreiter on the long short-term memory (LSTM) architecture (widely used for speech recognition and other text modeling tasks, and used in the IMDb example in <<chapter_intro>>). Perhaps most important of all, Paul Werbos in 1974 invented back-propagation for neural networks, the technique shown in this chapter and used universally for training neural networks ([Werbos 1994](https://books.google.com/books/about/The_Roots_of_Backpropagation.html?id=WdR3OOM2gBwC)). His development was almost entirely ignored for decades, but today it is considered the most important foundation of modern AI.\n",
        "\n",
        "There is a lesson here for all of us! On your deep learning journey you will face many obstacles, both technical, and (even more difficult) posed by people around you who don't believe you'll be successful. There's one *guaranteed* way to fail, and that's to stop trying. We've seen that the only consistent trait amongst every fast.ai student that's gone on to be a world-class practitioner is that they are all very tenacious."
      ]
    },
    {
      "cell_type": "markdown",
      "metadata": {
        "id": "vFR9HnWKjlP5"
      },
      "source": [
        "## End sidebar"
      ]
    },
    {
      "cell_type": "markdown",
      "metadata": {
        "id": "NCgdfyv5jlP6"
      },
      "source": [
        "For this initial tutorial we are just going to try to create a model that can classify any image as a 3 or a 7. So let's download a sample of MNIST that contains images of just these digits:"
      ]
    },
    {
      "cell_type": "code",
      "execution_count": 3,
      "metadata": {
        "colab": {
          "base_uri": "https://localhost:8080/",
          "height": 37
        },
        "id": "kmpTgEiijlP6",
        "outputId": "c7870dfe-2d5c-4a34-c64c-2adcf96bc3da"
      },
      "outputs": [
        {
          "output_type": "display_data",
          "data": {
            "text/plain": [
              "<IPython.core.display.HTML object>"
            ],
            "text/html": [
              "\n",
              "<style>\n",
              "    /* Turns off some styling */\n",
              "    progress {\n",
              "        /* gets rid of default border in Firefox and Opera. */\n",
              "        border: none;\n",
              "        /* Needs to be in here for Safari polyfill so background images work as expected. */\n",
              "        background-size: auto;\n",
              "    }\n",
              "    progress:not([value]), progress:not([value])::-webkit-progress-bar {\n",
              "        background: repeating-linear-gradient(45deg, #7e7e7e, #7e7e7e 10px, #5c5c5c 10px, #5c5c5c 20px);\n",
              "    }\n",
              "    .progress-bar-interrupted, .progress-bar-interrupted::-webkit-progress-bar {\n",
              "        background: #F44336;\n",
              "    }\n",
              "</style>\n"
            ]
          },
          "metadata": {}
        },
        {
          "output_type": "display_data",
          "data": {
            "text/plain": [
              "<IPython.core.display.HTML object>"
            ],
            "text/html": [
              "\n",
              "    <div>\n",
              "      <progress value='3219456' class='' max='3214948' style='width:300px; height:20px; vertical-align: middle;'></progress>\n",
              "      100.14% [3219456/3214948 00:00&lt;00:00]\n",
              "    </div>\n",
              "    "
            ]
          },
          "metadata": {}
        }
      ],
      "source": [
        "path = untar_data(URLs.MNIST_SAMPLE)"
      ]
    },
    {
      "cell_type": "code",
      "execution_count": 4,
      "metadata": {
        "id": "c3u6DNsWjlP6"
      },
      "outputs": [],
      "source": [
        "#hide\n",
        "Path.BASE_PATH = path"
      ]
    },
    {
      "cell_type": "markdown",
      "metadata": {
        "id": "XSXuL9TBjlP6"
      },
      "source": [
        "We can see what's in this directory by using `ls`, a method added by fastai. This method returns an object of a special fastai class called `L`, which has all the same functionality of Python's built-in `list`, plus a lot more. One of its handy features is that, when printed, it displays the count of items, before listing the items themselves (if there are more than 10 items, it just shows the first few):"
      ]
    },
    {
      "cell_type": "code",
      "execution_count": 5,
      "metadata": {
        "colab": {
          "base_uri": "https://localhost:8080/"
        },
        "id": "huY3mYTvjlP7",
        "outputId": "0fcd1016-8b51-474a-fa8e-6683952d5aa1"
      },
      "outputs": [
        {
          "output_type": "execute_result",
          "data": {
            "text/plain": [
              "(#3) [Path('valid'),Path('labels.csv'),Path('train')]"
            ]
          },
          "metadata": {},
          "execution_count": 5
        }
      ],
      "source": [
        "path.ls()"
      ]
    },
    {
      "cell_type": "markdown",
      "metadata": {
        "id": "dNfUg-JbjlP7"
      },
      "source": [
        "The MNIST dataset follows a common layout for machine learning datasets: separate folders for the training set and the validation set (and/or test set). Let's see what's inside the training set:"
      ]
    },
    {
      "cell_type": "code",
      "execution_count": 6,
      "metadata": {
        "colab": {
          "base_uri": "https://localhost:8080/"
        },
        "id": "R0Waxc06jlP7",
        "outputId": "f1c28787-b473-42fd-f3e1-567ce867f01f"
      },
      "outputs": [
        {
          "output_type": "execute_result",
          "data": {
            "text/plain": [
              "(#2) [Path('train/3'),Path('train/7')]"
            ]
          },
          "metadata": {},
          "execution_count": 6
        }
      ],
      "source": [
        "(path/'train').ls()"
      ]
    },
    {
      "cell_type": "markdown",
      "metadata": {
        "id": "O945jX1NjlP8"
      },
      "source": [
        "There's a folder of 3s, and a folder of 7s. In machine learning parlance, we say that \"3\" and \"7\" are the *labels* (or targets) in this dataset. Let's take a look in one of these folders (using `sorted` to ensure we all get the same order of files):"
      ]
    },
    {
      "cell_type": "code",
      "execution_count": 7,
      "metadata": {
        "colab": {
          "base_uri": "https://localhost:8080/"
        },
        "id": "McjPdlAfjlP8",
        "outputId": "dbc34d4e-946c-40e0-8890-eaf12c22a652"
      },
      "outputs": [
        {
          "output_type": "execute_result",
          "data": {
            "text/plain": [
              "(#6131) [Path('train/3/10.png'),Path('train/3/10000.png'),Path('train/3/10011.png'),Path('train/3/10031.png'),Path('train/3/10034.png'),Path('train/3/10042.png'),Path('train/3/10052.png'),Path('train/3/1007.png'),Path('train/3/10074.png'),Path('train/3/10091.png')...]"
            ]
          },
          "metadata": {},
          "execution_count": 7
        }
      ],
      "source": [
        "threes = (path/'train'/'3').ls().sorted()\n",
        "sevens = (path/'train'/'7').ls().sorted()\n",
        "threes"
      ]
    },
    {
      "cell_type": "markdown",
      "metadata": {
        "id": "mCG-ye5TjlP8"
      },
      "source": [
        "As we might expect, it's full of image files. Let’s take a look at one now. Here’s an image of a handwritten number 3, taken from the famous MNIST dataset of handwritten numbers:"
      ]
    },
    {
      "cell_type": "code",
      "source": [
        "im3_path = threes[5]\n",
        "im3 = Image.open(im3_path)\n",
        "im3"
      ],
      "metadata": {
        "colab": {
          "base_uri": "https://localhost:8080/",
          "height": 45
        },
        "id": "9I9WD-B5uH-S",
        "outputId": "ede2b88a-014c-4afc-d508-8f367d546ba9"
      },
      "execution_count": 13,
      "outputs": [
        {
          "output_type": "execute_result",
          "data": {
            "text/plain": [
              "<PIL.PngImagePlugin.PngImageFile image mode=L size=28x28>"
            ],
            "image/png": "[encoded data removed]"
          },
          "metadata": {},
          "execution_count": 13
        }
      ]
    },
    {
      "cell_type": "code",
      "execution_count": 10,
      "metadata": {
        "colab": {
          "base_uri": "https://localhost:8080/",
          "height": 45
        },
        "id": "z_t_j8fAjlP8",
        "outputId": "f2dda9fe-8f19-4e97-a8c0-7656ed3962fe"
      },
      "outputs": [
        {
          "output_type": "execute_result",
          "data": {
            "text/plain": [
              "<PIL.PngImagePlugin.PngImageFile image mode=L size=28x28>"
            ],
            "image/png": "[encoded data removed]"
          },
          "metadata": {},
          "execution_count": 10
        }
      ],
      "source": [
        "im7_path = sevens[10]\n",
        "im7 = Image.open(im7_path)\n",
        "im7"
      ]
    },
    {
      "cell_type": "markdown",
      "metadata": {
        "id": "UWTEyWpzjlP9"
      },
      "source": [
        "Here we are using the `Image` class from the *Python Imaging Library* (PIL), which is the most widely used Python package for opening, manipulating, and viewing images. Jupyter knows about PIL images, so it displays the image for us automatically.\n",
        "\n",
        "In a computer, everything is represented as a number. To view the numbers that make up this image, we have to convert it to a *NumPy array* or a *PyTorch tensor*. For instance, here's what a section of the image looks like, converted to a NumPy array:"
      ]
    },
    {
      "cell_type": "code",
      "execution_count": 14,
      "metadata": {
        "colab": {
          "base_uri": "https://localhost:8080/"
        },
        "id": "fINIdTSfjlP9",
        "outputId": "c1338378-12bb-4834-c0e2-9bf1f07ee8a2"
      },
      "outputs": [
        {
          "output_type": "execute_result",
          "data": {
            "text/plain": [
              "array([[  0,   0,   0,  62, 239, 252],\n",
              "       [  0,   0,   0, 162, 252, 252],\n",
              "       [  0,   0,   0,  40, 217, 252],\n",
              "       [  0,   0,   0,   0,  38,  99],\n",
              "       [  0,   0,   0,   0,   0,   0],\n",
              "       [  0,   0,   0,   0,   0,   0]], dtype=uint8)"
            ]
          },
          "metadata": {},
          "execution_count": 14
        }
      ],
      "source": [
        "array(im3)[4:10,4:10]"
      ]
    },
    {
      "cell_type": "code",
      "source": [
        "array(im3).shape"
      ],
      "metadata": {
        "colab": {
          "base_uri": "https://localhost:8080/"
        },
        "id": "McLoi8Miu0Eo",
        "outputId": "07bcefab-edc0-4cd3-f484-49460f1ff7fd"
      },
      "execution_count": 16,
      "outputs": [
        {
          "output_type": "execute_result",
          "data": {
            "text/plain": [
              "(28, 28)"
            ]
          },
          "metadata": {},
          "execution_count": 16
        }
      ]
    },
    {
      "cell_type": "markdown",
      "metadata": {
        "id": "y-yM7JRxjlP9"
      },
      "source": [
        "The `4:10` indicates we requested the rows from index 4 (included) to 10 (not included) and the same for the columns. NumPy indexes from top to bottom and left to right, so this section is located in the top-left corner of the image. Here's the same thing as a PyTorch tensor:"
      ]
    },
    {
      "cell_type": "code",
      "execution_count": 17,
      "metadata": {
        "colab": {
          "base_uri": "https://localhost:8080/"
        },
        "id": "lHHQILl5jlP9",
        "outputId": "5ac6db08-5734-43f7-d89b-e5cf7c81665e"
      },
      "outputs": [
        {
          "output_type": "execute_result",
          "data": {
            "text/plain": [
              "tensor([[  0,   0,   0,  62, 239, 252],\n",
              "        [  0,   0,   0, 162, 252, 252],\n",
              "        [  0,   0,   0,  40, 217, 252],\n",
              "        [  0,   0,   0,   0,  38,  99],\n",
              "        [  0,   0,   0,   0,   0,   0],\n",
              "        [  0,   0,   0,   0,   0,   0]], dtype=torch.uint8)"
            ]
          },
          "metadata": {},
          "execution_count": 17
        }
      ],
      "source": [
        "tensor(im3)[4:10,4:10]"
      ]
    },
    {
      "cell_type": "markdown",
      "metadata": {
        "id": "Fl17cLnGjlP9"
      },
      "source": [
        "We can slice the array to pick just the part with the top of the digit in it, and then use a Pandas DataFrame to color-code the values using a gradient, which shows us clearly how the image is created from the pixel values:"
      ]
    },
    {
      "cell_type": "code",
      "execution_count": 20,
      "metadata": {
        "colab": {
          "base_uri": "https://localhost:8080/",
          "height": 676
        },
        "id": "ufVTVGGkjlP-",
        "outputId": "ec02150d-580a-4585-8ef6-92a6e0a46cef"
      },
      "outputs": [
        {
          "output_type": "execute_result",
          "data": {
            "text/plain": [
              "<pandas.io.formats.style.Styler at 0x7f0e183b85d0>"
            ],
            "text/html": [
              "<style type=\"text/css\">\n",
              "#T_1b6f1_row0_col0, #T_1b6f1_row0_col1, #T_1b6f1_row0_col2, #T_1b6f1_row0_col3, #T_1b6f1_row0_col4, #T_1b6f1_row0_col5, #T_1b6f1_row0_col6, #T_1b6f1_row0_col7, #T_1b6f1_row0_col8, #T_1b6f1_row0_col9, #T_1b6f1_row0_col10, #T_1b6f1_row0_col11, #T_1b6f1_row0_col12, #T_1b6f1_row0_col13, #T_1b6f1_row0_col14, #T_1b6f1_row0_col15, #T_1b6f1_row0_col16, #T_1b6f1_row0_col17, #T_1b6f1_row0_col18, #T_1b6f1_row0_col19, #T_1b6f1_row1_col0, #T_1b6f1_row1_col1, #T_1b6f1_row1_col2, #T_1b6f1_row1_col3, #T_1b6f1_row1_col4, #T_1b6f1_row1_col5, #T_1b6f1_row1_col14, #T_1b6f1_row1_col15, #T_1b6f1_row1_col16, #T_1b6f1_row1_col17, #T_1b6f1_row1_col18, #T_1b6f1_row1_col19, #T_1b6f1_row2_col0, #T_1b6f1_row2_col1, #T_1b6f1_row2_col2, #T_1b6f1_row2_col3, #T_1b6f1_row2_col4, #T_1b6f1_row2_col16, #T_1b6f1_row2_col17, #T_1b6f1_row2_col18, #T_1b6f1_row2_col19, #T_1b6f1_row3_col0, #T_1b6f1_row3_col1, #T_1b6f1_row3_col2, #T_1b6f1_row3_col3, #T_1b6f1_row3_col4, #T_1b6f1_row3_col16, #T_1b6f1_row3_col17, #T_1b6f1_row3_col18, #T_1b6f1_row3_col19, #T_1b6f1_row4_col0, #T_1b6f1_row4_col1, #T_1b6f1_row4_col2, #T_1b6f1_row4_col3, #T_1b6f1_row4_col4, #T_1b6f1_row4_col17, #T_1b6f1_row4_col18, #T_1b6f1_row4_col19, #T_1b6f1_row5_col0, #T_1b6f1_row5_col1, #T_1b6f1_row5_col2, #T_1b6f1_row5_col3, #T_1b6f1_row5_col4, #T_1b6f1_row5_col5, #T_1b6f1_row5_col9, #T_1b6f1_row5_col10, #T_1b6f1_row5_col11, #T_1b6f1_row5_col17, #T_1b6f1_row5_col18, #T_1b6f1_row5_col19, #T_1b6f1_row6_col0, #T_1b6f1_row6_col1, #T_1b6f1_row6_col2, #T_1b6f1_row6_col3, #T_1b6f1_row6_col4, #T_1b6f1_row6_col5, #T_1b6f1_row6_col6, #T_1b6f1_row6_col7, #T_1b6f1_row6_col8, #T_1b6f1_row6_col9, #T_1b6f1_row6_col10, #T_1b6f1_row6_col11, #T_1b6f1_row6_col12, #T_1b6f1_row6_col17, #T_1b6f1_row6_col18, #T_1b6f1_row6_col19, #T_1b6f1_row7_col0, #T_1b6f1_row7_col1, #T_1b6f1_row7_col2, #T_1b6f1_row7_col3, #T_1b6f1_row7_col4, #T_1b6f1_row7_col5, #T_1b6f1_row7_col6, #T_1b6f1_row7_col7, #T_1b6f1_row7_col8, #T_1b6f1_row7_col9, #T_1b6f1_row7_col10, #T_1b6f1_row7_col11, #T_1b6f1_row7_col12, #T_1b6f1_row7_col13, #T_1b6f1_row7_col17, #T_1b6f1_row7_col18, #T_1b6f1_row7_col19, #T_1b6f1_row8_col0, #T_1b6f1_row8_col1, #T_1b6f1_row8_col2, #T_1b6f1_row8_col3, #T_1b6f1_row8_col4, #T_1b6f1_row8_col5, #T_1b6f1_row8_col6, #T_1b6f1_row8_col7, #T_1b6f1_row8_col8, #T_1b6f1_row8_col9, #T_1b6f1_row8_col10, #T_1b6f1_row8_col11, #T_1b6f1_row8_col12, #T_1b6f1_row8_col17, #T_1b6f1_row8_col18, #T_1b6f1_row8_col19, #T_1b6f1_row9_col0, #T_1b6f1_row9_col1, #T_1b6f1_row9_col2, #T_1b6f1_row9_col3, #T_1b6f1_row9_col4, #T_1b6f1_row9_col5, #T_1b6f1_row9_col6, #T_1b6f1_row9_col7, #T_1b6f1_row9_col8, #T_1b6f1_row9_col9, #T_1b6f1_row9_col10, #T_1b6f1_row9_col11, #T_1b6f1_row9_col12, #T_1b6f1_row9_col17, #T_1b6f1_row9_col18, #T_1b6f1_row9_col19, #T_1b6f1_row10_col0, #T_1b6f1_row10_col1, #T_1b6f1_row10_col2, #T_1b6f1_row10_col3, #T_1b6f1_row10_col4, #T_1b6f1_row10_col5, #T_1b6f1_row10_col6, #T_1b6f1_row10_col7, #T_1b6f1_row10_col8, #T_1b6f1_row10_col9, #T_1b6f1_row10_col10, #T_1b6f1_row10_col11, #T_1b6f1_row10_col17, #T_1b6f1_row10_col18, #T_1b6f1_row10_col19, #T_1b6f1_row11_col0, #T_1b6f1_row11_col1, #T_1b6f1_row11_col2, #T_1b6f1_row11_col3, #T_1b6f1_row11_col4, #T_1b6f1_row11_col5, #T_1b6f1_row11_col6, #T_1b6f1_row11_col7, #T_1b6f1_row11_col19, #T_1b6f1_row12_col0, #T_1b6f1_row12_col1, #T_1b6f1_row12_col4, #T_1b6f1_row12_col5, #T_1b6f1_row12_col6, #T_1b6f1_row12_col7, #T_1b6f1_row13_col0, #T_1b6f1_row13_col6, #T_1b6f1_row13_col7, #T_1b6f1_row14_col0, #T_1b6f1_row14_col7, #T_1b6f1_row15_col0, #T_1b6f1_row15_col11, #T_1b6f1_row15_col12, #T_1b6f1_row15_col13, #T_1b6f1_row16_col0, #T_1b6f1_row16_col1, #T_1b6f1_row16_col12, #T_1b6f1_row16_col13, #T_1b6f1_row16_col14, #T_1b6f1_row16_col15, #T_1b6f1_row17_col0, #T_1b6f1_row17_col1, #T_1b6f1_row17_col2, #T_1b6f1_row18_col0, #T_1b6f1_row18_col1, #T_1b6f1_row18_col2, #T_1b6f1_row18_col3, #T_1b6f1_row18_col4, #T_1b6f1_row19_col0, #T_1b6f1_row19_col1, #T_1b6f1_row19_col2, #T_1b6f1_row19_col3, #T_1b6f1_row19_col4, #T_1b6f1_row19_col5 {\n",
              "  font-size: 6pt;\n",
              "  background-color: #ffffff;\n",
              "  color: #000000;\n",
              "}\n",
              "#T_1b6f1_row1_col6 {\n",
              "  font-size: 6pt;\n",
              "  background-color: #cecece;\n",
              "  color: #000000;\n",
              "}\n",
              "#T_1b6f1_row1_col7, #T_1b6f1_row11_col17 {\n",
              "  font-size: 6pt;\n",
              "  background-color: #b0b0b0;\n",
              "  color: #000000;\n",
              "}\n",
              "#T_1b6f1_row1_col8 {\n",
              "  font-size: 6pt;\n",
              "  background-color: #080808;\n",
              "  color: #f1f1f1;\n",
              "}\n",
              "#T_1b6f1_row1_col9, #T_1b6f1_row1_col10, #T_1b6f1_row1_col11, #T_1b6f1_row2_col7, #T_1b6f1_row2_col8, #T_1b6f1_row3_col6, #T_1b6f1_row3_col7, #T_1b6f1_row3_col8, #T_1b6f1_row4_col7, #T_1b6f1_row11_col10, #T_1b6f1_row11_col11, #T_1b6f1_row11_col12, #T_1b6f1_row11_col13, #T_1b6f1_row11_col14, #T_1b6f1_row11_col15, #T_1b6f1_row12_col16, #T_1b6f1_row12_col17, #T_1b6f1_row13_col16, #T_1b6f1_row13_col17, #T_1b6f1_row13_col18, #T_1b6f1_row14_col1, #T_1b6f1_row14_col2, #T_1b6f1_row14_col3, #T_1b6f1_row14_col4, #T_1b6f1_row14_col16, #T_1b6f1_row14_col17, #T_1b6f1_row14_col18, #T_1b6f1_row14_col19, #T_1b6f1_row15_col3, #T_1b6f1_row15_col4, #T_1b6f1_row15_col5, #T_1b6f1_row15_col17, #T_1b6f1_row15_col18, #T_1b6f1_row15_col19, #T_1b6f1_row16_col4, #T_1b6f1_row16_col5, #T_1b6f1_row16_col6, #T_1b6f1_row16_col7, #T_1b6f1_row16_col17, #T_1b6f1_row16_col18, #T_1b6f1_row16_col19, #T_1b6f1_row17_col6, #T_1b6f1_row17_col7, #T_1b6f1_row17_col8, #T_1b6f1_row17_col17, #T_1b6f1_row17_col18, #T_1b6f1_row17_col19, #T_1b6f1_row18_col7, #T_1b6f1_row18_col8, #T_1b6f1_row18_col16, #T_1b6f1_row18_col17, #T_1b6f1_row18_col18, #T_1b6f1_row19_col16, #T_1b6f1_row19_col17 {\n",
              "  font-size: 6pt;\n",
              "  background-color: #000000;\n",
              "  color: #f1f1f1;\n",
              "}\n",
              "#T_1b6f1_row1_col12, #T_1b6f1_row9_col13 {\n",
              "  font-size: 6pt;\n",
              "  background-color: #939393;\n",
              "  color: #f1f1f1;\n",
              "}\n",
              "#T_1b6f1_row1_col13, #T_1b6f1_row5_col6 {\n",
              "  font-size: 6pt;\n",
              "  background-color: #ececec;\n",
              "  color: #000000;\n",
              "}\n",
              "#T_1b6f1_row2_col5 {\n",
              "  font-size: 6pt;\n",
              "  background-color: #dadada;\n",
              "  color: #000000;\n",
              "}\n",
              "#T_1b6f1_row2_col6, #T_1b6f1_row15_col2 {\n",
              "  font-size: 6pt;\n",
              "  background-color: #0f0f0f;\n",
              "  color: #f1f1f1;\n",
              "}\n",
              "#T_1b6f1_row2_col9, #T_1b6f1_row2_col10, #T_1b6f1_row2_col12, #T_1b6f1_row3_col9, #T_1b6f1_row3_col10, #T_1b6f1_row3_col12, #T_1b6f1_row3_col13, #T_1b6f1_row3_col14, #T_1b6f1_row4_col13, #T_1b6f1_row4_col14, #T_1b6f1_row5_col14, #T_1b6f1_row5_col15, #T_1b6f1_row6_col15, #T_1b6f1_row7_col15, #T_1b6f1_row8_col15, #T_1b6f1_row9_col14, #T_1b6f1_row9_col15, #T_1b6f1_row10_col14, #T_1b6f1_row10_col15, #T_1b6f1_row12_col9, #T_1b6f1_row12_col10, #T_1b6f1_row12_col12, #T_1b6f1_row12_col13, #T_1b6f1_row12_col14, #T_1b6f1_row12_col15, #T_1b6f1_row13_col9, #T_1b6f1_row13_col10, #T_1b6f1_row13_col12, #T_1b6f1_row13_col13, #T_1b6f1_row13_col14, #T_1b6f1_row13_col15, #T_1b6f1_row14_col10, #T_1b6f1_row14_col15, #T_1b6f1_row17_col9, #T_1b6f1_row17_col10, #T_1b6f1_row18_col9, #T_1b6f1_row18_col10, #T_1b6f1_row18_col12, #T_1b6f1_row18_col13, #T_1b6f1_row18_col14, #T_1b6f1_row18_col15, #T_1b6f1_row19_col10, #T_1b6f1_row19_col12, #T_1b6f1_row19_col13, #T_1b6f1_row19_col14, #T_1b6f1_row19_col15 {\n",
              "  font-size: 6pt;\n",
              "  background-color: #010101;\n",
              "  color: #f1f1f1;\n",
              "}\n",
              "#T_1b6f1_row2_col11, #T_1b6f1_row3_col11, #T_1b6f1_row12_col11, #T_1b6f1_row13_col11, #T_1b6f1_row18_col11, #T_1b6f1_row19_col11 {\n",
              "  font-size: 6pt;\n",
              "  background-color: #020202;\n",
              "  color: #f1f1f1;\n",
              "}\n",
              "#T_1b6f1_row2_col13, #T_1b6f1_row6_col16, #T_1b6f1_row7_col16, #T_1b6f1_row8_col16, #T_1b6f1_row9_col16 {\n",
              "  font-size: 6pt;\n",
              "  background-color: #232323;\n",
              "  color: #f1f1f1;\n",
              "}\n",
              "#T_1b6f1_row2_col14, #T_1b6f1_row19_col7 {\n",
              "  font-size: 6pt;\n",
              "  background-color: #898989;\n",
              "  color: #f1f1f1;\n",
              "}\n",
              "#T_1b6f1_row2_col15, #T_1b6f1_row5_col12, #T_1b6f1_row8_col13, #T_1b6f1_row11_col18, #T_1b6f1_row15_col9, #T_1b6f1_row17_col3, #T_1b6f1_row19_col6 {\n",
              "  font-size: 6pt;\n",
              "  background-color: #fcfcfc;\n",
              "  color: #000000;\n",
              "}\n",
              "#T_1b6f1_row3_col5 {\n",
              "  font-size: 6pt;\n",
              "  background-color: #6e6e6e;\n",
              "  color: #f1f1f1;\n",
              "}\n",
              "#T_1b6f1_row3_col15 {\n",
              "  font-size: 6pt;\n",
              "  background-color: #979797;\n",
              "  color: #f1f1f1;\n",
              "}\n",
              "#T_1b6f1_row4_col5 {\n",
              "  font-size: 6pt;\n",
              "  background-color: #eaeaea;\n",
              "  color: #000000;\n",
              "}\n",
              "#T_1b6f1_row4_col6 {\n",
              "  font-size: 6pt;\n",
              "  background-color: #292929;\n",
              "  color: #f1f1f1;\n",
              "}\n",
              "#T_1b6f1_row4_col8 {\n",
              "  font-size: 6pt;\n",
              "  background-color: #878787;\n",
              "  color: #f1f1f1;\n",
              "}\n",
              "#T_1b6f1_row4_col9, #T_1b6f1_row4_col10, #T_1b6f1_row4_col11, #T_1b6f1_row14_col11, #T_1b6f1_row14_col12, #T_1b6f1_row14_col13 {\n",
              "  font-size: 6pt;\n",
              "  background-color: #909090;\n",
              "  color: #f1f1f1;\n",
              "}\n",
              "#T_1b6f1_row4_col12, #T_1b6f1_row13_col2 {\n",
              "  font-size: 6pt;\n",
              "  background-color: #717171;\n",
              "  color: #f1f1f1;\n",
              "}\n",
              "#T_1b6f1_row4_col15 {\n",
              "  font-size: 6pt;\n",
              "  background-color: #323232;\n",
              "  color: #f1f1f1;\n",
              "}\n",
              "#T_1b6f1_row4_col16 {\n",
              "  font-size: 6pt;\n",
              "  background-color: #eeeeee;\n",
              "  color: #000000;\n",
              "}\n",
              "#T_1b6f1_row5_col7, #T_1b6f1_row11_col8 {\n",
              "  font-size: 6pt;\n",
              "  background-color: #b8b8b8;\n",
              "  color: #000000;\n",
              "}\n",
              "#T_1b6f1_row5_col8 {\n",
              "  font-size: 6pt;\n",
              "  background-color: #fefefe;\n",
              "  color: #000000;\n",
              "}\n",
              "#T_1b6f1_row5_col13 {\n",
              "  font-size: 6pt;\n",
              "  background-color: #636363;\n",
              "  color: #f1f1f1;\n",
              "}\n",
              "#T_1b6f1_row5_col16 {\n",
              "  font-size: 6pt;\n",
              "  background-color: #3a3a3a;\n",
              "  color: #f1f1f1;\n",
              "}\n",
              "#T_1b6f1_row6_col13, #T_1b6f1_row14_col8 {\n",
              "  font-size: 6pt;\n",
              "  background-color: #e4e4e4;\n",
              "  color: #000000;\n",
              "}\n",
              "#T_1b6f1_row6_col14 {\n",
              "  font-size: 6pt;\n",
              "  background-color: #757575;\n",
              "  color: #f1f1f1;\n",
              "}\n",
              "#T_1b6f1_row7_col14 {\n",
              "  font-size: 6pt;\n",
              "  background-color: #9e9e9e;\n",
              "  color: #f1f1f1;\n",
              "}\n",
              "#T_1b6f1_row8_col14 {\n",
              "  font-size: 6pt;\n",
              "  background-color: #6b6b6b;\n",
              "  color: #f1f1f1;\n",
              "}\n",
              "#T_1b6f1_row10_col12 {\n",
              "  font-size: 6pt;\n",
              "  background-color: #ededed;\n",
              "  color: #000000;\n",
              "}\n",
              "#T_1b6f1_row10_col13 {\n",
              "  font-size: 6pt;\n",
              "  background-color: #2c2c2c;\n",
              "  color: #f1f1f1;\n",
              "}\n",
              "#T_1b6f1_row10_col16, #T_1b6f1_row17_col12, #T_1b6f1_row17_col13, #T_1b6f1_row17_col14, #T_1b6f1_row17_col15 {\n",
              "  font-size: 6pt;\n",
              "  background-color: #8e8e8e;\n",
              "  color: #f1f1f1;\n",
              "}\n",
              "#T_1b6f1_row11_col9 {\n",
              "  font-size: 6pt;\n",
              "  background-color: #282828;\n",
              "  color: #f1f1f1;\n",
              "}\n",
              "#T_1b6f1_row11_col16 {\n",
              "  font-size: 6pt;\n",
              "  background-color: #7e7e7e;\n",
              "  color: #f1f1f1;\n",
              "}\n",
              "#T_1b6f1_row12_col2, #T_1b6f1_row15_col14, #T_1b6f1_row19_col19 {\n",
              "  font-size: 6pt;\n",
              "  background-color: #f8f8f8;\n",
              "  color: #000000;\n",
              "}\n",
              "#T_1b6f1_row12_col3, #T_1b6f1_row15_col8 {\n",
              "  font-size: 6pt;\n",
              "  background-color: #dedede;\n",
              "  color: #000000;\n",
              "}\n",
              "#T_1b6f1_row12_col8 {\n",
              "  font-size: 6pt;\n",
              "  background-color: #101010;\n",
              "  color: #f1f1f1;\n",
              "}\n",
              "#T_1b6f1_row12_col18 {\n",
              "  font-size: 6pt;\n",
              "  background-color: #727272;\n",
              "  color: #f1f1f1;\n",
              "}\n",
              "#T_1b6f1_row12_col19 {\n",
              "  font-size: 6pt;\n",
              "  background-color: #e3e3e3;\n",
              "  color: #000000;\n",
              "}\n",
              "#T_1b6f1_row13_col1, #T_1b6f1_row16_col11 {\n",
              "  font-size: 6pt;\n",
              "  background-color: #f7f7f7;\n",
              "  color: #000000;\n",
              "}\n",
              "#T_1b6f1_row13_col3 {\n",
              "  font-size: 6pt;\n",
              "  background-color: #070707;\n",
              "  color: #f1f1f1;\n",
              "}\n",
              "#T_1b6f1_row13_col4 {\n",
              "  font-size: 6pt;\n",
              "  background-color: #bebebe;\n",
              "  color: #000000;\n",
              "}\n",
              "#T_1b6f1_row13_col5 {\n",
              "  font-size: 6pt;\n",
              "  background-color: #fafafa;\n",
              "  color: #000000;\n",
              "}\n",
              "#T_1b6f1_row13_col8 {\n",
              "  font-size: 6pt;\n",
              "  background-color: #1b1b1b;\n",
              "  color: #f1f1f1;\n",
              "}\n",
              "#T_1b6f1_row13_col19, #T_1b6f1_row17_col5 {\n",
              "  font-size: 6pt;\n",
              "  background-color: #131313;\n",
              "  color: #f1f1f1;\n",
              "}\n",
              "#T_1b6f1_row14_col5 {\n",
              "  font-size: 6pt;\n",
              "  background-color: #303030;\n",
              "  color: #f1f1f1;\n",
              "}\n",
              "#T_1b6f1_row14_col6 {\n",
              "  font-size: 6pt;\n",
              "  background-color: #afafaf;\n",
              "  color: #000000;\n",
              "}\n",
              "#T_1b6f1_row14_col9 {\n",
              "  font-size: 6pt;\n",
              "  background-color: #797979;\n",
              "  color: #f1f1f1;\n",
              "}\n",
              "#T_1b6f1_row14_col14 {\n",
              "  font-size: 6pt;\n",
              "  background-color: #525252;\n",
              "  color: #f1f1f1;\n",
              "}\n",
              "#T_1b6f1_row15_col1 {\n",
              "  font-size: 6pt;\n",
              "  background-color: #5e5e5e;\n",
              "  color: #f1f1f1;\n",
              "}\n",
              "#T_1b6f1_row15_col6 {\n",
              "  font-size: 6pt;\n",
              "  background-color: #050505;\n",
              "  color: #f1f1f1;\n",
              "}\n",
              "#T_1b6f1_row15_col7 {\n",
              "  font-size: 6pt;\n",
              "  background-color: #222222;\n",
              "  color: #f1f1f1;\n",
              "}\n",
              "#T_1b6f1_row15_col10, #T_1b6f1_row15_col15, #T_1b6f1_row16_col10, #T_1b6f1_row16_col16 {\n",
              "  font-size: 6pt;\n",
              "  background-color: #f1f1f1;\n",
              "  color: #000000;\n",
              "}\n",
              "#T_1b6f1_row15_col16 {\n",
              "  font-size: 6pt;\n",
              "  background-color: #838383;\n",
              "  color: #f1f1f1;\n",
              "}\n",
              "#T_1b6f1_row16_col2 {\n",
              "  font-size: 6pt;\n",
              "  background-color: #dbdbdb;\n",
              "  color: #000000;\n",
              "}\n",
              "#T_1b6f1_row16_col3 {\n",
              "  font-size: 6pt;\n",
              "  background-color: #656565;\n",
              "  color: #f1f1f1;\n",
              "}\n",
              "#T_1b6f1_row16_col8 {\n",
              "  font-size: 6pt;\n",
              "  background-color: #1e1e1e;\n",
              "  color: #f1f1f1;\n",
              "}\n",
              "#T_1b6f1_row16_col9 {\n",
              "  font-size: 6pt;\n",
              "  background-color: #7a7a7a;\n",
              "  color: #f1f1f1;\n",
              "}\n",
              "#T_1b6f1_row17_col4 {\n",
              "  font-size: 6pt;\n",
              "  background-color: #a0a0a0;\n",
              "  color: #f1f1f1;\n",
              "}\n",
              "#T_1b6f1_row17_col11 {\n",
              "  font-size: 6pt;\n",
              "  background-color: #404040;\n",
              "  color: #f1f1f1;\n",
              "}\n",
              "#T_1b6f1_row17_col16 {\n",
              "  font-size: 6pt;\n",
              "  background-color: #7d7d7d;\n",
              "  color: #f1f1f1;\n",
              "}\n",
              "#T_1b6f1_row18_col5 {\n",
              "  font-size: 6pt;\n",
              "  background-color: #f9f9f9;\n",
              "  color: #000000;\n",
              "}\n",
              "#T_1b6f1_row18_col6 {\n",
              "  font-size: 6pt;\n",
              "  background-color: #929292;\n",
              "  color: #f1f1f1;\n",
              "}\n",
              "#T_1b6f1_row18_col19, #T_1b6f1_row19_col18 {\n",
              "  font-size: 6pt;\n",
              "  background-color: #585858;\n",
              "  color: #f1f1f1;\n",
              "}\n",
              "#T_1b6f1_row19_col8 {\n",
              "  font-size: 6pt;\n",
              "  background-color: #383838;\n",
              "  color: #f1f1f1;\n",
              "}\n",
              "#T_1b6f1_row19_col9 {\n",
              "  font-size: 6pt;\n",
              "  background-color: #0e0e0e;\n",
              "  color: #f1f1f1;\n",
              "}\n",
              "</style>\n",
              "<table id=\"T_1b6f1_\" class=\"dataframe\">\n",
              "  <thead>\n",
              "    <tr>\n",
              "      <th class=\"blank level0\" >&nbsp;</th>\n",
              "      <th class=\"col_heading level0 col0\" >0</th>\n",
              "      <th class=\"col_heading level0 col1\" >1</th>\n",
              "      <th class=\"col_heading level0 col2\" >2</th>\n",
              "      <th class=\"col_heading level0 col3\" >3</th>\n",
              "      <th class=\"col_heading level0 col4\" >4</th>\n",
              "      <th class=\"col_heading level0 col5\" >5</th>\n",
              "      <th class=\"col_heading level0 col6\" >6</th>\n",
              "      <th class=\"col_heading level0 col7\" >7</th>\n",
              "      <th class=\"col_heading level0 col8\" >8</th>\n",
              "      <th class=\"col_heading level0 col9\" >9</th>\n",
              "      <th class=\"col_heading level0 col10\" >10</th>\n",
              "      <th class=\"col_heading level0 col11\" >11</th>\n",
              "      <th class=\"col_heading level0 col12\" >12</th>\n",
              "      <th class=\"col_heading level0 col13\" >13</th>\n",
              "      <th class=\"col_heading level0 col14\" >14</th>\n",
              "      <th class=\"col_heading level0 col15\" >15</th>\n",
              "      <th class=\"col_heading level0 col16\" >16</th>\n",
              "      <th class=\"col_heading level0 col17\" >17</th>\n",
              "      <th class=\"col_heading level0 col18\" >18</th>\n",
              "      <th class=\"col_heading level0 col19\" >19</th>\n",
              "    </tr>\n",
              "  </thead>\n",
              "  <tbody>\n",
              "    <tr>\n",
              "      <th id=\"T_1b6f1_level0_row0\" class=\"row_heading level0 row0\" >0</th>\n",
              "      <td id=\"T_1b6f1_row0_col0\" class=\"data row0 col0\" >0</td>\n",
              "      <td id=\"T_1b6f1_row0_col1\" class=\"data row0 col1\" >0</td>\n",
              "      <td id=\"T_1b6f1_row0_col2\" class=\"data row0 col2\" >0</td>\n",
              "      <td id=\"T_1b6f1_row0_col3\" class=\"data row0 col3\" >0</td>\n",
              "      <td id=\"T_1b6f1_row0_col4\" class=\"data row0 col4\" >0</td>\n",
              "      <td id=\"T_1b6f1_row0_col5\" class=\"data row0 col5\" >0</td>\n",
              "      <td id=\"T_1b6f1_row0_col6\" class=\"data row0 col6\" >0</td>\n",
              "      <td id=\"T_1b6f1_row0_col7\" class=\"data row0 col7\" >0</td>\n",
              "      <td id=\"T_1b6f1_row0_col8\" class=\"data row0 col8\" >0</td>\n",
              "      <td id=\"T_1b6f1_row0_col9\" class=\"data row0 col9\" >0</td>\n",
              "      <td id=\"T_1b6f1_row0_col10\" class=\"data row0 col10\" >0</td>\n",
              "      <td id=\"T_1b6f1_row0_col11\" class=\"data row0 col11\" >0</td>\n",
              "      <td id=\"T_1b6f1_row0_col12\" class=\"data row0 col12\" >0</td>\n",
              "      <td id=\"T_1b6f1_row0_col13\" class=\"data row0 col13\" >0</td>\n",
              "      <td id=\"T_1b6f1_row0_col14\" class=\"data row0 col14\" >0</td>\n",
              "      <td id=\"T_1b6f1_row0_col15\" class=\"data row0 col15\" >0</td>\n",
              "      <td id=\"T_1b6f1_row0_col16\" class=\"data row0 col16\" >0</td>\n",
              "      <td id=\"T_1b6f1_row0_col17\" class=\"data row0 col17\" >0</td>\n",
              "      <td id=\"T_1b6f1_row0_col18\" class=\"data row0 col18\" >0</td>\n",
              "      <td id=\"T_1b6f1_row0_col19\" class=\"data row0 col19\" >0</td>\n",
              "    </tr>\n",
              "    <tr>\n",
              "      <th id=\"T_1b6f1_level0_row1\" class=\"row_heading level0 row1\" >1</th>\n",
              "      <td id=\"T_1b6f1_row1_col0\" class=\"data row1 col0\" >0</td>\n",
              "      <td id=\"T_1b6f1_row1_col1\" class=\"data row1 col1\" >0</td>\n",
              "      <td id=\"T_1b6f1_row1_col2\" class=\"data row1 col2\" >0</td>\n",
              "      <td id=\"T_1b6f1_row1_col3\" class=\"data row1 col3\" >0</td>\n",
              "      <td id=\"T_1b6f1_row1_col4\" class=\"data row1 col4\" >0</td>\n",
              "      <td id=\"T_1b6f1_row1_col5\" class=\"data row1 col5\" >0</td>\n",
              "      <td id=\"T_1b6f1_row1_col6\" class=\"data row1 col6\" >75</td>\n",
              "      <td id=\"T_1b6f1_row1_col7\" class=\"data row1 col7\" >105</td>\n",
              "      <td id=\"T_1b6f1_row1_col8\" class=\"data row1 col8\" >245</td>\n",
              "      <td id=\"T_1b6f1_row1_col9\" class=\"data row1 col9\" >253</td>\n",
              "      <td id=\"T_1b6f1_row1_col10\" class=\"data row1 col10\" >253</td>\n",
              "      <td id=\"T_1b6f1_row1_col11\" class=\"data row1 col11\" >255</td>\n",
              "      <td id=\"T_1b6f1_row1_col12\" class=\"data row1 col12\" >129</td>\n",
              "      <td id=\"T_1b6f1_row1_col13\" class=\"data row1 col13\" >37</td>\n",
              "      <td id=\"T_1b6f1_row1_col14\" class=\"data row1 col14\" >0</td>\n",
              "      <td id=\"T_1b6f1_row1_col15\" class=\"data row1 col15\" >0</td>\n",
              "      <td id=\"T_1b6f1_row1_col16\" class=\"data row1 col16\" >0</td>\n",
              "      <td id=\"T_1b6f1_row1_col17\" class=\"data row1 col17\" >0</td>\n",
              "      <td id=\"T_1b6f1_row1_col18\" class=\"data row1 col18\" >0</td>\n",
              "      <td id=\"T_1b6f1_row1_col19\" class=\"data row1 col19\" >0</td>\n",
              "    </tr>\n",
              "    <tr>\n",
              "      <th id=\"T_1b6f1_level0_row2\" class=\"row_heading level0 row2\" >2</th>\n",
              "      <td id=\"T_1b6f1_row2_col0\" class=\"data row2 col0\" >0</td>\n",
              "      <td id=\"T_1b6f1_row2_col1\" class=\"data row2 col1\" >0</td>\n",
              "      <td id=\"T_1b6f1_row2_col2\" class=\"data row2 col2\" >0</td>\n",
              "      <td id=\"T_1b6f1_row2_col3\" class=\"data row2 col3\" >0</td>\n",
              "      <td id=\"T_1b6f1_row2_col4\" class=\"data row2 col4\" >0</td>\n",
              "      <td id=\"T_1b6f1_row2_col5\" class=\"data row2 col5\" >62</td>\n",
              "      <td id=\"T_1b6f1_row2_col6\" class=\"data row2 col6\" >239</td>\n",
              "      <td id=\"T_1b6f1_row2_col7\" class=\"data row2 col7\" >252</td>\n",
              "      <td id=\"T_1b6f1_row2_col8\" class=\"data row2 col8\" >252</td>\n",
              "      <td id=\"T_1b6f1_row2_col9\" class=\"data row2 col9\" >252</td>\n",
              "      <td id=\"T_1b6f1_row2_col10\" class=\"data row2 col10\" >252</td>\n",
              "      <td id=\"T_1b6f1_row2_col11\" class=\"data row2 col11\" >253</td>\n",
              "      <td id=\"T_1b6f1_row2_col12\" class=\"data row2 col12\" >252</td>\n",
              "      <td id=\"T_1b6f1_row2_col13\" class=\"data row2 col13\" >223</td>\n",
              "      <td id=\"T_1b6f1_row2_col14\" class=\"data row2 col14\" >138</td>\n",
              "      <td id=\"T_1b6f1_row2_col15\" class=\"data row2 col15\" >7</td>\n",
              "      <td id=\"T_1b6f1_row2_col16\" class=\"data row2 col16\" >0</td>\n",
              "      <td id=\"T_1b6f1_row2_col17\" class=\"data row2 col17\" >0</td>\n",
              "      <td id=\"T_1b6f1_row2_col18\" class=\"data row2 col18\" >0</td>\n",
              "      <td id=\"T_1b6f1_row2_col19\" class=\"data row2 col19\" >0</td>\n",
              "    </tr>\n",
              "    <tr>\n",
              "      <th id=\"T_1b6f1_level0_row3\" class=\"row_heading level0 row3\" >3</th>\n",
              "      <td id=\"T_1b6f1_row3_col0\" class=\"data row3 col0\" >0</td>\n",
              "      <td id=\"T_1b6f1_row3_col1\" class=\"data row3 col1\" >0</td>\n",
              "      <td id=\"T_1b6f1_row3_col2\" class=\"data row3 col2\" >0</td>\n",
              "      <td id=\"T_1b6f1_row3_col3\" class=\"data row3 col3\" >0</td>\n",
              "      <td id=\"T_1b6f1_row3_col4\" class=\"data row3 col4\" >0</td>\n",
              "      <td id=\"T_1b6f1_row3_col5\" class=\"data row3 col5\" >162</td>\n",
              "      <td id=\"T_1b6f1_row3_col6\" class=\"data row3 col6\" >252</td>\n",
              "      <td id=\"T_1b6f1_row3_col7\" class=\"data row3 col7\" >252</td>\n",
              "      <td id=\"T_1b6f1_row3_col8\" class=\"data row3 col8\" >252</td>\n",
              "      <td id=\"T_1b6f1_row3_col9\" class=\"data row3 col9\" >252</td>\n",
              "      <td id=\"T_1b6f1_row3_col10\" class=\"data row3 col10\" >252</td>\n",
              "      <td id=\"T_1b6f1_row3_col11\" class=\"data row3 col11\" >253</td>\n",
              "      <td id=\"T_1b6f1_row3_col12\" class=\"data row3 col12\" >252</td>\n",
              "      <td id=\"T_1b6f1_row3_col13\" class=\"data row3 col13\" >252</td>\n",
              "      <td id=\"T_1b6f1_row3_col14\" class=\"data row3 col14\" >252</td>\n",
              "      <td id=\"T_1b6f1_row3_col15\" class=\"data row3 col15\" >126</td>\n",
              "      <td id=\"T_1b6f1_row3_col16\" class=\"data row3 col16\" >0</td>\n",
              "      <td id=\"T_1b6f1_row3_col17\" class=\"data row3 col17\" >0</td>\n",
              "      <td id=\"T_1b6f1_row3_col18\" class=\"data row3 col18\" >0</td>\n",
              "      <td id=\"T_1b6f1_row3_col19\" class=\"data row3 col19\" >0</td>\n",
              "    </tr>\n",
              "    <tr>\n",
              "      <th id=\"T_1b6f1_level0_row4\" class=\"row_heading level0 row4\" >4</th>\n",
              "      <td id=\"T_1b6f1_row4_col0\" class=\"data row4 col0\" >0</td>\n",
              "      <td id=\"T_1b6f1_row4_col1\" class=\"data row4 col1\" >0</td>\n",
              "      <td id=\"T_1b6f1_row4_col2\" class=\"data row4 col2\" >0</td>\n",
              "      <td id=\"T_1b6f1_row4_col3\" class=\"data row4 col3\" >0</td>\n",
              "      <td id=\"T_1b6f1_row4_col4\" class=\"data row4 col4\" >0</td>\n",
              "      <td id=\"T_1b6f1_row4_col5\" class=\"data row4 col5\" >40</td>\n",
              "      <td id=\"T_1b6f1_row4_col6\" class=\"data row4 col6\" >217</td>\n",
              "      <td id=\"T_1b6f1_row4_col7\" class=\"data row4 col7\" >252</td>\n",
              "      <td id=\"T_1b6f1_row4_col8\" class=\"data row4 col8\" >139</td>\n",
              "      <td id=\"T_1b6f1_row4_col9\" class=\"data row4 col9\" >132</td>\n",
              "      <td id=\"T_1b6f1_row4_col10\" class=\"data row4 col10\" >132</td>\n",
              "      <td id=\"T_1b6f1_row4_col11\" class=\"data row4 col11\" >133</td>\n",
              "      <td id=\"T_1b6f1_row4_col12\" class=\"data row4 col12\" >160</td>\n",
              "      <td id=\"T_1b6f1_row4_col13\" class=\"data row4 col13\" >252</td>\n",
              "      <td id=\"T_1b6f1_row4_col14\" class=\"data row4 col14\" >252</td>\n",
              "      <td id=\"T_1b6f1_row4_col15\" class=\"data row4 col15\" >212</td>\n",
              "      <td id=\"T_1b6f1_row4_col16\" class=\"data row4 col16\" >35</td>\n",
              "      <td id=\"T_1b6f1_row4_col17\" class=\"data row4 col17\" >0</td>\n",
              "      <td id=\"T_1b6f1_row4_col18\" class=\"data row4 col18\" >0</td>\n",
              "      <td id=\"T_1b6f1_row4_col19\" class=\"data row4 col19\" >0</td>\n",
              "    </tr>\n",
              "    <tr>\n",
              "      <th id=\"T_1b6f1_level0_row5\" class=\"row_heading level0 row5\" >5</th>\n",
              "      <td id=\"T_1b6f1_row5_col0\" class=\"data row5 col0\" >0</td>\n",
              "      <td id=\"T_1b6f1_row5_col1\" class=\"data row5 col1\" >0</td>\n",
              "      <td id=\"T_1b6f1_row5_col2\" class=\"data row5 col2\" >0</td>\n",
              "      <td id=\"T_1b6f1_row5_col3\" class=\"data row5 col3\" >0</td>\n",
              "      <td id=\"T_1b6f1_row5_col4\" class=\"data row5 col4\" >0</td>\n",
              "      <td id=\"T_1b6f1_row5_col5\" class=\"data row5 col5\" >0</td>\n",
              "      <td id=\"T_1b6f1_row5_col6\" class=\"data row5 col6\" >38</td>\n",
              "      <td id=\"T_1b6f1_row5_col7\" class=\"data row5 col7\" >99</td>\n",
              "      <td id=\"T_1b6f1_row5_col8\" class=\"data row5 col8\" >2</td>\n",
              "      <td id=\"T_1b6f1_row5_col9\" class=\"data row5 col9\" >0</td>\n",
              "      <td id=\"T_1b6f1_row5_col10\" class=\"data row5 col10\" >0</td>\n",
              "      <td id=\"T_1b6f1_row5_col11\" class=\"data row5 col11\" >0</td>\n",
              "      <td id=\"T_1b6f1_row5_col12\" class=\"data row5 col12\" >7</td>\n",
              "      <td id=\"T_1b6f1_row5_col13\" class=\"data row5 col13\" >173</td>\n",
              "      <td id=\"T_1b6f1_row5_col14\" class=\"data row5 col14\" >252</td>\n",
              "      <td id=\"T_1b6f1_row5_col15\" class=\"data row5 col15\" >252</td>\n",
              "      <td id=\"T_1b6f1_row5_col16\" class=\"data row5 col16\" >205</td>\n",
              "      <td id=\"T_1b6f1_row5_col17\" class=\"data row5 col17\" >0</td>\n",
              "      <td id=\"T_1b6f1_row5_col18\" class=\"data row5 col18\" >0</td>\n",
              "      <td id=\"T_1b6f1_row5_col19\" class=\"data row5 col19\" >0</td>\n",
              "    </tr>\n",
              "    <tr>\n",
              "      <th id=\"T_1b6f1_level0_row6\" class=\"row_heading level0 row6\" >6</th>\n",
              "      <td id=\"T_1b6f1_row6_col0\" class=\"data row6 col0\" >0</td>\n",
              "      <td id=\"T_1b6f1_row6_col1\" class=\"data row6 col1\" >0</td>\n",
              "      <td id=\"T_1b6f1_row6_col2\" class=\"data row6 col2\" >0</td>\n",
              "      <td id=\"T_1b6f1_row6_col3\" class=\"data row6 col3\" >0</td>\n",
              "      <td id=\"T_1b6f1_row6_col4\" class=\"data row6 col4\" >0</td>\n",
              "      <td id=\"T_1b6f1_row6_col5\" class=\"data row6 col5\" >0</td>\n",
              "      <td id=\"T_1b6f1_row6_col6\" class=\"data row6 col6\" >0</td>\n",
              "      <td id=\"T_1b6f1_row6_col7\" class=\"data row6 col7\" >0</td>\n",
              "      <td id=\"T_1b6f1_row6_col8\" class=\"data row6 col8\" >0</td>\n",
              "      <td id=\"T_1b6f1_row6_col9\" class=\"data row6 col9\" >0</td>\n",
              "      <td id=\"T_1b6f1_row6_col10\" class=\"data row6 col10\" >0</td>\n",
              "      <td id=\"T_1b6f1_row6_col11\" class=\"data row6 col11\" >0</td>\n",
              "      <td id=\"T_1b6f1_row6_col12\" class=\"data row6 col12\" >0</td>\n",
              "      <td id=\"T_1b6f1_row6_col13\" class=\"data row6 col13\" >48</td>\n",
              "      <td id=\"T_1b6f1_row6_col14\" class=\"data row6 col14\" >157</td>\n",
              "      <td id=\"T_1b6f1_row6_col15\" class=\"data row6 col15\" >252</td>\n",
              "      <td id=\"T_1b6f1_row6_col16\" class=\"data row6 col16\" >222</td>\n",
              "      <td id=\"T_1b6f1_row6_col17\" class=\"data row6 col17\" >0</td>\n",
              "      <td id=\"T_1b6f1_row6_col18\" class=\"data row6 col18\" >0</td>\n",
              "      <td id=\"T_1b6f1_row6_col19\" class=\"data row6 col19\" >0</td>\n",
              "    </tr>\n",
              "    <tr>\n",
              "      <th id=\"T_1b6f1_level0_row7\" class=\"row_heading level0 row7\" >7</th>\n",
              "      <td id=\"T_1b6f1_row7_col0\" class=\"data row7 col0\" >0</td>\n",
              "      <td id=\"T_1b6f1_row7_col1\" class=\"data row7 col1\" >0</td>\n",
              "      <td id=\"T_1b6f1_row7_col2\" class=\"data row7 col2\" >0</td>\n",
              "      <td id=\"T_1b6f1_row7_col3\" class=\"data row7 col3\" >0</td>\n",
              "      <td id=\"T_1b6f1_row7_col4\" class=\"data row7 col4\" >0</td>\n",
              "      <td id=\"T_1b6f1_row7_col5\" class=\"data row7 col5\" >0</td>\n",
              "      <td id=\"T_1b6f1_row7_col6\" class=\"data row7 col6\" >0</td>\n",
              "      <td id=\"T_1b6f1_row7_col7\" class=\"data row7 col7\" >0</td>\n",
              "      <td id=\"T_1b6f1_row7_col8\" class=\"data row7 col8\" >0</td>\n",
              "      <td id=\"T_1b6f1_row7_col9\" class=\"data row7 col9\" >0</td>\n",
              "      <td id=\"T_1b6f1_row7_col10\" class=\"data row7 col10\" >0</td>\n",
              "      <td id=\"T_1b6f1_row7_col11\" class=\"data row7 col11\" >0</td>\n",
              "      <td id=\"T_1b6f1_row7_col12\" class=\"data row7 col12\" >0</td>\n",
              "      <td id=\"T_1b6f1_row7_col13\" class=\"data row7 col13\" >0</td>\n",
              "      <td id=\"T_1b6f1_row7_col14\" class=\"data row7 col14\" >120</td>\n",
              "      <td id=\"T_1b6f1_row7_col15\" class=\"data row7 col15\" >252</td>\n",
              "      <td id=\"T_1b6f1_row7_col16\" class=\"data row7 col16\" >222</td>\n",
              "      <td id=\"T_1b6f1_row7_col17\" class=\"data row7 col17\" >0</td>\n",
              "      <td id=\"T_1b6f1_row7_col18\" class=\"data row7 col18\" >0</td>\n",
              "      <td id=\"T_1b6f1_row7_col19\" class=\"data row7 col19\" >0</td>\n",
              "    </tr>\n",
              "    <tr>\n",
              "      <th id=\"T_1b6f1_level0_row8\" class=\"row_heading level0 row8\" >8</th>\n",
              "      <td id=\"T_1b6f1_row8_col0\" class=\"data row8 col0\" >0</td>\n",
              "      <td id=\"T_1b6f1_row8_col1\" class=\"data row8 col1\" >0</td>\n",
              "      <td id=\"T_1b6f1_row8_col2\" class=\"data row8 col2\" >0</td>\n",
              "      <td id=\"T_1b6f1_row8_col3\" class=\"data row8 col3\" >0</td>\n",
              "      <td id=\"T_1b6f1_row8_col4\" class=\"data row8 col4\" >0</td>\n",
              "      <td id=\"T_1b6f1_row8_col5\" class=\"data row8 col5\" >0</td>\n",
              "      <td id=\"T_1b6f1_row8_col6\" class=\"data row8 col6\" >0</td>\n",
              "      <td id=\"T_1b6f1_row8_col7\" class=\"data row8 col7\" >0</td>\n",
              "      <td id=\"T_1b6f1_row8_col8\" class=\"data row8 col8\" >0</td>\n",
              "      <td id=\"T_1b6f1_row8_col9\" class=\"data row8 col9\" >0</td>\n",
              "      <td id=\"T_1b6f1_row8_col10\" class=\"data row8 col10\" >0</td>\n",
              "      <td id=\"T_1b6f1_row8_col11\" class=\"data row8 col11\" >0</td>\n",
              "      <td id=\"T_1b6f1_row8_col12\" class=\"data row8 col12\" >0</td>\n",
              "      <td id=\"T_1b6f1_row8_col13\" class=\"data row8 col13\" >6</td>\n",
              "      <td id=\"T_1b6f1_row8_col14\" class=\"data row8 col14\" >166</td>\n",
              "      <td id=\"T_1b6f1_row8_col15\" class=\"data row8 col15\" >252</td>\n",
              "      <td id=\"T_1b6f1_row8_col16\" class=\"data row8 col16\" >222</td>\n",
              "      <td id=\"T_1b6f1_row8_col17\" class=\"data row8 col17\" >0</td>\n",
              "      <td id=\"T_1b6f1_row8_col18\" class=\"data row8 col18\" >0</td>\n",
              "      <td id=\"T_1b6f1_row8_col19\" class=\"data row8 col19\" >0</td>\n",
              "    </tr>\n",
              "    <tr>\n",
              "      <th id=\"T_1b6f1_level0_row9\" class=\"row_heading level0 row9\" >9</th>\n",
              "      <td id=\"T_1b6f1_row9_col0\" class=\"data row9 col0\" >0</td>\n",
              "      <td id=\"T_1b6f1_row9_col1\" class=\"data row9 col1\" >0</td>\n",
              "      <td id=\"T_1b6f1_row9_col2\" class=\"data row9 col2\" >0</td>\n",
              "      <td id=\"T_1b6f1_row9_col3\" class=\"data row9 col3\" >0</td>\n",
              "      <td id=\"T_1b6f1_row9_col4\" class=\"data row9 col4\" >0</td>\n",
              "      <td id=\"T_1b6f1_row9_col5\" class=\"data row9 col5\" >0</td>\n",
              "      <td id=\"T_1b6f1_row9_col6\" class=\"data row9 col6\" >0</td>\n",
              "      <td id=\"T_1b6f1_row9_col7\" class=\"data row9 col7\" >0</td>\n",
              "      <td id=\"T_1b6f1_row9_col8\" class=\"data row9 col8\" >0</td>\n",
              "      <td id=\"T_1b6f1_row9_col9\" class=\"data row9 col9\" >0</td>\n",
              "      <td id=\"T_1b6f1_row9_col10\" class=\"data row9 col10\" >0</td>\n",
              "      <td id=\"T_1b6f1_row9_col11\" class=\"data row9 col11\" >0</td>\n",
              "      <td id=\"T_1b6f1_row9_col12\" class=\"data row9 col12\" >0</td>\n",
              "      <td id=\"T_1b6f1_row9_col13\" class=\"data row9 col13\" >129</td>\n",
              "      <td id=\"T_1b6f1_row9_col14\" class=\"data row9 col14\" >252</td>\n",
              "      <td id=\"T_1b6f1_row9_col15\" class=\"data row9 col15\" >252</td>\n",
              "      <td id=\"T_1b6f1_row9_col16\" class=\"data row9 col16\" >222</td>\n",
              "      <td id=\"T_1b6f1_row9_col17\" class=\"data row9 col17\" >0</td>\n",
              "      <td id=\"T_1b6f1_row9_col18\" class=\"data row9 col18\" >0</td>\n",
              "      <td id=\"T_1b6f1_row9_col19\" class=\"data row9 col19\" >0</td>\n",
              "    </tr>\n",
              "    <tr>\n",
              "      <th id=\"T_1b6f1_level0_row10\" class=\"row_heading level0 row10\" >10</th>\n",
              "      <td id=\"T_1b6f1_row10_col0\" class=\"data row10 col0\" >0</td>\n",
              "      <td id=\"T_1b6f1_row10_col1\" class=\"data row10 col1\" >0</td>\n",
              "      <td id=\"T_1b6f1_row10_col2\" class=\"data row10 col2\" >0</td>\n",
              "      <td id=\"T_1b6f1_row10_col3\" class=\"data row10 col3\" >0</td>\n",
              "      <td id=\"T_1b6f1_row10_col4\" class=\"data row10 col4\" >0</td>\n",
              "      <td id=\"T_1b6f1_row10_col5\" class=\"data row10 col5\" >0</td>\n",
              "      <td id=\"T_1b6f1_row10_col6\" class=\"data row10 col6\" >0</td>\n",
              "      <td id=\"T_1b6f1_row10_col7\" class=\"data row10 col7\" >0</td>\n",
              "      <td id=\"T_1b6f1_row10_col8\" class=\"data row10 col8\" >0</td>\n",
              "      <td id=\"T_1b6f1_row10_col9\" class=\"data row10 col9\" >0</td>\n",
              "      <td id=\"T_1b6f1_row10_col10\" class=\"data row10 col10\" >0</td>\n",
              "      <td id=\"T_1b6f1_row10_col11\" class=\"data row10 col11\" >0</td>\n",
              "      <td id=\"T_1b6f1_row10_col12\" class=\"data row10 col12\" >36</td>\n",
              "      <td id=\"T_1b6f1_row10_col13\" class=\"data row10 col13\" >216</td>\n",
              "      <td id=\"T_1b6f1_row10_col14\" class=\"data row10 col14\" >252</td>\n",
              "      <td id=\"T_1b6f1_row10_col15\" class=\"data row10 col15\" >252</td>\n",
              "      <td id=\"T_1b6f1_row10_col16\" class=\"data row10 col16\" >133</td>\n",
              "      <td id=\"T_1b6f1_row10_col17\" class=\"data row10 col17\" >0</td>\n",
              "      <td id=\"T_1b6f1_row10_col18\" class=\"data row10 col18\" >0</td>\n",
              "      <td id=\"T_1b6f1_row10_col19\" class=\"data row10 col19\" >0</td>\n",
              "    </tr>\n",
              "    <tr>\n",
              "      <th id=\"T_1b6f1_level0_row11\" class=\"row_heading level0 row11\" >11</th>\n",
              "      <td id=\"T_1b6f1_row11_col0\" class=\"data row11 col0\" >0</td>\n",
              "      <td id=\"T_1b6f1_row11_col1\" class=\"data row11 col1\" >0</td>\n",
              "      <td id=\"T_1b6f1_row11_col2\" class=\"data row11 col2\" >0</td>\n",
              "      <td id=\"T_1b6f1_row11_col3\" class=\"data row11 col3\" >0</td>\n",
              "      <td id=\"T_1b6f1_row11_col4\" class=\"data row11 col4\" >0</td>\n",
              "      <td id=\"T_1b6f1_row11_col5\" class=\"data row11 col5\" >0</td>\n",
              "      <td id=\"T_1b6f1_row11_col6\" class=\"data row11 col6\" >0</td>\n",
              "      <td id=\"T_1b6f1_row11_col7\" class=\"data row11 col7\" >0</td>\n",
              "      <td id=\"T_1b6f1_row11_col8\" class=\"data row11 col8\" >99</td>\n",
              "      <td id=\"T_1b6f1_row11_col9\" class=\"data row11 col9\" >219</td>\n",
              "      <td id=\"T_1b6f1_row11_col10\" class=\"data row11 col10\" >253</td>\n",
              "      <td id=\"T_1b6f1_row11_col11\" class=\"data row11 col11\" >255</td>\n",
              "      <td id=\"T_1b6f1_row11_col12\" class=\"data row11 col12\" >253</td>\n",
              "      <td id=\"T_1b6f1_row11_col13\" class=\"data row11 col13\" >253</td>\n",
              "      <td id=\"T_1b6f1_row11_col14\" class=\"data row11 col14\" >253</td>\n",
              "      <td id=\"T_1b6f1_row11_col15\" class=\"data row11 col15\" >253</td>\n",
              "      <td id=\"T_1b6f1_row11_col16\" class=\"data row11 col16\" >147</td>\n",
              "      <td id=\"T_1b6f1_row11_col17\" class=\"data row11 col17\" >105</td>\n",
              "      <td id=\"T_1b6f1_row11_col18\" class=\"data row11 col18\" >6</td>\n",
              "      <td id=\"T_1b6f1_row11_col19\" class=\"data row11 col19\" >0</td>\n",
              "    </tr>\n",
              "    <tr>\n",
              "      <th id=\"T_1b6f1_level0_row12\" class=\"row_heading level0 row12\" >12</th>\n",
              "      <td id=\"T_1b6f1_row12_col0\" class=\"data row12 col0\" >0</td>\n",
              "      <td id=\"T_1b6f1_row12_col1\" class=\"data row12 col1\" >0</td>\n",
              "      <td id=\"T_1b6f1_row12_col2\" class=\"data row12 col2\" >15</td>\n",
              "      <td id=\"T_1b6f1_row12_col3\" class=\"data row12 col3\" >57</td>\n",
              "      <td id=\"T_1b6f1_row12_col4\" class=\"data row12 col4\" >0</td>\n",
              "      <td id=\"T_1b6f1_row12_col5\" class=\"data row12 col5\" >0</td>\n",
              "      <td id=\"T_1b6f1_row12_col6\" class=\"data row12 col6\" >0</td>\n",
              "      <td id=\"T_1b6f1_row12_col7\" class=\"data row12 col7\" >0</td>\n",
              "      <td id=\"T_1b6f1_row12_col8\" class=\"data row12 col8\" >238</td>\n",
              "      <td id=\"T_1b6f1_row12_col9\" class=\"data row12 col9\" >252</td>\n",
              "      <td id=\"T_1b6f1_row12_col10\" class=\"data row12 col10\" >252</td>\n",
              "      <td id=\"T_1b6f1_row12_col11\" class=\"data row12 col11\" >253</td>\n",
              "      <td id=\"T_1b6f1_row12_col12\" class=\"data row12 col12\" >252</td>\n",
              "      <td id=\"T_1b6f1_row12_col13\" class=\"data row12 col13\" >252</td>\n",
              "      <td id=\"T_1b6f1_row12_col14\" class=\"data row12 col14\" >252</td>\n",
              "      <td id=\"T_1b6f1_row12_col15\" class=\"data row12 col15\" >252</td>\n",
              "      <td id=\"T_1b6f1_row12_col16\" class=\"data row12 col16\" >252</td>\n",
              "      <td id=\"T_1b6f1_row12_col17\" class=\"data row12 col17\" >252</td>\n",
              "      <td id=\"T_1b6f1_row12_col18\" class=\"data row12 col18\" >158</td>\n",
              "      <td id=\"T_1b6f1_row12_col19\" class=\"data row12 col19\" >50</td>\n",
              "    </tr>\n",
              "    <tr>\n",
              "      <th id=\"T_1b6f1_level0_row13\" class=\"row_heading level0 row13\" >13</th>\n",
              "      <td id=\"T_1b6f1_row13_col0\" class=\"data row13 col0\" >0</td>\n",
              "      <td id=\"T_1b6f1_row13_col1\" class=\"data row13 col1\" >7</td>\n",
              "      <td id=\"T_1b6f1_row13_col2\" class=\"data row13 col2\" >159</td>\n",
              "      <td id=\"T_1b6f1_row13_col3\" class=\"data row13 col3\" >246</td>\n",
              "      <td id=\"T_1b6f1_row13_col4\" class=\"data row13 col4\" >94</td>\n",
              "      <td id=\"T_1b6f1_row13_col5\" class=\"data row13 col5\" >11</td>\n",
              "      <td id=\"T_1b6f1_row13_col6\" class=\"data row13 col6\" >0</td>\n",
              "      <td id=\"T_1b6f1_row13_col7\" class=\"data row13 col7\" >0</td>\n",
              "      <td id=\"T_1b6f1_row13_col8\" class=\"data row13 col8\" >229</td>\n",
              "      <td id=\"T_1b6f1_row13_col9\" class=\"data row13 col9\" >252</td>\n",
              "      <td id=\"T_1b6f1_row13_col10\" class=\"data row13 col10\" >252</td>\n",
              "      <td id=\"T_1b6f1_row13_col11\" class=\"data row13 col11\" >253</td>\n",
              "      <td id=\"T_1b6f1_row13_col12\" class=\"data row13 col12\" >252</td>\n",
              "      <td id=\"T_1b6f1_row13_col13\" class=\"data row13 col13\" >252</td>\n",
              "      <td id=\"T_1b6f1_row13_col14\" class=\"data row13 col14\" >252</td>\n",
              "      <td id=\"T_1b6f1_row13_col15\" class=\"data row13 col15\" >252</td>\n",
              "      <td id=\"T_1b6f1_row13_col16\" class=\"data row13 col16\" >252</td>\n",
              "      <td id=\"T_1b6f1_row13_col17\" class=\"data row13 col17\" >252</td>\n",
              "      <td id=\"T_1b6f1_row13_col18\" class=\"data row13 col18\" >252</td>\n",
              "      <td id=\"T_1b6f1_row13_col19\" class=\"data row13 col19\" >236</td>\n",
              "    </tr>\n",
              "    <tr>\n",
              "      <th id=\"T_1b6f1_level0_row14\" class=\"row_heading level0 row14\" >14</th>\n",
              "      <td id=\"T_1b6f1_row14_col0\" class=\"data row14 col0\" >0</td>\n",
              "      <td id=\"T_1b6f1_row14_col1\" class=\"data row14 col1\" >105</td>\n",
              "      <td id=\"T_1b6f1_row14_col2\" class=\"data row14 col2\" >252</td>\n",
              "      <td id=\"T_1b6f1_row14_col3\" class=\"data row14 col3\" >252</td>\n",
              "      <td id=\"T_1b6f1_row14_col4\" class=\"data row14 col4\" >252</td>\n",
              "      <td id=\"T_1b6f1_row14_col5\" class=\"data row14 col5\" >212</td>\n",
              "      <td id=\"T_1b6f1_row14_col6\" class=\"data row14 col6\" >106</td>\n",
              "      <td id=\"T_1b6f1_row14_col7\" class=\"data row14 col7\" >0</td>\n",
              "      <td id=\"T_1b6f1_row14_col8\" class=\"data row14 col8\" >48</td>\n",
              "      <td id=\"T_1b6f1_row14_col9\" class=\"data row14 col9\" >153</td>\n",
              "      <td id=\"T_1b6f1_row14_col10\" class=\"data row14 col10\" >252</td>\n",
              "      <td id=\"T_1b6f1_row14_col11\" class=\"data row14 col11\" >133</td>\n",
              "      <td id=\"T_1b6f1_row14_col12\" class=\"data row14 col12\" >132</td>\n",
              "      <td id=\"T_1b6f1_row14_col13\" class=\"data row14 col13\" >132</td>\n",
              "      <td id=\"T_1b6f1_row14_col14\" class=\"data row14 col14\" >189</td>\n",
              "      <td id=\"T_1b6f1_row14_col15\" class=\"data row14 col15\" >252</td>\n",
              "      <td id=\"T_1b6f1_row14_col16\" class=\"data row14 col16\" >252</td>\n",
              "      <td id=\"T_1b6f1_row14_col17\" class=\"data row14 col17\" >252</td>\n",
              "      <td id=\"T_1b6f1_row14_col18\" class=\"data row14 col18\" >252</td>\n",
              "      <td id=\"T_1b6f1_row14_col19\" class=\"data row14 col19\" >252</td>\n",
              "    </tr>\n",
              "    <tr>\n",
              "      <th id=\"T_1b6f1_level0_row15\" class=\"row_heading level0 row15\" >15</th>\n",
              "      <td id=\"T_1b6f1_row15_col0\" class=\"data row15 col0\" >0</td>\n",
              "      <td id=\"T_1b6f1_row15_col1\" class=\"data row15 col1\" >74</td>\n",
              "      <td id=\"T_1b6f1_row15_col2\" class=\"data row15 col2\" >239</td>\n",
              "      <td id=\"T_1b6f1_row15_col3\" class=\"data row15 col3\" >252</td>\n",
              "      <td id=\"T_1b6f1_row15_col4\" class=\"data row15 col4\" >252</td>\n",
              "      <td id=\"T_1b6f1_row15_col5\" class=\"data row15 col5\" >252</td>\n",
              "      <td id=\"T_1b6f1_row15_col6\" class=\"data row15 col6\" >248</td>\n",
              "      <td id=\"T_1b6f1_row15_col7\" class=\"data row15 col7\" >223</td>\n",
              "      <td id=\"T_1b6f1_row15_col8\" class=\"data row15 col8\" >57</td>\n",
              "      <td id=\"T_1b6f1_row15_col9\" class=\"data row15 col9\" >6</td>\n",
              "      <td id=\"T_1b6f1_row15_col10\" class=\"data row15 col10\" >29</td>\n",
              "      <td id=\"T_1b6f1_row15_col11\" class=\"data row15 col11\" >0</td>\n",
              "      <td id=\"T_1b6f1_row15_col12\" class=\"data row15 col12\" >0</td>\n",
              "      <td id=\"T_1b6f1_row15_col13\" class=\"data row15 col13\" >0</td>\n",
              "      <td id=\"T_1b6f1_row15_col14\" class=\"data row15 col14\" >14</td>\n",
              "      <td id=\"T_1b6f1_row15_col15\" class=\"data row15 col15\" >29</td>\n",
              "      <td id=\"T_1b6f1_row15_col16\" class=\"data row15 col16\" >143</td>\n",
              "      <td id=\"T_1b6f1_row15_col17\" class=\"data row15 col17\" >252</td>\n",
              "      <td id=\"T_1b6f1_row15_col18\" class=\"data row15 col18\" >252</td>\n",
              "      <td id=\"T_1b6f1_row15_col19\" class=\"data row15 col19\" >252</td>\n",
              "    </tr>\n",
              "    <tr>\n",
              "      <th id=\"T_1b6f1_level0_row16\" class=\"row_heading level0 row16\" >16</th>\n",
              "      <td id=\"T_1b6f1_row16_col0\" class=\"data row16 col0\" >0</td>\n",
              "      <td id=\"T_1b6f1_row16_col1\" class=\"data row16 col1\" >0</td>\n",
              "      <td id=\"T_1b6f1_row16_col2\" class=\"data row16 col2\" >61</td>\n",
              "      <td id=\"T_1b6f1_row16_col3\" class=\"data row16 col3\" >171</td>\n",
              "      <td id=\"T_1b6f1_row16_col4\" class=\"data row16 col4\" >252</td>\n",
              "      <td id=\"T_1b6f1_row16_col5\" class=\"data row16 col5\" >252</td>\n",
              "      <td id=\"T_1b6f1_row16_col6\" class=\"data row16 col6\" >252</td>\n",
              "      <td id=\"T_1b6f1_row16_col7\" class=\"data row16 col7\" >252</td>\n",
              "      <td id=\"T_1b6f1_row16_col8\" class=\"data row16 col8\" >226</td>\n",
              "      <td id=\"T_1b6f1_row16_col9\" class=\"data row16 col9\" >152</td>\n",
              "      <td id=\"T_1b6f1_row16_col10\" class=\"data row16 col10\" >30</td>\n",
              "      <td id=\"T_1b6f1_row16_col11\" class=\"data row16 col11\" >18</td>\n",
              "      <td id=\"T_1b6f1_row16_col12\" class=\"data row16 col12\" >0</td>\n",
              "      <td id=\"T_1b6f1_row16_col13\" class=\"data row16 col13\" >0</td>\n",
              "      <td id=\"T_1b6f1_row16_col14\" class=\"data row16 col14\" >0</td>\n",
              "      <td id=\"T_1b6f1_row16_col15\" class=\"data row16 col15\" >0</td>\n",
              "      <td id=\"T_1b6f1_row16_col16\" class=\"data row16 col16\" >30</td>\n",
              "      <td id=\"T_1b6f1_row16_col17\" class=\"data row16 col17\" >252</td>\n",
              "      <td id=\"T_1b6f1_row16_col18\" class=\"data row16 col18\" >252</td>\n",
              "      <td id=\"T_1b6f1_row16_col19\" class=\"data row16 col19\" >252</td>\n",
              "    </tr>\n",
              "    <tr>\n",
              "      <th id=\"T_1b6f1_level0_row17\" class=\"row_heading level0 row17\" >17</th>\n",
              "      <td id=\"T_1b6f1_row17_col0\" class=\"data row17 col0\" >0</td>\n",
              "      <td id=\"T_1b6f1_row17_col1\" class=\"data row17 col1\" >0</td>\n",
              "      <td id=\"T_1b6f1_row17_col2\" class=\"data row17 col2\" >0</td>\n",
              "      <td id=\"T_1b6f1_row17_col3\" class=\"data row17 col3\" >7</td>\n",
              "      <td id=\"T_1b6f1_row17_col4\" class=\"data row17 col4\" >118</td>\n",
              "      <td id=\"T_1b6f1_row17_col5\" class=\"data row17 col5\" >236</td>\n",
              "      <td id=\"T_1b6f1_row17_col6\" class=\"data row17 col6\" >252</td>\n",
              "      <td id=\"T_1b6f1_row17_col7\" class=\"data row17 col7\" >252</td>\n",
              "      <td id=\"T_1b6f1_row17_col8\" class=\"data row17 col8\" >252</td>\n",
              "      <td id=\"T_1b6f1_row17_col9\" class=\"data row17 col9\" >252</td>\n",
              "      <td id=\"T_1b6f1_row17_col10\" class=\"data row17 col10\" >252</td>\n",
              "      <td id=\"T_1b6f1_row17_col11\" class=\"data row17 col11\" >204</td>\n",
              "      <td id=\"T_1b6f1_row17_col12\" class=\"data row17 col12\" >134</td>\n",
              "      <td id=\"T_1b6f1_row17_col13\" class=\"data row17 col13\" >134</td>\n",
              "      <td id=\"T_1b6f1_row17_col14\" class=\"data row17 col14\" >134</td>\n",
              "      <td id=\"T_1b6f1_row17_col15\" class=\"data row17 col15\" >134</td>\n",
              "      <td id=\"T_1b6f1_row17_col16\" class=\"data row17 col16\" >148</td>\n",
              "      <td id=\"T_1b6f1_row17_col17\" class=\"data row17 col17\" >252</td>\n",
              "      <td id=\"T_1b6f1_row17_col18\" class=\"data row17 col18\" >252</td>\n",
              "      <td id=\"T_1b6f1_row17_col19\" class=\"data row17 col19\" >252</td>\n",
              "    </tr>\n",
              "    <tr>\n",
              "      <th id=\"T_1b6f1_level0_row18\" class=\"row_heading level0 row18\" >18</th>\n",
              "      <td id=\"T_1b6f1_row18_col0\" class=\"data row18 col0\" >0</td>\n",
              "      <td id=\"T_1b6f1_row18_col1\" class=\"data row18 col1\" >0</td>\n",
              "      <td id=\"T_1b6f1_row18_col2\" class=\"data row18 col2\" >0</td>\n",
              "      <td id=\"T_1b6f1_row18_col3\" class=\"data row18 col3\" >0</td>\n",
              "      <td id=\"T_1b6f1_row18_col4\" class=\"data row18 col4\" >0</td>\n",
              "      <td id=\"T_1b6f1_row18_col5\" class=\"data row18 col5\" >12</td>\n",
              "      <td id=\"T_1b6f1_row18_col6\" class=\"data row18 col6\" >129</td>\n",
              "      <td id=\"T_1b6f1_row18_col7\" class=\"data row18 col7\" >252</td>\n",
              "      <td id=\"T_1b6f1_row18_col8\" class=\"data row18 col8\" >252</td>\n",
              "      <td id=\"T_1b6f1_row18_col9\" class=\"data row18 col9\" >252</td>\n",
              "      <td id=\"T_1b6f1_row18_col10\" class=\"data row18 col10\" >252</td>\n",
              "      <td id=\"T_1b6f1_row18_col11\" class=\"data row18 col11\" >253</td>\n",
              "      <td id=\"T_1b6f1_row18_col12\" class=\"data row18 col12\" >252</td>\n",
              "      <td id=\"T_1b6f1_row18_col13\" class=\"data row18 col13\" >252</td>\n",
              "      <td id=\"T_1b6f1_row18_col14\" class=\"data row18 col14\" >252</td>\n",
              "      <td id=\"T_1b6f1_row18_col15\" class=\"data row18 col15\" >252</td>\n",
              "      <td id=\"T_1b6f1_row18_col16\" class=\"data row18 col16\" >252</td>\n",
              "      <td id=\"T_1b6f1_row18_col17\" class=\"data row18 col17\" >252</td>\n",
              "      <td id=\"T_1b6f1_row18_col18\" class=\"data row18 col18\" >252</td>\n",
              "      <td id=\"T_1b6f1_row18_col19\" class=\"data row18 col19\" >183</td>\n",
              "    </tr>\n",
              "    <tr>\n",
              "      <th id=\"T_1b6f1_level0_row19\" class=\"row_heading level0 row19\" >19</th>\n",
              "      <td id=\"T_1b6f1_row19_col0\" class=\"data row19 col0\" >0</td>\n",
              "      <td id=\"T_1b6f1_row19_col1\" class=\"data row19 col1\" >0</td>\n",
              "      <td id=\"T_1b6f1_row19_col2\" class=\"data row19 col2\" >0</td>\n",
              "      <td id=\"T_1b6f1_row19_col3\" class=\"data row19 col3\" >0</td>\n",
              "      <td id=\"T_1b6f1_row19_col4\" class=\"data row19 col4\" >0</td>\n",
              "      <td id=\"T_1b6f1_row19_col5\" class=\"data row19 col5\" >0</td>\n",
              "      <td id=\"T_1b6f1_row19_col6\" class=\"data row19 col6\" >7</td>\n",
              "      <td id=\"T_1b6f1_row19_col7\" class=\"data row19 col7\" >137</td>\n",
              "      <td id=\"T_1b6f1_row19_col8\" class=\"data row19 col8\" >207</td>\n",
              "      <td id=\"T_1b6f1_row19_col9\" class=\"data row19 col9\" >241</td>\n",
              "      <td id=\"T_1b6f1_row19_col10\" class=\"data row19 col10\" >252</td>\n",
              "      <td id=\"T_1b6f1_row19_col11\" class=\"data row19 col11\" >253</td>\n",
              "      <td id=\"T_1b6f1_row19_col12\" class=\"data row19 col12\" >252</td>\n",
              "      <td id=\"T_1b6f1_row19_col13\" class=\"data row19 col13\" >252</td>\n",
              "      <td id=\"T_1b6f1_row19_col14\" class=\"data row19 col14\" >252</td>\n",
              "      <td id=\"T_1b6f1_row19_col15\" class=\"data row19 col15\" >252</td>\n",
              "      <td id=\"T_1b6f1_row19_col16\" class=\"data row19 col16\" >252</td>\n",
              "      <td id=\"T_1b6f1_row19_col17\" class=\"data row19 col17\" >252</td>\n",
              "      <td id=\"T_1b6f1_row19_col18\" class=\"data row19 col18\" >183</td>\n",
              "      <td id=\"T_1b6f1_row19_col19\" class=\"data row19 col19\" >14</td>\n",
              "    </tr>\n",
              "  </tbody>\n",
              "</table>\n"
            ]
          },
          "metadata": {},
          "execution_count": 20
        }
      ],
      "source": [
        "#hide_output\n",
        "im3_t = tensor(im3)\n",
        "df = pd.DataFrame(im3_t[2:22,2:22])\n",
        "df.style.set_properties(**{'font-size':'6pt'}).background_gradient('Greys')"
      ]
    },
    {
      "cell_type": "markdown",
      "metadata": {
        "id": "Ui1zIPvgjlP-"
      },
      "source": [
        "<img width=\"453\" id=\"output_pd_pixels\" src=\"images/att_00058.png\">"
      ]
    },
    {
      "cell_type": "markdown",
      "metadata": {
        "id": "f3o6k1WvjlP-"
      },
      "source": [
        "You can see that the background white pixels are stored as the number 0, black is the number 255, and shades of gray are between the two. The entire image contains 28 pixels across and 28 pixels down, for a total of 784 pixels. (This is much smaller than an image that you would get from a phone camera, which has millions of pixels, but is a convenient size for our initial learning and experiments. We will build up to bigger, full-color images soon.)\n",
        "\n",
        "So, now you've seen what an image looks like to a computer, let's recall our goal: create a model that can recognize 3s and 7s. How might you go about getting a computer to do that?\n",
        "\n",
        "> Warning: Stop and Think!: Before you read on, take a moment to think about how a computer might be able to recognize these two different digits. What kinds of features might it be able to look at? How might it be able to identify these features? How could it combine them together? Learning works best when you try to solve problems yourself, rather than just reading somebody else's answers; so step away from this book for a few minutes, grab a piece of paper and pen, and jot some ideas down…"
      ]
    },
    {
      "cell_type": "markdown",
      "metadata": {
        "id": "rqwYfp6rjlP-"
      },
      "source": [
        "## First Try: Pixel Similarity"
      ]
    },
    {
      "cell_type": "markdown",
      "metadata": {
        "id": "DJUCv4QfjlP_"
      },
      "source": [
        "So, here is a first idea: how about we find the average pixel value for every pixel of the 3s, then do the same for the 7s. This will give us two group averages, defining what we might call the \"ideal\" 3 and 7. Then, to classify an image as one digit or the other, we see which of these two ideal digits the image is most similar to. This certainly seems like it should be better than nothing, so it will make a good baseline."
      ]
    },
    {
      "cell_type": "markdown",
      "metadata": {
        "id": "PbS0ltQ8jlP_"
      },
      "source": [
        "> jargon: Baseline: A simple model which you are confident should perform reasonably well. It should be very simple to implement, and very easy to test, so that you can then test each of your improved ideas, and make sure they are always better than your baseline. Without starting with a sensible baseline, it is very difficult to know whether your super-fancy models are actually any good. One good approach to creating a baseline is doing what we have done here: think of a simple, easy-to-implement model. Another good approach is to search around to find other people that have solved similar problems to yours, and download and run their code on your dataset. Ideally, try both of these!"
      ]
    },
    {
      "cell_type": "markdown",
      "metadata": {
        "id": "Pav4hwrvjlP_"
      },
      "source": [
        "Step one for our simple model is to get the average of pixel values for each of our two groups. In the process of doing this, we will learn a lot of neat Python numeric programming tricks!\n",
        "\n",
        "Let's create a tensor containing all of our 3s stacked together. We already know how to create a tensor containing a single image. To create a tensor containing all the images in a directory, we will first use a Python list comprehension to create a plain list of the single image tensors.\n",
        "\n",
        "We will use Jupyter to do some little checks of our work along the way—in this case, making sure that the number of returned items seems reasonable:"
      ]
    },
    {
      "cell_type": "code",
      "execution_count": 21,
      "metadata": {
        "colab": {
          "base_uri": "https://localhost:8080/"
        },
        "id": "cGGSXe9cjlP_",
        "outputId": "5f67ea41-4e22-436a-e943-890ef6571eaa"
      },
      "outputs": [
        {
          "output_type": "execute_result",
          "data": {
            "text/plain": [
              "(6131, 6265)"
            ]
          },
          "metadata": {},
          "execution_count": 21
        }
      ],
      "source": [
        "seven_tensors = [tensor(Image.open(o)) for o in sevens]\n",
        "three_tensors = [tensor(Image.open(o)) for o in threes]\n",
        "len(three_tensors),len(seven_tensors)"
      ]
    },
    {
      "cell_type": "markdown",
      "metadata": {
        "id": "SepvxAppjlP_"
      },
      "source": [
        "> note: List Comprehensions: List and dictionary comprehensions are a wonderful feature of Python. Many Python programmers use them every day, including the authors of this book—they are part of \"idiomatic Python.\" But programmers coming from other languages may have never seen them before. There are a lot of great tutorials just a web search away, so we won't spend a long time discussing them now. Here is a quick explanation and example to get you started. A list comprehension looks like this: `new_list = [f(o) for o in a_list if o>0]`. This will return every element of `a_list` that is greater than 0, after passing it to the function `f`. There are three parts here: the collection you are iterating over (`a_list`), an optional filter (`if o>0`), and something to do to each element (`f(o)`). It's not only shorter to write but way faster than the alternative ways of creating the same list with a loop."
      ]
    },
    {
      "cell_type": "markdown",
      "metadata": {
        "id": "nsQdJNTKjlQA"
      },
      "source": [
        "We'll also check that one of the images looks okay. Since we now have tensors (which Jupyter by default will print as values), rather than PIL images (which Jupyter by default will display as images), we need to use fastai's `show_image` function to display it:"
      ]
    },
    {
      "cell_type": "code",
      "execution_count": 25,
      "metadata": {
        "colab": {
          "base_uri": "https://localhost:8080/",
          "height": 85
        },
        "id": "scWTOH3djlQA",
        "outputId": "604bdcf4-db0c-492b-f652-c176f3021b90"
      },
      "outputs": [
        {
          "output_type": "display_data",
          "data": {
            "text/plain": [
              "<Figure size 72x72 with 1 Axes>"
            ],
            "image/png": "[encoded data removed]"
          },
          "metadata": {
            "needs_background": "light"
          }
        }
      ],
      "source": [
        "show_image(three_tensors[1]);"
      ]
    },
    {
      "cell_type": "markdown",
      "metadata": {
        "id": "sxCGLLgUjlQA"
      },
      "source": [
        "For every pixel position, we want to compute the average over all the images of the intensity of that pixel. To do this we first combine all the images in this list into a single three-dimensional tensor. The most common way to describe such a tensor is to call it a *rank-3 tensor*. We often need to stack up individual tensors in a collection into a single tensor. Unsurprisingly, PyTorch comes with a function called `stack` that we can use for this purpose.\n",
        "\n",
        "Some operations in PyTorch, such as taking a mean, require us to *cast* our integer types to float types. Since we'll be needing this later, we'll also cast our stacked tensor to `float` now. Casting in PyTorch is as simple as typing the name of the type you wish to cast to, and treating it as a method.\n",
        "\n",
        "Generally when images are floats, the pixel values are expected to be between 0 and 1, so we will also divide by 255 here:"
      ]
    },
    {
      "cell_type": "code",
      "execution_count": 26,
      "metadata": {
        "colab": {
          "base_uri": "https://localhost:8080/"
        },
        "id": "lYnVN58UjlQA",
        "outputId": "5c4b3ec1-385d-4396-d4d4-c9a42dc1d792"
      },
      "outputs": [
        {
          "output_type": "execute_result",
          "data": {
            "text/plain": [
              "torch.Size([6131, 28, 28])"
            ]
          },
          "metadata": {},
          "execution_count": 26
        }
      ],
      "source": [
        "stacked_sevens = torch.stack(seven_tensors).float()/255\n",
        "stacked_threes = torch.stack(three_tensors).float()/255\n",
        "stacked_threes.shape"
      ]
    },
    {
      "cell_type": "markdown",
      "metadata": {
        "id": "6G-Ix7d_jlQA"
      },
      "source": [
        "Perhaps the most important attribute of a tensor is its *shape*. This tells you the length of each axis. In this case, we can see that we have 6,131 images, each of size 28×28 pixels. There is nothing specifically about this tensor that says that the first axis is the number of images, the second is the height, and the third is the width—the semantics of a tensor are entirely up to us, and how we construct it. As far as PyTorch is concerned, it is just a bunch of numbers in memory.\n",
        "\n",
        "The *length* of a tensor's shape is its rank:"
      ]
    },
    {
      "cell_type": "code",
      "execution_count": 27,
      "metadata": {
        "colab": {
          "base_uri": "https://localhost:8080/"
        },
        "id": "cWiyL9wqjlQB",
        "outputId": "ba67f283-0b06-48a2-a3a7-47779ccaba2a"
      },
      "outputs": [
        {
          "output_type": "execute_result",
          "data": {
            "text/plain": [
              "3"
            ]
          },
          "metadata": {},
          "execution_count": 27
        }
      ],
      "source": [
        "len(stacked_threes.shape)"
      ]
    },
    {
      "cell_type": "markdown",
      "metadata": {
        "id": "PTPyaPGEjlQB"
      },
      "source": [
        "It is really important for you to commit to memory and practice these bits of tensor jargon: _rank_ is the number of axes or dimensions in a tensor; _shape_ is the size of each axis of a tensor.\n",
        "\n",
        "> A: Watch out because the term \"dimension\" is sometimes used in two ways. Consider that we live in \"three-dimensonal space\" where a physical position can be described by a 3-vector `v`. But according to PyTorch, the attribute `v.ndim` (which sure looks like the \"number of dimensions\" of `v`) equals one, not three! Why? Because `v` is a vector, which is a tensor of rank one, meaning that it has only one _axis_ (even if that axis has a length of three). In other words, sometimes dimension is used for the size of an axis (\"space is three-dimensional\"); other times, it is used for the rank, or the number of axes (\"a matrix has two dimensions\"). When confused, I find it helpful to translate all statements into terms of rank, axis, and length, which are unambiguous terms."
      ]
    },
    {
      "cell_type": "markdown",
      "metadata": {
        "id": "kiSV9TQGjlQB"
      },
      "source": [
        "We can also get a tensor's rank directly with `ndim`:"
      ]
    },
    {
      "cell_type": "code",
      "execution_count": 28,
      "metadata": {
        "colab": {
          "base_uri": "https://localhost:8080/"
        },
        "id": "OESPtYvAjlQB",
        "outputId": "c5246cea-e555-478b-a7d9-52c0d383961a"
      },
      "outputs": [
        {
          "output_type": "execute_result",
          "data": {
            "text/plain": [
              "3"
            ]
          },
          "metadata": {},
          "execution_count": 28
        }
      ],
      "source": [
        "stacked_threes.ndim"
      ]
    },
    {
      "cell_type": "markdown",
      "metadata": {
        "id": "qf6eRTqsjlQB"
      },
      "source": [
        "Finally, we can compute what the ideal 3 looks like. We calculate the mean of all the image tensors by taking the mean along dimension 0 of our stacked, rank-3 tensor. This is the dimension that indexes over all the images.\n",
        "\n",
        "In other words, for every pixel position, this will compute the average of that pixel over all images. The result will be one value for every pixel position, or a single image. Here it is:"
      ]
    },
    {
      "cell_type": "code",
      "execution_count": 29,
      "metadata": {
        "colab": {
          "base_uri": "https://localhost:8080/",
          "height": 85
        },
        "id": "n4fW6gNxjlQB",
        "outputId": "471b5c2c-132d-4c16-f854-2497cb1d4500"
      },
      "outputs": [
        {
          "output_type": "display_data",
          "data": {
            "text/plain": [
              "<Figure size 72x72 with 1 Axes>"
            ],
            "image/png": "[encoded data removed]"
          },
          "metadata": {
            "needs_background": "light"
          }
        }
      ],
      "source": [
        "mean3 = stacked_threes.mean(0)\n",
        "show_image(mean3);"
      ]
    },
    {
      "cell_type": "markdown",
      "metadata": {
        "id": "pQxc-rrTjlQC"
      },
      "source": [
        "According to this dataset, this is the ideal number 3! (You may not like it, but this is what peak number 3 performance looks like.) You can see how it's very dark where all the images agree it should be dark, but it becomes wispy and blurry where the images disagree. \n",
        "\n",
        "Let's do the same thing for the 7s, but put all the steps together at once to save some time:"
      ]
    },
    {
      "cell_type": "code",
      "execution_count": 30,
      "metadata": {
        "colab": {
          "base_uri": "https://localhost:8080/",
          "height": 85
        },
        "id": "ZVS8IlS2jlQC",
        "outputId": "6235b137-be21-4c20-98ca-98ce6d894545"
      },
      "outputs": [
        {
          "output_type": "display_data",
          "data": {
            "text/plain": [
              "<Figure size 72x72 with 1 Axes>"
            ],
            "image/png": "[encoded data removed]"
          },
          "metadata": {
            "needs_background": "light"
          }
        }
      ],
      "source": [
        "mean7 = stacked_sevens.mean(0)\n",
        "show_image(mean7);"
      ]
    },
    {
      "cell_type": "markdown",
      "metadata": {
        "id": "LjxBfcZijlQC"
      },
      "source": [
        "Let's now pick an arbitrary 3 and measure its *distance* from our \"ideal digits.\"\n",
        "\n",
        "> stop: Stop and Think!: How would you calculate how similar a particular image is to each of our ideal digits? Remember to step away from this book and jot down some ideas before you move on! Research shows that recall and understanding improves dramatically when you are engaged with the learning process by solving problems, experimenting, and trying new ideas yourself\n",
        "\n",
        "Here's a sample 3:"
      ]
    },
    {
      "cell_type": "code",
      "execution_count": 31,
      "metadata": {
        "colab": {
          "base_uri": "https://localhost:8080/",
          "height": 85
        },
        "id": "RTVmi_phjlQC",
        "outputId": "4a7b2f92-f3c8-4341-b51c-ea7953ad7b9f"
      },
      "outputs": [
        {
          "output_type": "display_data",
          "data": {
            "text/plain": [
              "<Figure size 72x72 with 1 Axes>"
            ],
            "image/png": "[encoded data removed]"
          },
          "metadata": {
            "needs_background": "light"
          }
        }
      ],
      "source": [
        "a_3 = stacked_threes[1]\n",
        "show_image(a_3);"
      ]
    },
    {
      "cell_type": "markdown",
      "metadata": {
        "id": "wKFK5IltjlQC"
      },
      "source": [
        "How can we determine its distance from our ideal 3? We can't just add up the differences between the pixels of this image and the ideal digit. Some differences will be positive while others will be negative, and these differences will cancel out, resulting in a situation where an image that is too dark in some places and too light in others might be shown as having zero total differences from the ideal. That would be misleading!\n",
        "\n",
        "To avoid this, there are two main ways data scientists measure distance in this context:\n",
        "\n",
        "- Take the mean of the *absolute value* of differences (absolute value is the function that replaces negative values with positive values). This is called the *mean absolute difference* or *L1 norm*\n",
        "- Take the mean of the *square* of differences (which makes everything positive) and then take the *square root* (which undoes the squaring). This is called the *root mean squared error* (RMSE) or *L2 norm*.\n",
        "\n",
        "> important: It's Okay to Have Forgotten Your Math: In this book we generally assume that you have completed high school math, and remember at least some of it... But everybody forgets some things! It all depends on what you happen to have had reason to practice in the meantime. Perhaps you have forgotten what a _square root_ is, or exactly how they work. No problem! Any time you come across a maths concept that is not explained fully in this book, don't just keep moving on; instead, stop and look it up. Make sure you understand the basic idea, how it works, and why we might be using it. One of the best places to refresh your understanding is Khan Academy. For instance, Khan Academy has a great [introduction to square roots](https://www.khanacademy.org/math/algebra/x2f8bb11595b61c86:rational-exponents-radicals/x2f8bb11595b61c86:radicals/v/understanding-square-roots)."
      ]
    },
    {
      "cell_type": "markdown",
      "metadata": {
        "id": "YwwJZUwEjlQC"
      },
      "source": [
        "Let's try both of these now:"
      ]
    },
    {
      "cell_type": "code",
      "execution_count": 32,
      "metadata": {
        "colab": {
          "base_uri": "https://localhost:8080/"
        },
        "id": "lTyTPK1ojlQD",
        "outputId": "e4e74135-e2f2-4fd7-d549-6f22e31be207"
      },
      "outputs": [
        {
          "output_type": "execute_result",
          "data": {
            "text/plain": [
              "(tensor(0.1114), tensor(0.2021))"
            ]
          },
          "metadata": {},
          "execution_count": 32
        }
      ],
      "source": [
        "dist_3_abs = (a_3 - mean3).abs().mean()\n",
        "dist_3_sqr = ((a_3 - mean3)**2).mean().sqrt()\n",
        "dist_3_abs,dist_3_sqr"
      ]
    },
    {
      "cell_type": "code",
      "execution_count": 33,
      "metadata": {
        "colab": {
          "base_uri": "https://localhost:8080/"
        },
        "id": "ssF5bjVHjlQD",
        "outputId": "73052f8a-ae55-4447-eacb-db37151bcf9c"
      },
      "outputs": [
        {
          "output_type": "execute_result",
          "data": {
            "text/plain": [
              "(tensor(0.1586), tensor(0.3021))"
            ]
          },
          "metadata": {},
          "execution_count": 33
        }
      ],
      "source": [
        "dist_7_abs = (a_3 - mean7).abs().mean()\n",
        "dist_7_sqr = ((a_3 - mean7)**2).mean().sqrt()\n",
        "dist_7_abs,dist_7_sqr"
      ]
    },
    {
      "cell_type": "markdown",
      "metadata": {
        "id": "G8x1ExrRjlQD"
      },
      "source": [
        "In both cases, the distance between our 3 and the \"ideal\" 3 is less than the distance to the ideal 7. So our simple model will give the right prediction in this case."
      ]
    },
    {
      "cell_type": "markdown",
      "metadata": {
        "id": "dzizs3vMjlQD"
      },
      "source": [
        "PyTorch already provides both of these as *loss functions*. You'll find these inside `torch.nn.functional`, which the PyTorch team recommends importing as `F` (and is available by default under that name in fastai):"
      ]
    },
    {
      "cell_type": "code",
      "execution_count": 34,
      "metadata": {
        "colab": {
          "base_uri": "https://localhost:8080/"
        },
        "id": "WHRPlng0jlQD",
        "outputId": "5cbc7c68-0a0f-4841-c794-f418d11183b1"
      },
      "outputs": [
        {
          "output_type": "execute_result",
          "data": {
            "text/plain": [
              "(tensor(0.1586), tensor(0.3021))"
            ]
          },
          "metadata": {},
          "execution_count": 34
        }
      ],
      "source": [
        "F.l1_loss(a_3.float(),mean7), F.mse_loss(a_3,mean7).sqrt()"
      ]
    },
    {
      "cell_type": "markdown",
      "metadata": {
        "id": "XdPAlJwKjlQE"
      },
      "source": [
        "Here `mse` stands for *mean squared error*, and `l1` refers to the standard mathematical jargon for *mean absolute value* (in math it's called the *L1 norm*)."
      ]
    },
    {
      "cell_type": "markdown",
      "metadata": {
        "id": "82ZX-FwOjlQE"
      },
      "source": [
        "> S: Intuitively, the difference between L1 norm and mean squared error (MSE) is that the latter will penalize bigger mistakes more heavily than the former (and be more lenient with small mistakes)."
      ]
    },
    {
      "cell_type": "markdown",
      "metadata": {
        "id": "haQabKzMjlQE"
      },
      "source": [
        "> J: When I first came across this \"L1\" thingie, I looked it up to see what on earth it meant. I found on Google that it is a _vector norm_ using _absolute value_, so looked up _vector norm_ and started reading: _Given a vector space V over a field F of the real or complex numbers, a norm on V is a nonnegative-valued any function p: V → \\[0,+∞) with the following properties: For all a ∈ F and all u, v ∈ V, p(u + v) ≤ p(u) + p(v)..._ Then I stopped reading. \"Ugh, I'll never understand math!\" I thought, for the thousandth time. Since then I've learned that every time these complex mathy bits of jargon come up in practice, it turns out I can replace them with a tiny bit of code! Like, the _L1 loss_ is just equal to `(a-b).abs().mean()`, where `a` and `b` are tensors. I guess mathy folks just think differently than me... I'll make sure in this book that every time some mathy jargon comes up, I'll give you the little bit of code it's equal to as well, and explain in common-sense terms what's going on."
      ]
    },
    {
      "cell_type": "markdown",
      "metadata": {
        "id": "gtZyjVp-jlQE"
      },
      "source": [
        "We just completed various mathematical operations on PyTorch tensors. If you've done some numeric programming in NumPy before, you may recognize these as being similar to NumPy arrays. Let's have a look at those two very important data structures."
      ]
    },
    {
      "cell_type": "markdown",
      "metadata": {
        "id": "umzMNZacjlQE"
      },
      "source": [
        "### NumPy Arrays and PyTorch Tensors"
      ]
    },
    {
      "cell_type": "markdown",
      "metadata": {
        "id": "hZYvWN1UjlQE"
      },
      "source": [
        "[NumPy](https://numpy.org/) is the most widely used library for scientific and numeric programming in Python. It provides very similar functionality and a very similar API to that provided by PyTorch; however, it does not support using the GPU or calculating gradients, which are both critical for deep learning. Therefore, in this book we will generally use PyTorch tensors instead of NumPy arrays, where possible.\n",
        "\n",
        "(Note that fastai adds some features to NumPy and PyTorch to make them a bit more similar to each other. If any code in this book doesn't work on your computer, it's possible that you forgot to include a line like this at the start of your notebook: `from fastai.vision.all import *`.)\n",
        "\n",
        "But what are arrays and tensors, and why should you care?"
      ]
    },
    {
      "cell_type": "markdown",
      "metadata": {
        "id": "YVKj3ujhjlQE"
      },
      "source": [
        "Python is slow compared to many languages. Anything fast in Python, NumPy, or PyTorch is likely to be a wrapper for a compiled object written (and optimized) in another language—specifically C. In fact, **NumPy arrays and PyTorch tensors can finish computations many thousands of times faster than using pure Python.**\n",
        "\n",
        "A NumPy array is a multidimensional table of data, with all items of the same type. Since that can be any type at all, they can even be arrays of arrays, with the innermost arrays potentially being different sizes—this is called a \"jagged array.\" By \"multidimensional table\" we mean, for instance, a list (dimension of one), a table or matrix (dimension of two), a \"table of tables\" or \"cube\" (dimension of three), and so forth. If the items are all of some simple type such as integer or float, then NumPy will store them as a compact C data structure in memory. This is where NumPy shines. NumPy has a wide variety of operators and methods that can run computations on these compact structures at the same speed as optimized C, because they are written in optimized C.\n",
        "\n",
        "A PyTorch tensor is nearly the same thing as a NumPy array, but with an additional restriction that unlocks some additional capabilities. It's the same in that it, too, is a multidimensional table of data, with all items of the same type. However, the restriction is that a tensor cannot use just any old type—it has to use a single basic numeric type for all components. For example, a PyTorch tensor cannot be jagged. It is always a regularly shaped multidimensional rectangular structure.\n",
        "\n",
        "The vast majority of methods and operators supported by NumPy on these structures are also supported by PyTorch, but PyTorch tensors have additional capabilities. One major capability is that these structures can live on the GPU, in which case their computation will be optimized for the GPU and can run much faster (given lots of values to work on). In addition, PyTorch can automatically calculate derivatives of these operations, including combinations of operations. As you'll see, it would be impossible to do deep learning in practice without this capability.\n",
        "\n",
        "> S: If you don't know what C is, don't worry as you won't need it at all. In a nutshell, it's a low-level  (low-level means more similar to the language that computers use internally) language that is very fast compared to Python. To take advantage of its speed while programming in Python, try to avoid as much as possible writing loops, and replace them by commands that work directly on arrays or tensors.\n",
        "\n",
        "Perhaps the most important new coding skill for a Python programmer to learn is how to effectively use the array/tensor APIs. We will be showing lots more tricks later in this book, but here's a summary of the key things you need to know for now."
      ]
    },
    {
      "cell_type": "markdown",
      "metadata": {
        "id": "qQINX7WsjlQF"
      },
      "source": [
        "To create an array or tensor, pass a list (or list of lists, or list of lists of lists, etc.) to `array()` or `tensor()`:"
      ]
    },
    {
      "cell_type": "code",
      "execution_count": 35,
      "metadata": {
        "id": "A0S1T9jkjlQF"
      },
      "outputs": [],
      "source": [
        "data = [[1,2,3],[4,5,6]]\n",
        "arr = array (data)\n",
        "tns = tensor(data)"
      ]
    },
    {
      "cell_type": "code",
      "execution_count": 38,
      "metadata": {
        "colab": {
          "base_uri": "https://localhost:8080/"
        },
        "id": "Z_OkG_RljlQF",
        "outputId": "5b487006-32d9-4484-a0c7-c376eca33514"
      },
      "outputs": [
        {
          "output_type": "execute_result",
          "data": {
            "text/plain": [
              "array([[1, 2, 3],\n",
              "       [4, 5, 6]])"
            ]
          },
          "metadata": {},
          "execution_count": 38
        }
      ],
      "source": [
        "arr  # numpy"
      ]
    },
    {
      "cell_type": "code",
      "execution_count": 39,
      "metadata": {
        "colab": {
          "base_uri": "https://localhost:8080/"
        },
        "id": "GI0nSk-0jlQF",
        "outputId": "b196633b-8307-4754-987e-3cce057c8fb6"
      },
      "outputs": [
        {
          "output_type": "execute_result",
          "data": {
            "text/plain": [
              "tensor([[1, 2, 3],\n",
              "        [4, 5, 6]])"
            ]
          },
          "metadata": {},
          "execution_count": 39
        }
      ],
      "source": [
        "tns  # pytorch"
      ]
    },
    {
      "cell_type": "markdown",
      "metadata": {
        "id": "w1P06vTejlQF"
      },
      "source": [
        "All the operations that follow are shown on tensors, but the syntax and results for NumPy arrays is identical.\n",
        "\n",
        "You can select a row (note that, like lists in Python, tensors are 0-indexed so 1 refers to the second row/column):"
      ]
    },
    {
      "cell_type": "code",
      "execution_count": 40,
      "metadata": {
        "colab": {
          "base_uri": "https://localhost:8080/"
        },
        "id": "s9Kb-oJdjlQF",
        "outputId": "ba324127-12b7-422f-e0ce-6f2ee68c2874"
      },
      "outputs": [
        {
          "output_type": "execute_result",
          "data": {
            "text/plain": [
              "tensor([4, 5, 6])"
            ]
          },
          "metadata": {},
          "execution_count": 40
        }
      ],
      "source": [
        "tns[1]"
      ]
    },
    {
      "cell_type": "markdown",
      "metadata": {
        "id": "vJFL6b_sjlQG"
      },
      "source": [
        "or a column, by using `:` to indicate *all of the first axis* (we sometimes refer to the dimensions of tensors/arrays as *axes*):"
      ]
    },
    {
      "cell_type": "code",
      "execution_count": 41,
      "metadata": {
        "colab": {
          "base_uri": "https://localhost:8080/"
        },
        "id": "yS3qo6aSjlQG",
        "outputId": "afce7551-647c-4143-dd3c-f4ddf5d24472"
      },
      "outputs": [
        {
          "output_type": "execute_result",
          "data": {
            "text/plain": [
              "tensor([2, 5])"
            ]
          },
          "metadata": {},
          "execution_count": 41
        }
      ],
      "source": [
        "tns[:,1]"
      ]
    },
    {
      "cell_type": "markdown",
      "metadata": {
        "id": "0KYsMJeljlQG"
      },
      "source": [
        "You can combine these with Python slice syntax (`[start:end]` with `end` being excluded) to select part of a row or column:"
      ]
    },
    {
      "cell_type": "code",
      "execution_count": null,
      "metadata": {
        "id": "WFkSABX6jlQG",
        "outputId": "6a18c3bd-bbaf-4ca2-8ecd-09076efa2550"
      },
      "outputs": [
        {
          "data": {
            "text/plain": [
              "tensor([5, 6])"
            ]
          },
          "execution_count": null,
          "metadata": {},
          "output_type": "execute_result"
        }
      ],
      "source": [
        "tns[1,1:3]"
      ]
    },
    {
      "cell_type": "markdown",
      "metadata": {
        "id": "LyTYd0GujlQG"
      },
      "source": [
        "And you can use the standard operators such as `+`, `-`, `*`, `/`:"
      ]
    },
    {
      "cell_type": "code",
      "execution_count": 42,
      "metadata": {
        "colab": {
          "base_uri": "https://localhost:8080/"
        },
        "id": "yLpcMisfjlQG",
        "outputId": "5e463bb6-0487-4a3c-a917-c6ad97786545"
      },
      "outputs": [
        {
          "output_type": "execute_result",
          "data": {
            "text/plain": [
              "tensor([[2, 3, 4],\n",
              "        [5, 6, 7]])"
            ]
          },
          "metadata": {},
          "execution_count": 42
        }
      ],
      "source": [
        "tns+1"
      ]
    },
    {
      "cell_type": "markdown",
      "metadata": {
        "id": "-tGg3ByqjlQG"
      },
      "source": [
        "Tensors have a type:"
      ]
    },
    {
      "cell_type": "code",
      "execution_count": 43,
      "metadata": {
        "colab": {
          "base_uri": "https://localhost:8080/",
          "height": 36
        },
        "id": "gw57DvWqjlQH",
        "outputId": "21e39334-1f27-4c23-ec4c-f7974f68a7cb"
      },
      "outputs": [
        {
          "output_type": "execute_result",
          "data": {
            "text/plain": [
              "'torch.LongTensor'"
            ],
            "application/vnd.google.colaboratory.intrinsic+json": {
              "type": "string"
            }
          },
          "metadata": {},
          "execution_count": 43
        }
      ],
      "source": [
        "tns.type()"
      ]
    },
    {
      "cell_type": "markdown",
      "metadata": {
        "id": "MySbx55BjlQH"
      },
      "source": [
        "And will automatically change type as needed, for example from `int` to `float`:"
      ]
    },
    {
      "cell_type": "code",
      "execution_count": 44,
      "metadata": {
        "colab": {
          "base_uri": "https://localhost:8080/"
        },
        "id": "bps24W7wjlQH",
        "outputId": "d9185aa6-cc66-4106-f754-7690ceb0a6c6"
      },
      "outputs": [
        {
          "output_type": "execute_result",
          "data": {
            "text/plain": [
              "tensor([[1.5000, 3.0000, 4.5000],\n",
              "        [6.0000, 7.5000, 9.0000]])"
            ]
          },
          "metadata": {},
          "execution_count": 44
        }
      ],
      "source": [
        "tns*1.5"
      ]
    },
    {
      "cell_type": "markdown",
      "metadata": {
        "id": "81pkIfeBjlQH"
      },
      "source": [
        "So, is our baseline model any good? To quantify this, we must define a metric."
      ]
    },
    {
      "cell_type": "markdown",
      "metadata": {
        "id": "b6Py70rgjlQH"
      },
      "source": [
        "## Computing Metrics Using Broadcasting"
      ]
    },
    {
      "cell_type": "markdown",
      "metadata": {
        "id": "TIGBI0YbjlQH"
      },
      "source": [
        "Recall that a metric is a number that is calculated based on the predictions of our model, and the correct labels in our dataset, in order to tell us how good our model is. For instance, we could use either of the functions we saw in the previous section, mean squared error, or mean absolute error, and take the average of them over the whole dataset. However, neither of these are numbers that are very understandable to most people; in practice, we normally use *accuracy* as the metric for classification models.\n",
        "\n",
        "As we've discussed, we want to calculate our metric over a *validation set*. This is so that we don't inadvertently overfit—that is, train a model to work well only on our training data. This is not really a risk with the pixel similarity model we're using here as a first try, since it has no trained components, but we'll use a validation set anyway to follow normal practices and to be ready for our second try later.\n",
        "\n",
        "To get a validation set we need to remove some of the data from training entirely, so it is not seen by the model at all. As it turns out, the creators of the MNIST dataset have already done this for us. Do you remember how there was a whole separate directory called *valid*? That's what this directory is for!\n",
        "\n",
        "So to start with, let's create tensors for our 3s and 7s from that directory. These are the tensors we will use to calculate a metric measuring the quality of our first-try model, which measures distance from an ideal image:"
      ]
    },
    {
      "cell_type": "code",
      "execution_count": 45,
      "metadata": {
        "colab": {
          "base_uri": "https://localhost:8080/"
        },
        "id": "sH2PfDobjlQH",
        "outputId": "f1fa2eac-3924-44bf-df3e-066c6295f82b"
      },
      "outputs": [
        {
          "output_type": "execute_result",
          "data": {
            "text/plain": [
              "(torch.Size([1010, 28, 28]), torch.Size([1028, 28, 28]))"
            ]
          },
          "metadata": {},
          "execution_count": 45
        }
      ],
      "source": [
        "valid_3_tens = torch.stack([tensor(Image.open(o)) \n",
        "                            for o in (path/'valid'/'3').ls()])\n",
        "valid_3_tens = valid_3_tens.float()/255\n",
        "valid_7_tens = torch.stack([tensor(Image.open(o)) \n",
        "                            for o in (path/'valid'/'7').ls()])\n",
        "valid_7_tens = valid_7_tens.float()/255\n",
        "valid_3_tens.shape,valid_7_tens.shape"
      ]
    },
    {
      "cell_type": "markdown",
      "metadata": {
        "id": "Wl6fEENpjlQI"
      },
      "source": [
        "It's good to get in the habit of checking shapes as you go. Here we see two tensors, one representing the 3s validation set of 1,010 images of size 28×28, and one representing the 7s validation set of 1,028 images of size 28×28.\n",
        "\n",
        "We ultimately want to write a function, `is_3`, that will decide if an arbitrary image is a 3 or a 7. It will do this by deciding which of our two \"ideal digits\" this arbitrary image is closer to. For that we need to define a notion of distance—that is, a function that calculates the distance between two images.\n",
        "\n",
        "We can write a simple function that calculates the mean absolute error using an expression very similar to the one we wrote in the last section:"
      ]
    },
    {
      "cell_type": "code",
      "execution_count": 46,
      "metadata": {
        "colab": {
          "base_uri": "https://localhost:8080/"
        },
        "id": "ZQAR_5PDjlQI",
        "outputId": "ba1b860b-47d0-4d94-ec97-c7be8d63b8e3"
      },
      "outputs": [
        {
          "output_type": "execute_result",
          "data": {
            "text/plain": [
              "tensor(0.1114)"
            ]
          },
          "metadata": {},
          "execution_count": 46
        }
      ],
      "source": [
        "def mnist_distance(a,b): return (a-b).abs().mean((-1,-2))\n",
        "mnist_distance(a_3, mean3)"
      ]
    },
    {
      "cell_type": "markdown",
      "metadata": {
        "id": "rPigthwQjlQI"
      },
      "source": [
        "This is the same value we previously calculated for the distance between these two images, the ideal 3 `mean3` and the arbitrary sample 3 `a_3`, which are both single-image tensors with a shape of `[28,28]`.\n",
        "\n",
        "But in order to calculate a metric for overall accuracy, we will need to calculate the distance to the ideal 3 for _every_ image in the validation set. How do we do that calculation? We could write a loop over all of the single-image tensors that are stacked within our validation set tensor, `valid_3_tens`, which has a shape of `[1010,28,28]` representing 1,010 images. But there is a better way.\n",
        "\n",
        "Something very interesting happens when we take this exact same distance function, designed for comparing two single images, but pass in as an argument `valid_3_tens`, the tensor that represents the 3s validation set:"
      ]
    },
    {
      "cell_type": "code",
      "execution_count": 47,
      "metadata": {
        "colab": {
          "base_uri": "https://localhost:8080/"
        },
        "id": "EK4OvZWPjlQI",
        "outputId": "37cd4758-f19c-4a09-a106-7a2c617200ab"
      },
      "outputs": [
        {
          "output_type": "execute_result",
          "data": {
            "text/plain": [
              "(tensor([0.1135, 0.1287, 0.1583,  ..., 0.1037, 0.1102, 0.1210]),\n",
              " torch.Size([1010]))"
            ]
          },
          "metadata": {},
          "execution_count": 47
        }
      ],
      "source": [
        "valid_3_dist = mnist_distance(valid_3_tens, mean3)\n",
        "valid_3_dist, valid_3_dist.shape"
      ]
    },
    {
      "cell_type": "markdown",
      "metadata": {
        "id": "AkWonJnVjlQI"
      },
      "source": [
        "Instead of complaining about shapes not matching, it returned the distance for every single image as a vector (i.e., a rank-1 tensor) of length 1,010 (the number of 3s in our validation set). How did that happen?\n",
        "\n",
        "Take another look at our function `mnist_distance`, and you'll see we have there the subtraction `(a-b)`. The magic trick is that PyTorch, when it tries to perform a simple subtraction operation between two tensors of different ranks, will use *broadcasting*. That is, it will automatically expand the tensor with the smaller rank to have the same size as the one with the larger rank. Broadcasting is an important capability that makes tensor code much easier to write.\n",
        "\n",
        "After broadcasting so the two argument tensors have the same rank, PyTorch applies its usual logic for two tensors of the same rank: it performs the operation on each corresponding element of the two tensors, and returns the tensor result. For instance:"
      ]
    },
    {
      "cell_type": "code",
      "execution_count": 49,
      "metadata": {
        "colab": {
          "base_uri": "https://localhost:8080/"
        },
        "id": "IxtebgrrjlQI",
        "outputId": "740f33d9-5ae5-41ab-d868-d49806462d56"
      },
      "outputs": [
        {
          "output_type": "execute_result",
          "data": {
            "text/plain": [
              "tensor([2, 3, 4])"
            ]
          },
          "metadata": {},
          "execution_count": 49
        }
      ],
      "source": [
        "tensor([1,2,3]) + tensor(1)"
      ]
    },
    {
      "cell_type": "markdown",
      "metadata": {
        "id": "86-6xheTjlQJ"
      },
      "source": [
        "So in this case, PyTorch treats `mean3`, a rank-2 tensor representing a single image, as if it were 1,010 copies of the same image, and then subtracts each of those copies from each 3 in our validation set. What shape would you expect this tensor to have? Try to figure it out yourself before you look at the answer below:"
      ]
    },
    {
      "cell_type": "code",
      "execution_count": 50,
      "metadata": {
        "colab": {
          "base_uri": "https://localhost:8080/"
        },
        "id": "PKF1orFPjlQJ",
        "outputId": "60dda389-2a41-41ec-8c6e-740f10d43ef3"
      },
      "outputs": [
        {
          "output_type": "execute_result",
          "data": {
            "text/plain": [
              "torch.Size([1010, 28, 28])"
            ]
          },
          "metadata": {},
          "execution_count": 50
        }
      ],
      "source": [
        "(valid_3_tens-mean3).shape"
      ]
    },
    {
      "cell_type": "markdown",
      "metadata": {
        "id": "4oBSmyXJjlQJ"
      },
      "source": [
        "We are calculating the difference between our \"ideal 3\" and each of the 1,010 3s in the validation set, for each of 28×28 images, resulting in the shape `[1010,28,28]`.\n",
        "\n",
        "There are a couple of important points about how broadcasting is implemented, which make it valuable not just for expressivity but also for performance:\n",
        "\n",
        "- PyTorch doesn't *actually* copy `mean3` 1,010 times. It *pretends* it were a tensor of that shape, but doesn't actually allocate any additional memory\n",
        "- It does the whole calculation in C (or, if you're using a GPU, in CUDA, the equivalent of C on the GPU), tens of thousands of times faster than pure Python (up to millions of times faster on a GPU!).\n",
        "\n",
        "This is true of all broadcasting and elementwise operations and functions done in PyTorch. *It's the most important technique for you to know to create efficient PyTorch code.*\n",
        "\n",
        "Next in `mnist_distance` we see `abs`. You might be able to guess now what this does when applied to a tensor. It applies the method to each individual element in the tensor, and returns a tensor of the results (that is, it applies the method \"elementwise\"). So in this case, we'll get back 1,010 matrices of absolute values.\n",
        "\n",
        "Finally, our function calls `mean((-1,-2))`. The tuple `(-1,-2)` represents a range of axes. In Python, `-1` refers to the last element, and `-2` refers to the second-to-last. So in this case, this tells PyTorch that we want to take the mean ranging over the values indexed by the last two axes of the tensor. The last two axes are the horizontal and vertical dimensions of an image. After taking the mean over the last two axes, we are left with just the first tensor axis, which indexes over our images, which is why our final size was `(1010)`. In other words, for every image, we averaged the intensity of all the pixels in that image.\n",
        "\n",
        "We'll be learning lots more about broadcasting throughout this book, especially in <<chapter_foundations>>, and will be practicing it regularly too.\n",
        "\n",
        "We can use `mnist_distance` to figure out whether an image is a 3 or not by using the following logic: if the distance between the digit in question and the ideal 3 is less than the distance to the ideal 7, then it's a 3. This function will automatically do broadcasting and be applied elementwise, just like all PyTorch functions and operators:"
      ]
    },
    {
      "cell_type": "code",
      "execution_count": 51,
      "metadata": {
        "id": "x_mXyfWnjlQJ"
      },
      "outputs": [],
      "source": [
        "def is_3(x): return mnist_distance(x,mean3) < mnist_distance(x,mean7)"
      ]
    },
    {
      "cell_type": "markdown",
      "metadata": {
        "id": "tHVr7YTHjlQJ"
      },
      "source": [
        "Let's test it on our example case:"
      ]
    },
    {
      "cell_type": "code",
      "execution_count": 52,
      "metadata": {
        "colab": {
          "base_uri": "https://localhost:8080/"
        },
        "id": "RALcxwMTjlQJ",
        "outputId": "49cb1477-f36d-4d05-a5a5-14d24838b9a9"
      },
      "outputs": [
        {
          "output_type": "execute_result",
          "data": {
            "text/plain": [
              "(tensor(True), tensor(1.))"
            ]
          },
          "metadata": {},
          "execution_count": 52
        }
      ],
      "source": [
        "is_3(a_3), is_3(a_3).float()"
      ]
    },
    {
      "cell_type": "markdown",
      "metadata": {
        "id": "2Q6TtdSijlQJ"
      },
      "source": [
        "Note that when we convert the Boolean response to a float, we get `1.0` for `True` and `0.0` for `False`. Thanks to broadcasting, we can also test it on the full validation set of 3s:"
      ]
    },
    {
      "cell_type": "code",
      "execution_count": 53,
      "metadata": {
        "colab": {
          "base_uri": "https://localhost:8080/"
        },
        "id": "OCQee1tPjlQK",
        "outputId": "ef566d11-9c49-4844-d0eb-8897d01001da"
      },
      "outputs": [
        {
          "output_type": "execute_result",
          "data": {
            "text/plain": [
              "tensor([True, True, True,  ..., True, True, True])"
            ]
          },
          "metadata": {},
          "execution_count": 53
        }
      ],
      "source": [
        "is_3(valid_3_tens)"
      ]
    },
    {
      "cell_type": "markdown",
      "metadata": {
        "id": "VEjk8yuPjlQK"
      },
      "source": [
        "Now we can calculate the accuracy for each of the 3s and 7s by taking the average of that function for all 3s and its inverse for all 7s:"
      ]
    },
    {
      "cell_type": "code",
      "execution_count": 55,
      "metadata": {
        "colab": {
          "base_uri": "https://localhost:8080/"
        },
        "id": "7vG_oUQAjlQK",
        "outputId": "70345b39-0705-42bd-e6fc-dd32b6971660"
      },
      "outputs": [
        {
          "output_type": "execute_result",
          "data": {
            "text/plain": [
              "(tensor(0.9168), tensor(0.9854), tensor(0.9511))"
            ]
          },
          "metadata": {},
          "execution_count": 55
        }
      ],
      "source": [
        "accuracy_3s =      is_3(valid_3_tens).float() .mean()\n",
        "accuracy_7s = (1 - is_3(valid_7_tens).float()).mean()\n",
        "\n",
        "accuracy_3s,accuracy_7s,(accuracy_3s+accuracy_7s)/2"
      ]
    },
    {
      "cell_type": "markdown",
      "metadata": {
        "id": "UPejDE8UjlQK"
      },
      "source": [
        "This looks like a pretty good start! We're getting over 90% accuracy on both 3s and 7s, and we've seen how to define a metric conveniently using broadcasting.\n",
        "\n",
        "But let's be honest: 3s and 7s are very different-looking digits. And we're only classifying 2 out of the 10 possible digits so far. So we're going to need to do better!\n",
        "\n",
        "To do better, perhaps it is time to try a system that does some real learning—that is, that can automatically modify itself to improve its performance. In other words, it's time to talk about the training process, and SGD."
      ]
    },
    {
      "cell_type": "markdown",
      "metadata": {
        "id": "HsrJtoyBjlQK"
      },
      "source": [
        "## Stochastic Gradient Descent (SGD)"
      ]
    },
    {
      "cell_type": "markdown",
      "metadata": {
        "id": "K5VrGKpfjlQK"
      },
      "source": [
        "Do you remember the way that Arthur Samuel described machine learning, which we quoted in <<chapter_intro>>?\n",
        "\n",
        "> : Suppose we arrange for some automatic means of testing the effectiveness of any current weight assignment in terms of actual performance and provide a mechanism for altering the weight assignment so as to maximize the performance. We need not go into the details of such a procedure to see that it could be made entirely automatic and to see that a machine so programmed would \"learn\" from its experience.\n",
        "\n",
        "As we discussed, this is the key to allowing us to have a model that can get better and better—that can learn. But our pixel similarity approach does not really do this. We do not have any kind of weight assignment, or any way of improving based on testing the effectiveness of a weight assignment. In other words, we can't really improve our pixel similarity approach by modifying a set of parameters. In order to take advantage of the power of deep learning, we will first have to represent our task in the way that Arthur Samuel described it.\n",
        "\n",
        "Instead of trying to find the similarity between an image and an \"ideal image,\" we could instead look at each individual pixel and come up with a set of weights for each one, such that the highest weights are associated with those pixels most likely to be black for a particular category. For instance, pixels toward the bottom right are not very likely to be activated for a 7, so they should have a low weight for a 7, but they are likely to be activated for an 8, so they should have a high weight for an 8. This can be represented as a function and set of weight values for each possible category—for instance the probability of being the number 8:\n",
        "\n",
        "```\n",
        "def pr_eight(x,w): return (x*w).sum()\n",
        "```"
      ]
    },
    {
      "cell_type": "markdown",
      "metadata": {
        "id": "b0F2g_SJjlQK"
      },
      "source": [
        "Here we are assuming that `x` is the image, represented as a vector—in other words, with all of the rows stacked up end to end into a single long line. And we are assuming that the weights are a vector `w`. If we have this function, then we just need some way to update the weights to make them a little bit better. With such an approach, we can repeat that step a number of times, making the weights better and better, until they are as good as we can make them.\n",
        "\n",
        "We want to find the specific values for the vector `w` that causes the result of our function to be high for those images that are actually 8s, and low for those images that are not. Searching for the best vector `w` is a way to search for the best function for recognising 8s. (Because we are not yet using a deep neural network, we are limited by what our function can actually do—we are going to fix that constraint later in this chapter.) \n",
        "\n",
        "To be more specific, here are the steps that we are going to require, to turn this function into a machine learning classifier:\n",
        "\n",
        "1. *Initialize* the weights.\n",
        "1. For each image, use these weights to *predict* whether it appears to be a 3 or a 7.\n",
        "1. Based on these predictions, calculate how good the model is (its *loss*).\n",
        "1. Calculate the *gradient*, which measures for each weight, how changing that weight would change the loss\n",
        "1. *Step* (that is, change) all the weights based on that calculation.\n",
        "1. Go back to the step 2, and *repeat* the process.\n",
        "1. Iterate until you decide to *stop* the training process (for instance, because the model is good enough or you don't want to wait any longer)."
      ]
    },
    {
      "cell_type": "markdown",
      "metadata": {
        "id": "hQPrx5XOjlQL"
      },
      "source": [
        "These seven steps, illustrated in <<gradient_descent>>, are the key to the training of all deep learning models. That deep learning turns out to rely entirely on these steps is extremely surprising and counterintuitive. It's amazing that this process can solve such complex problems. But, as you'll see, it really does!"
      ]
    },
    {
      "cell_type": "code",
      "execution_count": null,
      "metadata": {
        "hide_input": true,
        "id": "947MY1oDjlQL",
        "outputId": "b005b4e8-5d1a-4abc-82f9-484d2e2c8bf1"
      },
      "outputs": [
        {
          "data": {
            "image/svg+xml": [
              "<?xml version=\"1.0\" encoding=\"UTF-8\" standalone=\"no\"?>\n",
              "<!DOCTYPE svg PUBLIC \"-//W3C//DTD SVG 1.1//EN\"\n",
              " \"http://www.w3.org/Graphics/SVG/1.1/DTD/svg11.dtd\">\n",
              "<!-- Generated by graphviz version 2.40.1 (20161225.0304)\n",
              " -->\n",
              "<!-- Title: G Pages: 1 -->\n",
              "<svg width=\"591pt\" height=\"78pt\"\n",
              " viewBox=\"0.00 0.00 591.49 78.00\" xmlns=\"http://www.w3.org/2000/svg\" xmlns:xlink=\"http://www.w3.org/1999/xlink\">\n",
              "<g id=\"graph0\" class=\"graph\" transform=\"scale(1 1) rotate(0) translate(4 74)\">\n",
              "<title>G</title>\n",
              "<polygon fill=\"#ffffff\" stroke=\"transparent\" points=\"-4,4 -4,-74 587.4867,-74 587.4867,4 -4,4\"/>\n",
              "<!-- init -->\n",
              "<g id=\"node1\" class=\"node\">\n",
              "<title>init</title>\n",
              "<ellipse fill=\"none\" stroke=\"#000000\" cx=\"27\" cy=\"-18\" rx=\"27\" ry=\"18\"/>\n",
              "<text text-anchor=\"middle\" x=\"27\" y=\"-14.3\" font-family=\"Times,serif\" font-size=\"14.00\" fill=\"#000000\">init</text>\n",
              "</g>\n",
              "<!-- predict -->\n",
              "<g id=\"node2\" class=\"node\">\n",
              "<title>predict</title>\n",
              "<ellipse fill=\"none\" stroke=\"#000000\" cx=\"126.0969\" cy=\"-18\" rx=\"35.194\" ry=\"18\"/>\n",
              "<text text-anchor=\"middle\" x=\"126.0969\" y=\"-14.3\" font-family=\"Times,serif\" font-size=\"14.00\" fill=\"#000000\">predict</text>\n",
              "</g>\n",
              "<!-- init&#45;&gt;predict -->\n",
              "<g id=\"edge1\" class=\"edge\">\n",
              "<title>init&#45;&gt;predict</title>\n",
              "<path fill=\"none\" stroke=\"#000000\" d=\"M54.0787,-18C62.3227,-18 71.6196,-18 80.7269,-18\"/>\n",
              "<polygon fill=\"#000000\" stroke=\"#000000\" points=\"80.8626,-21.5001 90.8626,-18 80.8625,-14.5001 80.8626,-21.5001\"/>\n",
              "</g>\n",
              "<!-- loss -->\n",
              "<g id=\"node3\" class=\"node\">\n",
              "<title>loss</title>\n",
              "<ellipse fill=\"none\" stroke=\"#000000\" cx=\"225.1938\" cy=\"-52\" rx=\"27\" ry=\"18\"/>\n",
              "<text text-anchor=\"middle\" x=\"225.1938\" y=\"-48.3\" font-family=\"Times,serif\" font-size=\"14.00\" fill=\"#000000\">loss</text>\n",
              "</g>\n",
              "<!-- predict&#45;&gt;loss -->\n",
              "<g id=\"edge2\" class=\"edge\">\n",
              "<title>predict&#45;&gt;loss</title>\n",
              "<path fill=\"none\" stroke=\"#000000\" d=\"M155.2932,-28.0172C166.6224,-31.9043 179.6698,-36.3808 191.4018,-40.406\"/>\n",
              "<polygon fill=\"#000000\" stroke=\"#000000\" points=\"190.2859,-43.7234 200.8806,-43.6582 192.5577,-37.1023 190.2859,-43.7234\"/>\n",
              "</g>\n",
              "<!-- gradient -->\n",
              "<g id=\"node4\" class=\"node\">\n",
              "<title>gradient</title>\n",
              "<ellipse fill=\"none\" stroke=\"#000000\" cx=\"361.8403\" cy=\"-52\" rx=\"39.7935\" ry=\"18\"/>\n",
              "<text text-anchor=\"middle\" x=\"361.8403\" y=\"-48.3\" font-family=\"Times,serif\" font-size=\"14.00\" fill=\"#000000\">gradient</text>\n",
              "</g>\n",
              "<!-- loss&#45;&gt;gradient -->\n",
              "<g id=\"edge3\" class=\"edge\">\n",
              "<title>loss&#45;&gt;gradient</title>\n",
              "<path fill=\"none\" stroke=\"#000000\" d=\"M252.5178,-52C269.4967,-52 291.836,-52 311.8929,-52\"/>\n",
              "<polygon fill=\"#000000\" stroke=\"#000000\" points=\"312.1329,-55.5001 322.1329,-52 312.1328,-48.5001 312.1329,-55.5001\"/>\n",
              "</g>\n",
              "<!-- step -->\n",
              "<g id=\"node5\" class=\"node\">\n",
              "<title>step</title>\n",
              "<ellipse fill=\"none\" stroke=\"#000000\" cx=\"465.4867\" cy=\"-18\" rx=\"27\" ry=\"18\"/>\n",
              "<text text-anchor=\"middle\" x=\"465.4867\" y=\"-14.3\" font-family=\"Times,serif\" font-size=\"14.00\" fill=\"#000000\">step</text>\n",
              "</g>\n",
              "<!-- gradient&#45;&gt;step -->\n",
              "<g id=\"edge4\" class=\"edge\">\n",
              "<title>gradient&#45;&gt;step</title>\n",
              "<path fill=\"none\" stroke=\"#000000\" d=\"M394.0665,-41.4286C405.9515,-37.5298 419.4492,-33.1021 431.4862,-29.1535\"/>\n",
              "<polygon fill=\"#000000\" stroke=\"#000000\" points=\"432.7754,-32.4142 441.1862,-25.9715 430.5935,-25.7629 432.7754,-32.4142\"/>\n",
              "</g>\n",
              "<!-- step&#45;&gt;predict -->\n",
              "<g id=\"edge6\" class=\"edge\">\n",
              "<title>step&#45;&gt;predict</title>\n",
              "<path fill=\"none\" stroke=\"#000000\" d=\"M438.4132,-18C380.3272,-18 243.2155,-18 171.5401,-18\"/>\n",
              "<polygon fill=\"#000000\" stroke=\"#000000\" points=\"171.4571,-14.5001 161.4571,-18 171.4571,-21.5001 171.4571,-14.5001\"/>\n",
              "<text text-anchor=\"middle\" x=\"287.1938\" y=\"-21.8\" font-family=\"Times,serif\" font-size=\"14.00\" fill=\"#000000\">repeat</text>\n",
              "</g>\n",
              "<!-- stop -->\n",
              "<g id=\"node6\" class=\"node\">\n",
              "<title>stop</title>\n",
              "<ellipse fill=\"none\" stroke=\"#000000\" cx=\"556.4867\" cy=\"-18\" rx=\"27\" ry=\"18\"/>\n",
              "<text text-anchor=\"middle\" x=\"556.4867\" y=\"-14.3\" font-family=\"Times,serif\" font-size=\"14.00\" fill=\"#000000\">stop</text>\n",
              "</g>\n",
              "<!-- step&#45;&gt;stop -->\n",
              "<g id=\"edge5\" class=\"edge\">\n",
              "<title>step&#45;&gt;stop</title>\n",
              "<path fill=\"none\" stroke=\"#000000\" d=\"M492.7897,-18C501.068,-18 510.3085,-18 519.1272,-18\"/>\n",
              "<polygon fill=\"#000000\" stroke=\"#000000\" points=\"519.203,-21.5001 529.203,-18 519.203,-14.5001 519.203,-21.5001\"/>\n",
              "</g>\n",
              "</g>\n",
              "</svg>\n"
            ],
            "text/plain": [
              "<graphviz.files.Source at 0x7f10d475e550>"
            ]
          },
          "execution_count": null,
          "metadata": {},
          "output_type": "execute_result"
        }
      ],
      "source": [
        "#id gradient_descent\n",
        "#caption The gradient descent process\n",
        "#alt Graph showing the steps for Gradient Descent\n",
        "gv('''\n",
        "init->predict->loss->gradient->step->stop\n",
        "step->predict[label=repeat]\n",
        "''')"
      ]
    },
    {
      "cell_type": "markdown",
      "metadata": {
        "id": "xmLmyA5UjlQL"
      },
      "source": [
        "There are many different ways to do each of these seven steps, and we will be learning about them throughout the rest of this book. These are the details that make a big difference for deep learning practitioners, but it turns out that the general approach to each one generally follows some basic principles. Here are a few guidelines:\n",
        "\n",
        "- Initialize:: We initialize the parameters to random values. This may sound surprising. There are certainly other choices we could make, such as initializing them to the percentage of times that pixel is activated for that category—but since we already know that we have a routine to improve these weights, it turns out that just starting with random weights works perfectly well.\n",
        "- Loss:: This is what Samuel referred to when he spoke of *testing the effectiveness of any current weight assignment in terms of actual performance*. We need some function that will return a number that is small if the performance of the model is good (the standard approach is to treat a small loss as good, and a large loss as bad, although this is just a convention).\n",
        "- Step:: A simple way to figure out whether a weight should be increased a bit, or decreased a bit, would be just to try it: increase the weight by a small amount, and see if the loss goes up or down. Once you find the correct direction, you could then change that amount by a bit more, and a bit less, until you find an amount that works well. However, this is slow! As we will see, the magic of calculus allows us to directly figure out in which direction, and by roughly how much, to change each weight, without having to try all these small changes. The way to do this is by calculating *gradients*. This is just a performance optimization, we would get exactly the same results by using the slower manual process as well.\n",
        "- Stop:: Once we've decided how many epochs to train the model for (a few suggestions for this were given in the earlier list), we apply that decision. This is where that decision is applied. For our digit classifier, we would keep training until the accuracy of the model started getting worse, or we ran out of time."
      ]
    },
    {
      "cell_type": "markdown",
      "metadata": {
        "id": "j9zu3DGajlQL"
      },
      "source": [
        "Before applying these steps to our image classification problem, let's illustrate what they look like in a simpler case. First we will define a very simple function, the quadratic—let's pretend that this is our loss function, and `x` is a weight parameter of the function:"
      ]
    },
    {
      "cell_type": "code",
      "execution_count": 56,
      "metadata": {
        "id": "ALCFMQbEjlQL"
      },
      "outputs": [],
      "source": [
        "def f(x): return x**2"
      ]
    },
    {
      "cell_type": "markdown",
      "metadata": {
        "id": "q99JmXGUjlQL"
      },
      "source": [
        "Here is a graph of that function:"
      ]
    },
    {
      "cell_type": "code",
      "execution_count": 57,
      "metadata": {
        "colab": {
          "base_uri": "https://localhost:8080/",
          "height": 285
        },
        "id": "ndxRRK_VjlQL",
        "outputId": "92ea6e8a-856e-409c-8cfb-332e38ae605c"
      },
      "outputs": [
        {
          "output_type": "display_data",
          "data": {
            "text/plain": [
              "<Figure size 432x288 with 1 Axes>"
            ],
            "image/png": "[encoded data removed]"
          },
          "metadata": {
            "needs_background": "light"
          }
        }
      ],
      "source": [
        "plot_function(f, 'x', 'x**2')"
      ]
    },
    {
      "cell_type": "markdown",
      "metadata": {
        "id": "MTiiENcpjlQM"
      },
      "source": [
        "The sequence of steps we described earlier starts by picking some random value for a parameter, and calculating the value of the loss:"
      ]
    },
    {
      "cell_type": "code",
      "execution_count": 59,
      "metadata": {
        "colab": {
          "base_uri": "https://localhost:8080/",
          "height": 285
        },
        "id": "wQtNviK8jlQM",
        "outputId": "8544b678-1e5f-47f5-9360-edf634a8d17e"
      },
      "outputs": [
        {
          "output_type": "display_data",
          "data": {
            "text/plain": [
              "<Figure size 432x288 with 1 Axes>"
            ],
            "image/png": "[encoded data removed]"
          },
          "metadata": {
            "needs_background": "light"
          }
        }
      ],
      "source": [
        "plot_function(f, 'x', 'x**2')\n",
        "plt.scatter(-1.5, f(-1.5), color='red');"
      ]
    },
    {
      "cell_type": "markdown",
      "metadata": {
        "id": "t-GoNFmzjlQM"
      },
      "source": [
        "Now we look to see what would happen if we increased or decreased our parameter by a little bit—the *adjustment*. This is simply the slope at a particular point:"
      ]
    },
    {
      "cell_type": "markdown",
      "metadata": {
        "id": "7n0as09yjlQM"
      },
      "source": [
        "<img alt=\"A graph showing the squared function with the slope at one point\" width=\"400\" src=\"images/grad_illustration.svg\"/>"
      ]
    },
    {
      "cell_type": "markdown",
      "metadata": {
        "id": "mHBA7f9HjlQM"
      },
      "source": [
        "We can change our weight by a little in the direction of the slope, calculate our loss and adjustment again, and repeat this a few times. Eventually, we will get to the lowest point on our curve:"
      ]
    },
    {
      "cell_type": "markdown",
      "metadata": {
        "id": "HaBMioxijlQM"
      },
      "source": [
        "<img alt=\"An illustration of gradient descent\" width=\"400\" src=\"images/chapter2_perfect.svg\"/>"
      ]
    },
    {
      "cell_type": "markdown",
      "metadata": {
        "id": "o7LXLWHbjlQM"
      },
      "source": [
        "This basic idea goes all the way back to Isaac Newton, who pointed out that we can optimize arbitrary functions in this way. Regardless of how complicated our functions become, this basic approach of gradient descent will not significantly change. The only minor changes we will see later in this book are some handy ways we can make it faster, by finding better steps."
      ]
    },
    {
      "cell_type": "markdown",
      "metadata": {
        "id": "odkWdNhkjlQM"
      },
      "source": [
        "### Calculating Gradients"
      ]
    },
    {
      "cell_type": "markdown",
      "metadata": {
        "id": "wLtXycNXjlQN"
      },
      "source": [
        "The one magic step is the bit where we calculate the gradients. As we mentioned, we use calculus as a performance optimization; it allows us to more quickly calculate whether our loss will go up or down when we adjust our parameters up or down. In other words, the gradients will tell us how much we have to change each weight to make our model better.\n",
        "\n",
        "You may remember from your high school calculus class that the *derivative* of a function tells you how much a change in its parameters will change its result. If not, don't worry, lots of us forget calculus once high school is behind us! But you will have to have some intuitive understanding of what a derivative is before you continue, so if this is all very fuzzy in your head, head over to Khan Academy and complete the [lessons on basic derivatives](https://www.khanacademy.org/math/differential-calculus/dc-diff-intro). You won't have to know how to calculate them yourselves, you just have to know what a derivative is.\n",
        "\n",
        "The key point about a derivative is this: for any function, such as the quadratic function we saw in the previous section, we can calculate its derivative. The derivative is another function. It calculates the change, rather than the value. For instance, the derivative of the quadratic function at the value 3 tells us how rapidly the function changes at the value 3. More specifically, you may recall that gradient is defined as *rise/run*, that is, the change in the value of the function, divided by the change in the value of the parameter. When we know how our function will change, then we know what we need to do to make it smaller. This is the key to machine learning: having a way to change the parameters of a function to make it smaller. Calculus provides us with a computational shortcut, the derivative, which lets us directly calculate the gradients of our functions."
      ]
    },
    {
      "cell_type": "markdown",
      "metadata": {
        "id": "zUfow6vpjlQN"
      },
      "source": [
        "One important thing to be aware of is that our function has lots of weights that we need to adjust, so when we calculate the derivative we won't get back one number, but lots of them—a gradient for every weight. But there is nothing mathematically tricky here; you can calculate the derivative with respect to one weight, and treat all the other ones as constant, then repeat that for each other weight. This is how all of the gradients are calculated, for every weight.\n",
        "\n",
        "We mentioned just now that you won't have to calculate any gradients yourself. How can that be? Amazingly enough, PyTorch is able to automatically compute the derivative of nearly any function! What's more, it does it very fast. Most of the time, it will be at least as fast as any derivative function that you can create by hand. Let's see an example.\n",
        "\n",
        "First, let's pick a tensor value which we want gradients at:"
      ]
    },
    {
      "cell_type": "code",
      "execution_count": 62,
      "metadata": {
        "colab": {
          "base_uri": "https://localhost:8080/"
        },
        "id": "Jqvv1t7tjlQN",
        "outputId": "31abc46a-4432-46e1-9cc6-e63b124bc57e"
      },
      "outputs": [
        {
          "output_type": "execute_result",
          "data": {
            "text/plain": [
              "tensor(3., requires_grad=True)"
            ]
          },
          "metadata": {},
          "execution_count": 62
        }
      ],
      "source": [
        "xt = tensor(3.).requires_grad_()\n",
        "xt"
      ]
    },
    {
      "cell_type": "markdown",
      "metadata": {
        "id": "mxo3WKjujlQN"
      },
      "source": [
        "Notice the special method `requires_grad_`? That's the magical incantation we use to tell PyTorch that we want to calculate gradients with respect to that variable at that value. It is essentially tagging the variable, so PyTorch will remember to keep track of how to compute gradients of the other, direct calculations on it that you will ask for.\n",
        "\n",
        "> a: This API might throw you off if you're coming from math or physics. In those contexts the \"gradient\" of a function is just another function (i.e., its derivative), so you might expect gradient-related APIs to give you a new function. But in deep learning, \"gradients\" usually means the _value_ of a function's derivative at a particular argument value. The PyTorch API also puts the focus on the argument, not the function you're actually computing the gradients of. It may feel backwards at first, but it's just a different perspective.\n",
        "\n",
        "Now we calculate our function with that value. Notice how PyTorch prints not just the value calculated, but also a note that it has a gradient function it'll be using to calculate our gradients when needed:"
      ]
    },
    {
      "cell_type": "code",
      "execution_count": 61,
      "metadata": {
        "colab": {
          "base_uri": "https://localhost:8080/"
        },
        "id": "XmTXI2t5jlQN",
        "outputId": "c8e2cb3b-1454-44e5-b24f-3a000abc6e37"
      },
      "outputs": [
        {
          "output_type": "execute_result",
          "data": {
            "text/plain": [
              "tensor(9., grad_fn=<PowBackward0>)"
            ]
          },
          "metadata": {},
          "execution_count": 61
        }
      ],
      "source": [
        "yt = f(xt)\n",
        "yt"
      ]
    },
    {
      "cell_type": "markdown",
      "metadata": {
        "id": "ekdy7oCojlQN"
      },
      "source": [
        "Finally, we tell PyTorch to calculate the gradients for us:"
      ]
    },
    {
      "cell_type": "code",
      "execution_count": 63,
      "metadata": {
        "id": "tW4RGbHxjlQN"
      },
      "outputs": [],
      "source": [
        "yt.backward()"
      ]
    },
    {
      "cell_type": "markdown",
      "metadata": {
        "id": "SntP285ojlQO"
      },
      "source": [
        "The \"backward\" here refers to *backpropagation*, which is the name given to the process of calculating the derivative of each layer. We'll see how this is done exactly in chapter <<chapter_foundations>>, when we calculate the gradients of a deep neural net from scratch. This is called the \"backward pass\" of the network, as opposed to the \"forward pass,\" which is where the activations are calculated. Life would probably be easier if `backward` was just called `calculate_grad`, but deep learning folks really do like to add jargon everywhere they can!"
      ]
    },
    {
      "cell_type": "markdown",
      "metadata": {
        "id": "fapnp4PdjlQO"
      },
      "source": [
        "We can now view the gradients by checking the `grad` attribute of our tensor:"
      ]
    },
    {
      "cell_type": "code",
      "execution_count": 65,
      "metadata": {
        "colab": {
          "base_uri": "https://localhost:8080/"
        },
        "id": "8yFdTqh4jlQO",
        "outputId": "71393602-eb3f-453e-e81a-767d4fdb0b37"
      },
      "outputs": [
        {
          "output_type": "execute_result",
          "data": {
            "text/plain": [
              "tensor(3., requires_grad=True)"
            ]
          },
          "metadata": {},
          "execution_count": 65
        }
      ],
      "source": [
        "xt.grad\n",
        "xt"
      ]
    },
    {
      "cell_type": "markdown",
      "metadata": {
        "id": "qlmNzHkmjlQO"
      },
      "source": [
        "If you remember your high school calculus rules, the derivative of `x**2` is `2*x`, and we have `x=3`, so the gradients should be `2*3=6`, which is what PyTorch calculated for us!\n",
        "\n",
        "Now we'll repeat the preceding steps, but with a vector argument for our function:"
      ]
    },
    {
      "cell_type": "code",
      "execution_count": 66,
      "metadata": {
        "colab": {
          "base_uri": "https://localhost:8080/"
        },
        "id": "WHt0T0cNjlQO",
        "outputId": "cbb07e57-1f01-4a07-9436-78ece3942020"
      },
      "outputs": [
        {
          "output_type": "execute_result",
          "data": {
            "text/plain": [
              "tensor([ 3.,  4., 10.], requires_grad=True)"
            ]
          },
          "metadata": {},
          "execution_count": 66
        }
      ],
      "source": [
        "xt = tensor([3.,4.,10.]).requires_grad_()\n",
        "xt"
      ]
    },
    {
      "cell_type": "markdown",
      "metadata": {
        "id": "gjNPLWCQjlQO"
      },
      "source": [
        "And we'll add `sum` to our function so it can take a vector (i.e., a rank-1 tensor), and return a scalar (i.e., a rank-0 tensor):"
      ]
    },
    {
      "cell_type": "code",
      "execution_count": 68,
      "metadata": {
        "colab": {
          "base_uri": "https://localhost:8080/"
        },
        "id": "DI8g4K0vjlQO",
        "outputId": "d387ced6-4e97-4e1e-d8cb-2f303333b36d"
      },
      "outputs": [
        {
          "output_type": "execute_result",
          "data": {
            "text/plain": [
              "tensor(125., grad_fn=<SumBackward0>)"
            ]
          },
          "metadata": {},
          "execution_count": 68
        }
      ],
      "source": [
        "def f(x): return (x**2).sum()\n",
        "\n",
        "yt = f(xt)\n",
        "yt"
      ]
    },
    {
      "cell_type": "markdown",
      "metadata": {
        "id": "dBkSKSdZjlQS"
      },
      "source": [
        "Our gradients are `2*xt`, as we'd expect!"
      ]
    },
    {
      "cell_type": "code",
      "execution_count": 69,
      "metadata": {
        "colab": {
          "base_uri": "https://localhost:8080/"
        },
        "id": "FJmut7QJjlQS",
        "outputId": "06d960c2-ec3f-4ef6-d37a-c03678f431fe"
      },
      "outputs": [
        {
          "output_type": "execute_result",
          "data": {
            "text/plain": [
              "tensor([ 6.,  8., 20.])"
            ]
          },
          "metadata": {},
          "execution_count": 69
        }
      ],
      "source": [
        "yt.backward()\n",
        "xt.grad"
      ]
    },
    {
      "cell_type": "markdown",
      "metadata": {
        "id": "IoBQzctTjlQS"
      },
      "source": [
        "The gradients only tell us the slope of our function, they don't actually tell us exactly how far to adjust the parameters. But it gives us some idea of how far; if the slope is very large, then that may suggest that we have more adjustments to do, whereas if the slope is very small, that may suggest that we are close to the optimal value."
      ]
    },
    {
      "cell_type": "markdown",
      "metadata": {
        "id": "ftXpKalKjlQS"
      },
      "source": [
        "### Stepping With a Learning Rate"
      ]
    },
    {
      "cell_type": "markdown",
      "metadata": {
        "id": "LNZyI3XCjlQT"
      },
      "source": [
        "Deciding how to change our parameters based on the values of the gradients is an important part of the deep learning process. Nearly all approaches start with the basic idea of multiplying the gradient by some small number, called the *learning rate* (LR). The learning rate is often a number between 0.001 and 0.1, although it could be anything. Often, people select a learning rate just by trying a few, and finding which results in the best model after training (we'll show you a better approach later in this book, called the *learning rate finder*). Once you've picked a learning rate, you can adjust your parameters using this simple function:\n",
        "\n",
        "```\n",
        "w -= gradient(w) * lr\n",
        "```\n",
        "\n",
        "This is known as *stepping* your parameters, using an *optimizer step*. Notice how we _subtract_ the `gradient * lr` from the parameter to update it.  This allows us to adjust the parameter in the direction of the slope by increasing the parameter when the slope is negative and decreasing the parameter when the slope is positive.  We want to adjust our parameters in the direction of the slope because our goal in deep learning is to _minimize_ the loss.\n",
        "\n",
        "If you pick a learning rate that's too low, it can mean having to do a lot of steps. <<descent_small>> illustrates that."
      ]
    },
    {
      "cell_type": "markdown",
      "metadata": {
        "id": "XAYtXQb2jlQT"
      },
      "source": [
        "<img alt=\"An illustration of gradient descent with a LR too low\" width=\"400\" caption=\"Gradient descent with low LR\" src=\"images/chapter2_small.svg\" id=\"descent_small\"/>"
      ]
    },
    {
      "cell_type": "markdown",
      "metadata": {
        "id": "MBgSZxfqjlQT"
      },
      "source": [
        "But picking a learning rate that's too high is even worse—it can actually result in the loss getting *worse*, as we see in <<descent_div>>!"
      ]
    },
    {
      "cell_type": "markdown",
      "metadata": {
        "id": "IFFZU5O4jlQT"
      },
      "source": [
        "<img alt=\"An illustration of gradient descent with a LR too high\" width=\"400\" caption=\"Gradient descent with high LR\" src=\"images/chapter2_div.svg\" id=\"descent_div\"/>"
      ]
    },
    {
      "cell_type": "markdown",
      "metadata": {
        "id": "bLq27gbgjlQT"
      },
      "source": [
        "If the learning rate is too high, it may also \"bounce\" around, rather than actually diverging; <<descent_bouncy>> shows how this has the result of taking many steps to train successfully."
      ]
    },
    {
      "cell_type": "markdown",
      "metadata": {
        "id": "NDEuYeMYjlQU"
      },
      "source": [
        "<img alt=\"An illustation of gradient descent with a bouncy LR\" width=\"400\" caption=\"Gradient descent with bouncy LR\" src=\"images/chapter2_bouncy.svg\" id=\"descent_bouncy\"/>"
      ]
    },
    {
      "cell_type": "markdown",
      "metadata": {
        "id": "RraQKqjmjlQU"
      },
      "source": [
        "Now let's apply all of this in an end-to-end example."
      ]
    },
    {
      "cell_type": "markdown",
      "metadata": {
        "id": "Q1D771rJjlQU"
      },
      "source": [
        "### An End-to-End SGD Example"
      ]
    },
    {
      "cell_type": "markdown",
      "metadata": {
        "id": "uH1bi_eJjlQU"
      },
      "source": [
        "We've seen how to use gradients to find a minimum. Now it's time to look at an SGD example and see how finding a minimum can be used to train a model to fit data better.\n",
        "\n",
        "Let's start with a simple, synthetic, example model. Imagine you were measuring the speed of a roller coaster as it went over the top of a hump. It would start fast, and then get slower as it went up the hill; it would be slowest at the top, and it would then speed up again as it went downhill. You want to build a model of how the speed changes over time. If you were measuring the speed manually every second for 20 seconds, it might look something like this:"
      ]
    },
    {
      "cell_type": "code",
      "execution_count": 152,
      "metadata": {
        "colab": {
          "base_uri": "https://localhost:8080/"
        },
        "id": "ElHMbaNKjlQU",
        "outputId": "8f22a736-b5b3-4ee7-bf61-8cb424564e7a"
      },
      "outputs": [
        {
          "output_type": "execute_result",
          "data": {
            "text/plain": [
              "tensor([ 0.,  1.,  2.,  3.,  4.,  5.,  6.,  7.,  8.,  9., 10., 11., 12., 13., 14., 15., 16., 17., 18., 19.])"
            ]
          },
          "metadata": {},
          "execution_count": 152
        }
      ],
      "source": [
        "time = torch.arange(0,20).float(); time"
      ]
    },
    {
      "cell_type": "code",
      "execution_count": 153,
      "metadata": {
        "colab": {
          "base_uri": "https://localhost:8080/",
          "height": 268
        },
        "id": "EmZL3s2NjlQU",
        "outputId": "ccceef30-0e63-4eba-8a17-af9f29cc187f"
      },
      "outputs": [
        {
          "output_type": "display_data",
          "data": {
            "text/plain": [
              "<Figure size 432x288 with 1 Axes>"
            ],
            "image/png": "[encoded data removed]"
          },
          "metadata": {
            "needs_background": "light"
          }
        }
      ],
      "source": [
        "speed = torch.randn(20)*3 + 0.75*(time-9.5)**2 + 1\n",
        "plt.scatter(time,speed);"
      ]
    },
    {
      "cell_type": "markdown",
      "metadata": {
        "id": "vSqPikEZjlQV"
      },
      "source": [
        "We've added a bit of random noise, since measuring things manually isn't precise. This means it's not that easy to answer the question: what was the roller coaster's speed? Using SGD we can try to find a function that matches our observations. We can't consider every possible function, so let's use a guess that it will be quadratic; i.e., a function of the form `a*(time**2)+(b*time)+c`.\n",
        "\n",
        "We want to distinguish clearly between the function's input (the time when we are measuring the coaster's speed) and its parameters (the values that define *which* quadratic we're trying). So, let's collect the parameters in one argument and thus separate the input, `t`, and the parameters, `params`, in the function's signature: "
      ]
    },
    {
      "cell_type": "code",
      "execution_count": 154,
      "metadata": {
        "id": "uP74n1AnjlQV"
      },
      "outputs": [],
      "source": [
        "def f(t, params):\n",
        "    a,b,c = params\n",
        "    return a*(t**2) + (b*t) + c"
      ]
    },
    {
      "cell_type": "markdown",
      "metadata": {
        "id": "zAAt8rgYjlQV"
      },
      "source": [
        "In other words, we've restricted the problem of finding the best imaginable function that fits the data, to finding the best *quadratic* function. This greatly simplifies the problem, since every quadratic function is fully defined by the three parameters `a`, `b`, and `c`. Thus, to find the best quadratic function, we only need to find the best values for `a`, `b`, and `c`.\n",
        "\n",
        "If we can solve this problem for the three parameters of a quadratic function, we'll be able to apply the same approach for other, more complex functions with more parameters—such as a neural net. Let's find the parameters for `f` first, and then we'll come back and do the same thing for the MNIST dataset with a neural net.\n",
        "\n",
        "We need to define first what we mean by \"best.\" We define this precisely by choosing a *loss function*, which will return a value based on a prediction and a target, where lower values of the function correspond to \"better\" predictions. It is important for loss functions to return _lower_ values when predictions are more accurate, as the SGD procedure we defined earlier will try to _minimize_ this loss. For continuous data, it's common to use *mean squared error*:"
      ]
    },
    {
      "cell_type": "code",
      "execution_count": 155,
      "metadata": {
        "id": "lfjK34UljlQV"
      },
      "outputs": [],
      "source": [
        "def mse(preds, targets): return ((preds-targets)**2).mean()"
      ]
    },
    {
      "cell_type": "markdown",
      "metadata": {
        "id": "5W1B-Rg_jlQW"
      },
      "source": [
        "Now, let's work through our 7 step process."
      ]
    },
    {
      "cell_type": "markdown",
      "metadata": {
        "id": "0I7AZx4AjlQW"
      },
      "source": [
        "#### Step 1: Initialize the parameters"
      ]
    },
    {
      "cell_type": "markdown",
      "metadata": {
        "id": "_FzW6dlOjlQW"
      },
      "source": [
        "First, we initialize the parameters to random values, and tell PyTorch that we want to track their gradients, using `requires_grad_`:"
      ]
    },
    {
      "cell_type": "code",
      "execution_count": 160,
      "metadata": {
        "id": "W6ZBPiDqjlQW"
      },
      "outputs": [],
      "source": [
        "params = torch.randn(3).requires_grad_()"
      ]
    },
    {
      "cell_type": "code",
      "execution_count": 158,
      "metadata": {
        "id": "soCfmvqEjlQW"
      },
      "outputs": [],
      "source": [
        "#hide\n",
        "orig_params = params.clone()"
      ]
    },
    {
      "cell_type": "markdown",
      "metadata": {
        "id": "2piPxqsEjlQW"
      },
      "source": [
        "#### Step 2: Calculate the predictions"
      ]
    },
    {
      "cell_type": "markdown",
      "metadata": {
        "id": "jtF5GzmxjlQX"
      },
      "source": [
        "Next, we calculate the predictions:"
      ]
    },
    {
      "cell_type": "code",
      "execution_count": 161,
      "metadata": {
        "colab": {
          "base_uri": "https://localhost:8080/"
        },
        "id": "aknpSwYXjlQX",
        "outputId": "b9ab9eaf-5e73-4b67-9bc5-8ffc64b0c75a"
      },
      "outputs": [
        {
          "output_type": "execute_result",
          "data": {
            "text/plain": [
              "tensor([  0.9967,   1.7534,   5.4106,  11.9683,  21.4265,  33.7853,  49.0445,  67.2043,  88.2646, 112.2254, 139.0868, 168.8486, 201.5110, 237.0739, 275.5372, 316.9012, 361.1656, 408.3305, 458.3960,\n",
              "        511.3619], grad_fn=<AddBackward0>)"
            ]
          },
          "metadata": {},
          "execution_count": 161
        }
      ],
      "source": [
        "preds = f(time, params)\n",
        "preds"
      ]
    },
    {
      "cell_type": "markdown",
      "metadata": {
        "id": "cgv9YqxLjlQX"
      },
      "source": [
        "Let's create a little function to see how close our predictions are to our targets, and take a look:"
      ]
    },
    {
      "cell_type": "code",
      "execution_count": 162,
      "metadata": {
        "id": "xnVymyhijlQX"
      },
      "outputs": [],
      "source": [
        "def show_preds(preds, ax=None):\n",
        "    if ax is None: ax=plt.subplots()[1]\n",
        "    ax.scatter(time, speed)\n",
        "    ax.scatter(time, to_np(preds), color='red')\n",
        "    ax.set_ylim(-300,100)"
      ]
    },
    {
      "cell_type": "code",
      "execution_count": 163,
      "metadata": {
        "colab": {
          "base_uri": "https://localhost:8080/",
          "height": 273
        },
        "id": "WqipERhZjlQX",
        "outputId": "802a52f3-f1fd-4f1d-bac5-90f957fca024"
      },
      "outputs": [
        {
          "output_type": "display_data",
          "data": {
            "text/plain": [
              "<Figure size 432x288 with 1 Axes>"
            ],
            "image/png": "[encoded data removed]"
          },
          "metadata": {
            "needs_background": "light"
          }
        }
      ],
      "source": [
        "show_preds(preds)"
      ]
    },
    {
      "cell_type": "markdown",
      "metadata": {
        "id": "PNzIozvKjlQX"
      },
      "source": [
        "This doesn't look very close—our random parameters suggest that the roller coaster will end up going backwards, since we have negative speeds!"
      ]
    },
    {
      "cell_type": "markdown",
      "metadata": {
        "id": "2Gb8tzywjlQY"
      },
      "source": [
        "#### Step 3: Calculate the loss"
      ]
    },
    {
      "cell_type": "markdown",
      "metadata": {
        "id": "kHKjrDlwjlQY"
      },
      "source": [
        "We calculate the loss as follows:"
      ]
    },
    {
      "cell_type": "code",
      "execution_count": 164,
      "metadata": {
        "colab": {
          "base_uri": "https://localhost:8080/"
        },
        "id": "9cF-L4qAjlQY",
        "outputId": "3d4d4b40-23bb-4029-da67-d900fe288d88"
      },
      "outputs": [
        {
          "output_type": "execute_result",
          "data": {
            "text/plain": [
              "tensor(45901.3906, grad_fn=<MeanBackward0>)"
            ]
          },
          "metadata": {},
          "execution_count": 164
        }
      ],
      "source": [
        "loss = mse(preds, speed)\n",
        "loss"
      ]
    },
    {
      "cell_type": "markdown",
      "metadata": {
        "id": "w0d04u-jjlQY"
      },
      "source": [
        "Our goal is now to improve this. To do that, we'll need to know the gradients."
      ]
    },
    {
      "cell_type": "markdown",
      "metadata": {
        "id": "QY-Sx7jHjlQZ"
      },
      "source": [
        "#### Step 4: Calculate the gradients"
      ]
    },
    {
      "cell_type": "markdown",
      "metadata": {
        "id": "Oprqn4KYjlQZ"
      },
      "source": [
        "The next step is to calculate the gradients. In other words, calculate an approximation of how the parameters need to change:"
      ]
    },
    {
      "cell_type": "code",
      "execution_count": 165,
      "metadata": {
        "colab": {
          "base_uri": "https://localhost:8080/"
        },
        "id": "ck_n2leOjlQZ",
        "outputId": "e4de9bf5-8759-46bc-abdd-92adac5a4e08"
      },
      "outputs": [
        {
          "output_type": "execute_result",
          "data": {
            "text/plain": [
              "tensor([71360.7188,  4580.7588,   295.1445])"
            ]
          },
          "metadata": {},
          "execution_count": 165
        }
      ],
      "source": [
        "loss.backward()\n",
        "params.grad"
      ]
    },
    {
      "cell_type": "code",
      "execution_count": 166,
      "metadata": {
        "colab": {
          "base_uri": "https://localhost:8080/"
        },
        "id": "tV8tJIXGjlQZ",
        "outputId": "f50e5412-7a5e-4c3d-a9ef-6a82a69205db"
      },
      "outputs": [
        {
          "output_type": "execute_result",
          "data": {
            "text/plain": [
              "tensor([0.7136, 0.0458, 0.0030])"
            ]
          },
          "metadata": {},
          "execution_count": 166
        }
      ],
      "source": [
        "params.grad * 1e-5"
      ]
    },
    {
      "cell_type": "markdown",
      "metadata": {
        "id": "YBpx2oUkjlQZ"
      },
      "source": [
        "We can use these gradients to improve our parameters. We'll need to pick a learning rate (we'll discuss how to do that in practice in the next chapter; for now we'll just use 1e-5, or 0.00001):"
      ]
    },
    {
      "cell_type": "code",
      "execution_count": 167,
      "metadata": {
        "colab": {
          "base_uri": "https://localhost:8080/"
        },
        "id": "b-Pn3G0fjlQZ",
        "outputId": "47edddce-8592-4339-dbf8-d79d0af6c7cc"
      },
      "outputs": [
        {
          "output_type": "execute_result",
          "data": {
            "text/plain": [
              "tensor([ 1.4503, -0.6936,  0.9967], requires_grad=True)"
            ]
          },
          "metadata": {},
          "execution_count": 167
        }
      ],
      "source": [
        "params"
      ]
    },
    {
      "cell_type": "markdown",
      "metadata": {
        "id": "1tg2Cw8njlQa"
      },
      "source": [
        "#### Step 5: Step the weights. "
      ]
    },
    {
      "cell_type": "markdown",
      "metadata": {
        "id": "pQWxvfIjjlQa"
      },
      "source": [
        "Now we need to update the parameters based on the gradients we just calculated:"
      ]
    },
    {
      "cell_type": "code",
      "execution_count": 168,
      "metadata": {
        "id": "DVlSFRXJjlQa"
      },
      "outputs": [],
      "source": [
        "lr = 1e-5\n",
        "params.data -= lr * params.grad.data\n",
        "params.grad = None"
      ]
    },
    {
      "cell_type": "markdown",
      "metadata": {
        "id": "Bh3VOT5njlQa"
      },
      "source": [
        "> a: Understanding this bit depends on remembering recent history. To calculate the gradients we call `backward` on the `loss`. But this `loss` was itself calculated by `mse`, which in turn took `preds` as an input, which was calculated using `f` taking as an input `params`, which was the object on which we originally called `requires_grad_`—which is the original call that now allows us to call `backward` on `loss`. This chain of function calls represents the mathematical composition of functions, which enables PyTorch to use calculus's chain rule under the hood to calculate these gradients."
      ]
    },
    {
      "cell_type": "markdown",
      "metadata": {
        "id": "hV_SRlxWjlQa"
      },
      "source": [
        "Let's see if the loss has improved:"
      ]
    },
    {
      "cell_type": "code",
      "execution_count": 169,
      "metadata": {
        "colab": {
          "base_uri": "https://localhost:8080/"
        },
        "id": "VEha9qATjlQa",
        "outputId": "e6466cf2-0b56-4962-f4b9-9a0d8e4096e5"
      },
      "outputs": [
        {
          "output_type": "execute_result",
          "data": {
            "text/plain": [
              "tensor(9212.4209, grad_fn=<MeanBackward0>)"
            ]
          },
          "metadata": {},
          "execution_count": 169
        }
      ],
      "source": [
        "preds = f(time,params)\n",
        "mse(preds, speed)"
      ]
    },
    {
      "cell_type": "markdown",
      "metadata": {
        "id": "JqlHuh_hjlQb"
      },
      "source": [
        "And take a look at the plot:"
      ]
    },
    {
      "cell_type": "code",
      "execution_count": 170,
      "metadata": {
        "colab": {
          "base_uri": "https://localhost:8080/",
          "height": 273
        },
        "id": "6R9a0mGljlQb",
        "outputId": "2101ca5d-ec6f-47d8-d297-d25b9f184a2b"
      },
      "outputs": [
        {
          "output_type": "display_data",
          "data": {
            "text/plain": [
              "<Figure size 432x288 with 1 Axes>"
            ],
            "image/png": "[encoded data removed]"
          },
          "metadata": {
            "needs_background": "light"
          }
        }
      ],
      "source": [
        "show_preds(preds)"
      ]
    },
    {
      "cell_type": "markdown",
      "metadata": {
        "id": "rMzO49sKjlQb"
      },
      "source": [
        "We need to repeat this a few times, so we'll create a function to apply one step:"
      ]
    },
    {
      "cell_type": "code",
      "execution_count": 171,
      "metadata": {
        "id": "wpKAksK3jlQb"
      },
      "outputs": [],
      "source": [
        "def apply_step(params, prn=True):\n",
        "    preds = f(time, params)\n",
        "    loss = mse(preds, speed)\n",
        "    loss.backward()\n",
        "    params.data -= lr * params.grad.data\n",
        "    params.grad = None\n",
        "    if prn: print(loss.item())\n",
        "    return preds"
      ]
    },
    {
      "cell_type": "markdown",
      "metadata": {
        "id": "GcYs-qzNjlQb"
      },
      "source": [
        "#### Step 6: Repeat the process "
      ]
    },
    {
      "cell_type": "markdown",
      "metadata": {
        "id": "MhVGUZpxjlQb"
      },
      "source": [
        "Now we iterate. By looping and performing many improvements, we hope to reach a good result:"
      ]
    },
    {
      "cell_type": "code",
      "execution_count": 172,
      "metadata": {
        "colab": {
          "base_uri": "https://localhost:8080/"
        },
        "id": "YfoHyMVhjlQc",
        "outputId": "6a3b18f7-c110-4f73-d7f4-aa7fec4356e4"
      },
      "outputs": [
        {
          "output_type": "stream",
          "name": "stdout",
          "text": [
            "9212.4208984375\n",
            "2269.746337890625\n",
            "955.97705078125\n",
            "707.3690185546875\n",
            "660.3221435546875\n",
            "651.4166259765625\n",
            "649.7286376953125\n",
            "649.4066162109375\n",
            "649.3428344726562\n",
            "649.3280029296875\n",
            "649.322509765625\n",
            "649.3186645507812\n",
            "649.3152465820312\n",
            "649.3118286132812\n",
            "649.3084106445312\n",
            "649.3049926757812\n",
            "649.3016357421875\n",
            "649.2982177734375\n",
            "649.2947998046875\n",
            "649.29150390625\n"
          ]
        }
      ],
      "source": [
        "for i in range(20): apply_step(params)"
      ]
    },
    {
      "cell_type": "code",
      "execution_count": 173,
      "metadata": {
        "id": "7NBJV8K2jlQc"
      },
      "outputs": [],
      "source": [
        "#hide\n",
        "params = orig_params.detach().requires_grad_()"
      ]
    },
    {
      "cell_type": "markdown",
      "metadata": {
        "id": "84DmIke_jlQc"
      },
      "source": [
        "The loss is going down, just as we hoped! But looking only at these loss numbers disguises the fact that each iteration represents an entirely different quadratic function being tried, on the way to finding the best possible quadratic function. We can see this process visually if, instead of printing out the loss function, we plot the function at every step. Then we can see how the shape is approaching the best possible quadratic function for our data:"
      ]
    },
    {
      "cell_type": "code",
      "execution_count": 174,
      "metadata": {
        "colab": {
          "base_uri": "https://localhost:8080/",
          "height": 196
        },
        "id": "d-1w6WctjlQc",
        "outputId": "36601a22-a1e7-43bd-a14f-2886dbbc4a45"
      },
      "outputs": [
        {
          "output_type": "display_data",
          "data": {
            "text/plain": [
              "<Figure size 864x216 with 8 Axes>"
            ],
            "image/png": "[encoded data removed]"
          },
          "metadata": {
            "needs_background": "light"
          }
        }
      ],
      "source": [
        "_,axs = plt.subplots(1,8,figsize=(12,3))\n",
        "for ax in axs: show_preds(apply_step(params, False), ax)\n",
        "plt.tight_layout()"
      ]
    },
    {
      "cell_type": "markdown",
      "metadata": {
        "id": "gvQqu_GQjlQc"
      },
      "source": [
        "#### Step 7: stop"
      ]
    },
    {
      "cell_type": "markdown",
      "metadata": {
        "id": "LDYwjT1sjlQd"
      },
      "source": [
        "We just decided to stop after 10 epochs arbitrarily. In practice, we would watch the training and validation losses and our metrics to decide when to stop, as we've discussed."
      ]
    },
    {
      "cell_type": "markdown",
      "metadata": {
        "id": "nLuAWA16jlQd"
      },
      "source": [
        "### Summarizing Gradient Descent"
      ]
    },
    {
      "cell_type": "code",
      "execution_count": 175,
      "metadata": {
        "hide_input": false,
        "colab": {
          "base_uri": "https://localhost:8080/",
          "height": 145
        },
        "id": "zSJw67pNjlQd",
        "outputId": "2de3b201-f5f9-41e6-8589-067d815a07d1"
      },
      "outputs": [
        {
          "output_type": "execute_result",
          "data": {
            "text/plain": [
              "<graphviz.files.Source at 0x7f0e14369dd0>"
            ],
            "image/svg+xml": "<?xml version=\"1.0\" encoding=\"UTF-8\" standalone=\"no\"?>\n<!DOCTYPE svg PUBLIC \"-//W3C//DTD SVG 1.1//EN\"\n \"http://www.w3.org/Graphics/SVG/1.1/DTD/svg11.dtd\">\n<!-- Generated by graphviz version 2.40.1 (20161225.0304)\n -->\n<!-- Title: G Pages: 1 -->\n<svg width=\"597pt\" height=\"78pt\"\n viewBox=\"0.00 0.00 596.69 78.00\" xmlns=\"http://www.w3.org/2000/svg\" xmlns:xlink=\"http://www.w3.org/1999/xlink\">\n<g id=\"graph0\" class=\"graph\" transform=\"scale(1 1) rotate(0) translate(4 74)\">\n<title>G</title>\n<polygon fill=\"#ffffff\" stroke=\"transparent\" points=\"-4,4 -4,-74 592.6863,-74 592.6863,4 -4,4\"/>\n<!-- init -->\n<g id=\"node1\" class=\"node\">\n<title>init</title>\n<ellipse fill=\"none\" stroke=\"#000000\" cx=\"27\" cy=\"-18\" rx=\"27\" ry=\"18\"/>\n<text text-anchor=\"middle\" x=\"27\" y=\"-14.3\" font-family=\"Times,serif\" font-size=\"14.00\" fill=\"#000000\">init</text>\n</g>\n<!-- predict -->\n<g id=\"node2\" class=\"node\">\n<title>predict</title>\n<ellipse fill=\"none\" stroke=\"#000000\" cx=\"127.3968\" cy=\"-18\" rx=\"36.2938\" ry=\"18\"/>\n<text text-anchor=\"middle\" x=\"127.3968\" y=\"-14.3\" font-family=\"Times,serif\" font-size=\"14.00\" fill=\"#000000\">predict</text>\n</g>\n<!-- init&#45;&gt;predict -->\n<g id=\"edge1\" class=\"edge\">\n<title>init&#45;&gt;predict</title>\n<path fill=\"none\" stroke=\"#000000\" d=\"M54.1688,-18C62.3543,-18 71.5827,-18 80.6596,-18\"/>\n<polygon fill=\"#000000\" stroke=\"#000000\" points=\"80.7795,-21.5001 90.7795,-18 80.7795,-14.5001 80.7795,-21.5001\"/>\n</g>\n<!-- loss -->\n<g id=\"node3\" class=\"node\">\n<title>loss</title>\n<ellipse fill=\"none\" stroke=\"#000000\" cx=\"227.7935\" cy=\"-52\" rx=\"27\" ry=\"18\"/>\n<text text-anchor=\"middle\" x=\"227.7935\" y=\"-48.3\" font-family=\"Times,serif\" font-size=\"14.00\" fill=\"#000000\">loss</text>\n</g>\n<!-- predict&#45;&gt;loss -->\n<g id=\"edge2\" class=\"edge\">\n<title>predict&#45;&gt;loss</title>\n<path fill=\"none\" stroke=\"#000000\" d=\"M157.5191,-28.2011C168.9806,-32.0826 182.1139,-36.5303 193.9014,-40.5222\"/>\n<polygon fill=\"#000000\" stroke=\"#000000\" points=\"192.8259,-43.8532 203.4202,-43.7458 195.0713,-37.2231 192.8259,-43.8532\"/>\n</g>\n<!-- gradient -->\n<g id=\"node4\" class=\"node\">\n<title>gradient</title>\n<ellipse fill=\"none\" stroke=\"#000000\" cx=\"365.7399\" cy=\"-52\" rx=\"40.8928\" ry=\"18\"/>\n<text text-anchor=\"middle\" x=\"365.7399\" y=\"-48.3\" font-family=\"Times,serif\" font-size=\"14.00\" fill=\"#000000\">gradient</text>\n</g>\n<!-- loss&#45;&gt;gradient -->\n<g id=\"edge3\" class=\"edge\">\n<title>loss&#45;&gt;gradient</title>\n<path fill=\"none\" stroke=\"#000000\" d=\"M255.0473,-52C272.0415,-52 294.4481,-52 314.6545,-52\"/>\n<polygon fill=\"#000000\" stroke=\"#000000\" points=\"314.671,-55.5001 324.671,-52 314.671,-48.5001 314.671,-55.5001\"/>\n</g>\n<!-- step -->\n<g id=\"node5\" class=\"node\">\n<title>step</title>\n<ellipse fill=\"none\" stroke=\"#000000\" cx=\"470.6863\" cy=\"-18\" rx=\"27\" ry=\"18\"/>\n<text text-anchor=\"middle\" x=\"470.6863\" y=\"-14.3\" font-family=\"Times,serif\" font-size=\"14.00\" fill=\"#000000\">step</text>\n</g>\n<!-- gradient&#45;&gt;step -->\n<g id=\"edge4\" class=\"edge\">\n<title>gradient&#45;&gt;step</title>\n<path fill=\"none\" stroke=\"#000000\" d=\"M398.9456,-41.2422C410.9558,-37.3512 424.5297,-32.9536 436.6132,-29.0388\"/>\n<polygon fill=\"#000000\" stroke=\"#000000\" points=\"437.9112,-32.2975 446.3457,-25.8857 435.7537,-25.6382 437.9112,-32.2975\"/>\n</g>\n<!-- step&#45;&gt;predict -->\n<g id=\"edge6\" class=\"edge\">\n<title>step&#45;&gt;predict</title>\n<path fill=\"none\" stroke=\"#000000\" d=\"M443.4266,-18C384.9297,-18 246.7861,-18 174.0495,-18\"/>\n<polygon fill=\"#000000\" stroke=\"#000000\" points=\"173.8098,-14.5001 163.8098,-18 173.8097,-21.5001 173.8098,-14.5001\"/>\n<text text-anchor=\"middle\" x=\"289.7935\" y=\"-21.8\" font-family=\"Times,serif\" font-size=\"14.00\" fill=\"#000000\">repeat</text>\n</g>\n<!-- stop -->\n<g id=\"node6\" class=\"node\">\n<title>stop</title>\n<ellipse fill=\"none\" stroke=\"#000000\" cx=\"561.6863\" cy=\"-18\" rx=\"27\" ry=\"18\"/>\n<text text-anchor=\"middle\" x=\"561.6863\" y=\"-14.3\" font-family=\"Times,serif\" font-size=\"14.00\" fill=\"#000000\">stop</text>\n</g>\n<!-- step&#45;&gt;stop -->\n<g id=\"edge5\" class=\"edge\">\n<title>step&#45;&gt;stop</title>\n<path fill=\"none\" stroke=\"#000000\" d=\"M497.9893,-18C506.2676,-18 515.508,-18 524.3268,-18\"/>\n<polygon fill=\"#000000\" stroke=\"#000000\" points=\"524.4026,-21.5001 534.4025,-18 524.4025,-14.5001 524.4026,-21.5001\"/>\n</g>\n</g>\n</svg>\n"
          },
          "metadata": {},
          "execution_count": 175
        }
      ],
      "source": [
        "#hide_input\n",
        "#id gradient_descent\n",
        "#caption The gradient descent process\n",
        "#alt Graph showing the steps for Gradient Descent\n",
        "gv('''\n",
        "init->predict->loss->gradient->step->stop\n",
        "step->predict[label=repeat]\n",
        "''')"
      ]
    },
    {
      "cell_type": "markdown",
      "metadata": {
        "id": "q-rYpRjbjlQd"
      },
      "source": [
        "To summarize, at the beginning, the weights of our model can be random (training *from scratch*) or come from a pretrained model (*transfer learning*). In the first case, the output we will get from our inputs won't have anything to do with what we want, and even in the second case, it's very likely the pretrained model won't be very good at the specific task we are targeting. So the model will need to *learn* better weights.\n",
        "\n",
        "We begin by comparing the outputs the model gives us with our targets (we have labeled data, so we know what result the model should give) using a *loss function*, which returns a number that we want to make as low as possible by improving our weights. To do this, we take a few data items (such as images) from the training set and feed them to our model. We compare the corresponding targets using our loss function, and the score we get tells us how wrong our predictions were. We then change the weights a little bit to make it slightly better.\n",
        "\n",
        "To find how to change the weights to make the loss a bit better, we use calculus to calculate the *gradients*. (Actually, we let PyTorch do it for us!) Let's consider an analogy. Imagine you are lost in the mountains with your car parked at the lowest point. To find your way back to it, you might wander in a random direction, but that probably wouldn't help much. Since you know your vehicle is at the lowest point, you would be better off going downhill. By always taking a step in the direction of the steepest downward slope, you should eventually arrive at your destination. We use the magnitude of the gradient (i.e., the steepness of the slope) to tell us how big a step to take; specifically, we multiply the gradient by a number we choose called the *learning rate* to decide on the step size. We then *iterate* until we have reached the lowest point, which will be our parking lot, then we can *stop*.\n",
        "\n",
        "All of that we just saw can be transposed directly to the MNIST dataset, except for the loss function. Let's now see how we can define a good training objective. "
      ]
    },
    {
      "cell_type": "markdown",
      "metadata": {
        "id": "LKEPjPTbjlQd"
      },
      "source": [
        "## The MNIST Loss Function"
      ]
    },
    {
      "cell_type": "markdown",
      "metadata": {
        "id": "R1o1XzH6jlQd"
      },
      "source": [
        "We already have our independent variables `x`—these are the images themselves. We'll concatenate them all into a single tensor, and also change them from a list of matrices (a rank-3 tensor) to a list of vectors (a rank-2 tensor). We can do this using `view`, which is a PyTorch method that changes the shape of a tensor without changing its contents. `-1` is a special parameter to `view` that means \"make this axis as big as necessary to fit all the data\":"
      ]
    },
    {
      "cell_type": "code",
      "execution_count": 176,
      "metadata": {
        "id": "7FXi2GYTjlQe"
      },
      "outputs": [],
      "source": [
        "train_x = torch.cat([stacked_threes, stacked_sevens]).view(-1, 28*28)"
      ]
    },
    {
      "cell_type": "markdown",
      "metadata": {
        "id": "1pNATGA0jlQe"
      },
      "source": [
        "We need a label for each image. We'll use `1` for 3s and `0` for 7s:"
      ]
    },
    {
      "cell_type": "code",
      "execution_count": 177,
      "metadata": {
        "colab": {
          "base_uri": "https://localhost:8080/"
        },
        "id": "bzXwdudBjlQe",
        "outputId": "894db857-d63f-449f-c884-235c4b3930bf"
      },
      "outputs": [
        {
          "output_type": "execute_result",
          "data": {
            "text/plain": [
              "(torch.Size([12396, 784]), torch.Size([12396, 1]))"
            ]
          },
          "metadata": {},
          "execution_count": 177
        }
      ],
      "source": [
        "train_y = tensor([1]*len(threes) + [0]*len(sevens)).unsqueeze(1)\n",
        "train_x.shape,train_y.shape"
      ]
    },
    {
      "cell_type": "markdown",
      "metadata": {
        "id": "_I7ACt5WjlQe"
      },
      "source": [
        "A `Dataset` in PyTorch is required to return a tuple of `(x,y)` when indexed. Python provides a `zip` function which, when combined with `list`, provides a simple way to get this functionality:"
      ]
    },
    {
      "cell_type": "code",
      "execution_count": 178,
      "metadata": {
        "colab": {
          "base_uri": "https://localhost:8080/"
        },
        "id": "b9QAQS_vjlQe",
        "outputId": "7f5d43a1-334a-424e-ae7b-a6709cb79807"
      },
      "outputs": [
        {
          "output_type": "execute_result",
          "data": {
            "text/plain": [
              "(torch.Size([784]), tensor([1]))"
            ]
          },
          "metadata": {},
          "execution_count": 178
        }
      ],
      "source": [
        "dset = list(zip(train_x,train_y))\n",
        "x,y = dset[0]\n",
        "x.shape,y"
      ]
    },
    {
      "cell_type": "code",
      "execution_count": 179,
      "metadata": {
        "id": "XfAzN1QijlQf"
      },
      "outputs": [],
      "source": [
        "valid_x = torch.cat([valid_3_tens, valid_7_tens]).view(-1, 28*28)\n",
        "valid_y = tensor([1]*len(valid_3_tens) + [0]*len(valid_7_tens)).unsqueeze(1)\n",
        "valid_dset = list(zip(valid_x,valid_y))"
      ]
    },
    {
      "cell_type": "markdown",
      "metadata": {
        "id": "bn4klXLbjlQf"
      },
      "source": [
        "Now we need an (initially random) weight for every pixel (this is the *initialize* step in our seven-step process):"
      ]
    },
    {
      "cell_type": "code",
      "execution_count": 180,
      "metadata": {
        "id": "DYecdGzjjlQf"
      },
      "outputs": [],
      "source": [
        "def init_params(size, std=1.0): return (torch.randn(size)*std).requires_grad_()"
      ]
    },
    {
      "cell_type": "code",
      "execution_count": 181,
      "metadata": {
        "id": "4eDztTL-jlQf"
      },
      "outputs": [],
      "source": [
        "weights = init_params((28*28,1))"
      ]
    },
    {
      "cell_type": "markdown",
      "metadata": {
        "id": "1vSv0VBqjlQf"
      },
      "source": [
        "The function `weights*pixels` won't be flexible enough—it is always equal to 0 when the pixels are equal to 0 (i.e., its *intercept* is 0). You might remember from high school math that the formula for a line is `y=w*x+b`; we still need the `b`. We'll initialize it to a random number too:"
      ]
    },
    {
      "cell_type": "code",
      "execution_count": 182,
      "metadata": {
        "id": "OzrWr7TNjlQf"
      },
      "outputs": [],
      "source": [
        "bias = init_params(1)"
      ]
    },
    {
      "cell_type": "markdown",
      "metadata": {
        "id": "WFDsicwxjlQg"
      },
      "source": [
        "In neural networks, the `w` in the equation `y=w*x+b` is called the *weights*, and the `b` is called the *bias*. Together, the weights and bias make up the *parameters*."
      ]
    },
    {
      "cell_type": "markdown",
      "metadata": {
        "id": "8kreaHacjlQg"
      },
      "source": [
        "> jargon: Parameters: The _weights_ and _biases_ of a model. The weights are the `w` in the equation `w*x+b`, and the biases are the `b` in that equation."
      ]
    },
    {
      "cell_type": "markdown",
      "metadata": {
        "id": "joxpf5dbjlQg"
      },
      "source": [
        "We can now calculate a prediction for one image:"
      ]
    },
    {
      "cell_type": "code",
      "execution_count": 183,
      "metadata": {
        "colab": {
          "base_uri": "https://localhost:8080/"
        },
        "id": "qo8PC2fTjlQg",
        "outputId": "bd12f3dd-b6fe-4187-dbda-c85f69c3670a"
      },
      "outputs": [
        {
          "output_type": "execute_result",
          "data": {
            "text/plain": [
              "tensor([20.5199], grad_fn=<AddBackward0>)"
            ]
          },
          "metadata": {},
          "execution_count": 183
        }
      ],
      "source": [
        "(train_x[0]*weights.T).sum() + bias"
      ]
    },
    {
      "cell_type": "markdown",
      "metadata": {
        "id": "Qqnd3C_DjlQg"
      },
      "source": [
        "While we could use a Python `for` loop to calculate the prediction for each image, that would be very slow. Because Python loops don't run on the GPU, and because Python is a slow language for loops in general, we need to represent as much of the computation in a model as possible using higher-level functions.\n",
        "\n",
        "In this case, there's an extremely convenient mathematical operation that calculates `w*x` for every row of a matrix—it's called *matrix multiplication*. <<matmul>> shows what matrix multiplication looks like."
      ]
    },
    {
      "cell_type": "markdown",
      "metadata": {
        "id": "mbWGglCgjlQg"
      },
      "source": [
        "<img alt=\"Matrix multiplication\" width=\"400\" caption=\"Matrix multiplication\" src=\"images/matmul2.svg\" id=\"matmul\"/>"
      ]
    },
    {
      "cell_type": "markdown",
      "metadata": {
        "id": "b30HR-ZgjlQh"
      },
      "source": [
        "This image shows two matrices, `A` and `B`, being multiplied together. Each item of the result, which we'll call `AB`, contains each item of its corresponding row of `A` multiplied by each item of its corresponding column of `B`, added together. For instance, row 1, column 2 (the yellow dot with a red border) is calculated as $a_{1,1} * b_{1,2} + a_{1,2} * b_{2,2}$. If you need a refresher on matrix multiplication, we suggest you take a look at the [Intro to Matrix Multiplication](https://youtu.be/kT4Mp9EdVqs) on *Khan Academy*, since this is the most important mathematical operation in deep learning.\n",
        "\n",
        "In Python, matrix multiplication is represented with the `@` operator. Let's try it:"
      ]
    },
    {
      "cell_type": "code",
      "execution_count": 184,
      "metadata": {
        "colab": {
          "base_uri": "https://localhost:8080/"
        },
        "id": "ZrO4tuLCjlQh",
        "outputId": "505fc5be-4522-4ec3-9863-659ceeae00e8"
      },
      "outputs": [
        {
          "output_type": "execute_result",
          "data": {
            "text/plain": [
              "tensor([[20.5200],\n",
              "        [12.6310],\n",
              "        [17.7357],\n",
              "        ...,\n",
              "        [ 6.1848],\n",
              "        [ 9.3966],\n",
              "        [ 5.5264]], grad_fn=<AddBackward0>)"
            ]
          },
          "metadata": {},
          "execution_count": 184
        }
      ],
      "source": [
        "def linear1(xb): return xb@weights + bias\n",
        "preds = linear1(train_x)\n",
        "preds"
      ]
    },
    {
      "cell_type": "markdown",
      "metadata": {
        "id": "Z6MLL3BHjlQh"
      },
      "source": [
        "The first element is the same as we calculated before, as we'd expect. This equation, `batch@weights + bias`, is one of the two fundamental equations of any neural network (the other one is the *activation function*, which we'll see in a moment)."
      ]
    },
    {
      "cell_type": "markdown",
      "metadata": {
        "id": "qq4Nyh-XjlQh"
      },
      "source": [
        "Let's check our accuracy. To decide if an output represents a 3 or a 7, we can just check whether it's greater than 0.0, so our accuracy for each item can be calculated (using broadcasting, so no loops!) with:"
      ]
    },
    {
      "cell_type": "code",
      "execution_count": 185,
      "metadata": {
        "colab": {
          "base_uri": "https://localhost:8080/"
        },
        "id": "N4aumZXojlQh",
        "outputId": "fea86251-9efc-4100-aab2-abdd847047aa"
      },
      "outputs": [
        {
          "output_type": "execute_result",
          "data": {
            "text/plain": [
              "tensor([[ True],\n",
              "        [ True],\n",
              "        [ True],\n",
              "        ...,\n",
              "        [False],\n",
              "        [False],\n",
              "        [False]])"
            ]
          },
          "metadata": {},
          "execution_count": 185
        }
      ],
      "source": [
        "corrects = (preds>0.0).float() == train_y\n",
        "corrects"
      ]
    },
    {
      "cell_type": "code",
      "execution_count": 186,
      "metadata": {
        "colab": {
          "base_uri": "https://localhost:8080/"
        },
        "id": "-ZutNjObjlQh",
        "outputId": "93d9006b-be1b-49d5-ab61-91c5139cf562"
      },
      "outputs": [
        {
          "output_type": "execute_result",
          "data": {
            "text/plain": [
              "0.6231849193572998"
            ]
          },
          "metadata": {},
          "execution_count": 186
        }
      ],
      "source": [
        "corrects.float().mean().item()"
      ]
    },
    {
      "cell_type": "markdown",
      "metadata": {
        "id": "1irjPRMHjlQi"
      },
      "source": [
        "Now let's see what the change in accuracy is for a small change in one of the weights (note that we have to ask PyTorch not to calculate gradients as we do this, which is what `with torch.no_grad()` is doing here):"
      ]
    },
    {
      "cell_type": "code",
      "execution_count": 187,
      "metadata": {
        "id": "y8nCldFEjlQi"
      },
      "outputs": [],
      "source": [
        "with torch.no_grad(): weights[0] *= 1.0001"
      ]
    },
    {
      "cell_type": "code",
      "execution_count": 188,
      "metadata": {
        "colab": {
          "base_uri": "https://localhost:8080/"
        },
        "id": "KHiVK262jlQi",
        "outputId": "64805583-e781-41cc-f945-b48cf2832628"
      },
      "outputs": [
        {
          "output_type": "execute_result",
          "data": {
            "text/plain": [
              "0.6231849193572998"
            ]
          },
          "metadata": {},
          "execution_count": 188
        }
      ],
      "source": [
        "preds = linear1(train_x)\n",
        "((preds>0.0).float() == train_y).float().mean().item()"
      ]
    },
    {
      "cell_type": "markdown",
      "metadata": {
        "id": "ObnDixenjlQi"
      },
      "source": [
        "As we've seen, we need gradients in order to improve our model using SGD, and in order to calculate gradients we need some *loss function* that represents how good our model is. That is because the gradients are a measure of how that loss function changes with small tweaks to the weights.\n",
        "\n",
        "So, we need to choose a loss function. The obvious approach would be to use accuracy, which is our metric, as our loss function as well. In this case, we would calculate our prediction for each image, collect these values to calculate an overall accuracy, and then calculate the gradients of each weight with respect to that overall accuracy.\n",
        "\n",
        "Unfortunately, we have a significant technical problem here. The gradient of a function is its *slope*, or its steepness, which can be defined as *rise over run*—that is, how much the value of the function goes up or down, divided by how much we changed the input. We can write this in mathematically as: `(y_new - y_old) / (x_new - x_old)`. This gives us a good approximation of the gradient when `x_new` is very similar to `x_old`, meaning that their difference is very small. But accuracy only changes at all when a prediction changes from a 3 to a 7, or vice versa. The problem is that a small change in weights from `x_old` to `x_new` isn't likely to cause any prediction to change, so `(y_new - y_old)` will almost always be 0. In other words, the gradient is 0 almost everywhere."
      ]
    },
    {
      "cell_type": "markdown",
      "metadata": {
        "id": "dUW_7CeljlQi"
      },
      "source": [
        "A very small change in the value of a weight will often not actually change the accuracy at all. This means it is not useful to use accuracy as a loss function—if we do, most of the time our gradients will actually be 0, and the model will not be able to learn from that number.\n",
        "\n",
        "> S: In mathematical terms, accuracy is a function that is constant almost everywhere (except at the threshold, 0.5), so its derivative is nil almost everywhere (and infinity at the threshold). This then gives gradients that are 0 or infinite, which are useless for updating the model.\n",
        "\n",
        "Instead, we need a loss function which, when our weights result in slightly better predictions, gives us a slightly better loss. So what does a \"slightly better prediction\" look like, exactly? Well, in this case, it means that if the correct answer is a 3 the score is a little higher, or if the correct answer is a 7 the score is a little lower.\n",
        "\n",
        "Let's write such a function now. What form does it take?\n",
        "\n",
        "The loss function receives not the images themselves, but the predictions from the model. Let's make one argument, `prds`, of values between 0 and 1, where each value is the prediction that an image is a 3. It is a vector (i.e., a rank-1 tensor), indexed over the images.\n",
        "\n",
        "The purpose of the loss function is to measure the difference between predicted values and the true values — that is, the targets (aka labels). Let's make another argument, `trgts`, with values of 0 or 1 which tells whether an image actually is a 3 or not. It is also a vector (i.e., another rank-1 tensor), indexed over the images.\n",
        "\n",
        "So, for instance, suppose we had three images which we knew were a 3, a 7, and a 3. And suppose our model predicted with high confidence (`0.9`) that the first was a 3, with slight confidence (`0.4`) that the second was a 7, and with fair confidence (`0.2`), but incorrectly, that the last was a 7. This would mean our loss function would receive these values as its inputs:"
      ]
    },
    {
      "cell_type": "code",
      "execution_count": 189,
      "metadata": {
        "id": "hGeQkNj1jlQj"
      },
      "outputs": [],
      "source": [
        "trgts  = tensor([1,0,1])\n",
        "prds   = tensor([0.9, 0.4, 0.2])"
      ]
    },
    {
      "cell_type": "markdown",
      "metadata": {
        "id": "J6RxXHfUjlQj"
      },
      "source": [
        "Here's a first try at a loss function that measures the distance between `predictions` and `targets`:"
      ]
    },
    {
      "cell_type": "code",
      "execution_count": 190,
      "metadata": {
        "id": "a0iba5JKjlQj"
      },
      "outputs": [],
      "source": [
        "def mnist_loss(predictions, targets):\n",
        "    return torch.where(targets==1, 1-predictions, predictions).mean()"
      ]
    },
    {
      "cell_type": "markdown",
      "metadata": {
        "id": "PRJ04VKnjlQj"
      },
      "source": [
        "We're using a new function, `torch.where(a,b,c)`. This is the same as running the list comprehension `[b[i] if a[i] else c[i] for i in range(len(a))]`, except it works on tensors, at C/CUDA speed. In plain English, this function will measure how distant each prediction is from 1 if it should be 1, and how distant it is from 0 if it should be 0, and then it will take the mean of all those distances.\n",
        "\n",
        "> note: Read the Docs: It's important to learn about PyTorch functions like this, because looping over tensors in Python performs at Python speed, not C/CUDA speed! Try running `help(torch.where)` now to read the docs for this function, or, better still, look it up on the PyTorch documentation site."
      ]
    },
    {
      "cell_type": "markdown",
      "metadata": {
        "id": "sURTWydmjlQj"
      },
      "source": [
        "Let's try it on our `prds` and `trgts`:"
      ]
    },
    {
      "cell_type": "code",
      "execution_count": 191,
      "metadata": {
        "colab": {
          "base_uri": "https://localhost:8080/"
        },
        "id": "4Lh4xRPgjlQj",
        "outputId": "04dc0469-da89-41d4-af96-3179d45f3527"
      },
      "outputs": [
        {
          "output_type": "execute_result",
          "data": {
            "text/plain": [
              "tensor([0.1000, 0.4000, 0.8000])"
            ]
          },
          "metadata": {},
          "execution_count": 191
        }
      ],
      "source": [
        "torch.where(trgts==1, 1-prds, prds)"
      ]
    },
    {
      "cell_type": "markdown",
      "metadata": {
        "id": "b1D4z9ypjlQk"
      },
      "source": [
        "You can see that this function returns a lower number when predictions are more accurate, when accurate predictions are more confident (higher absolute values), and when inaccurate predictions are less confident. In PyTorch, we always assume that a lower value of a loss function is better. Since we need a scalar for the final loss, `mnist_loss` takes the mean of the previous tensor:"
      ]
    },
    {
      "cell_type": "code",
      "execution_count": 192,
      "metadata": {
        "colab": {
          "base_uri": "https://localhost:8080/"
        },
        "id": "bb4paLcFjlQk",
        "outputId": "54d2a062-7de6-4dee-a0fd-c0a3d55286d4"
      },
      "outputs": [
        {
          "output_type": "execute_result",
          "data": {
            "text/plain": [
              "tensor(0.4333)"
            ]
          },
          "metadata": {},
          "execution_count": 192
        }
      ],
      "source": [
        "mnist_loss(prds,trgts)"
      ]
    },
    {
      "cell_type": "markdown",
      "metadata": {
        "id": "zWYOHxVDjlQk"
      },
      "source": [
        "For instance, if we change our prediction for the one \"false\" target from `0.2` to `0.8` the loss will go down, indicating that this is a better prediction:"
      ]
    },
    {
      "cell_type": "code",
      "execution_count": 193,
      "metadata": {
        "colab": {
          "base_uri": "https://localhost:8080/"
        },
        "id": "OjE8NYhQjlQk",
        "outputId": "883734c8-8bd5-4923-8e3f-6eef3634b40c"
      },
      "outputs": [
        {
          "output_type": "execute_result",
          "data": {
            "text/plain": [
              "tensor(0.2333)"
            ]
          },
          "metadata": {},
          "execution_count": 193
        }
      ],
      "source": [
        "mnist_loss(tensor([0.9, 0.4, 0.8]),trgts)"
      ]
    },
    {
      "cell_type": "markdown",
      "metadata": {
        "id": "PEY2vxQ6jlQk"
      },
      "source": [
        "One problem with `mnist_loss` as currently defined is that it assumes that predictions are always between 0 and 1. We need to ensure, then, that this is actually the case! As it happens, there is a function that does exactly that—let's take a look."
      ]
    },
    {
      "cell_type": "markdown",
      "metadata": {
        "id": "wt68EC1sjlQk"
      },
      "source": [
        "### Sigmoid"
      ]
    },
    {
      "cell_type": "markdown",
      "metadata": {
        "id": "_2qiRhftjlQl"
      },
      "source": [
        "The `sigmoid` function always outputs a number between 0 and 1. It's defined as follows:"
      ]
    },
    {
      "cell_type": "code",
      "execution_count": 194,
      "metadata": {
        "id": "88W4HgoqjlQl"
      },
      "outputs": [],
      "source": [
        "def sigmoid(x): return 1/(1+torch.exp(-x))"
      ]
    },
    {
      "cell_type": "markdown",
      "metadata": {
        "id": "vbGhrBYRjlQl"
      },
      "source": [
        "Pytorch defines an accelerated version for us, so we don’t really need our own. This is an important function in deep learning, since we often want to ensure values are between 0 and 1. This is what it looks like:"
      ]
    },
    {
      "cell_type": "code",
      "execution_count": 195,
      "metadata": {
        "colab": {
          "base_uri": "https://localhost:8080/",
          "height": 285
        },
        "id": "qjwLleHljlQl",
        "outputId": "5e06638f-5213-41c6-e881-22c2fb1dd739"
      },
      "outputs": [
        {
          "output_type": "display_data",
          "data": {
            "text/plain": [
              "<Figure size 432x288 with 1 Axes>"
            ],
            "image/png": "[encoded data removed]"
          },
          "metadata": {
            "needs_background": "light"
          }
        }
      ],
      "source": [
        "plot_function(torch.sigmoid, title='Sigmoid', min=-4, max=4)"
      ]
    },
    {
      "cell_type": "markdown",
      "metadata": {
        "id": "Wm8dglUDjlQl"
      },
      "source": [
        "As you can see, it takes any input value, positive or negative, and smooshes it onto an output value between 0 and 1. It's also a smooth curve that only goes up, which makes it easier for SGD to find meaningful gradients. \n",
        "\n",
        "Let's update `mnist_loss` to first apply `sigmoid` to the inputs:"
      ]
    },
    {
      "cell_type": "code",
      "execution_count": 196,
      "metadata": {
        "id": "kHJBdTJEjlQl"
      },
      "outputs": [],
      "source": [
        "def mnist_loss(predictions, targets):\n",
        "    predictions = predictions.sigmoid()\n",
        "    return torch.where(targets==1, 1-predictions, predictions).mean()"
      ]
    },
    {
      "cell_type": "markdown",
      "metadata": {
        "id": "k670CqN8jlQl"
      },
      "source": [
        "Now we can be confident our loss function will work, even if the predictions are not between 0 and 1. All that is required is that a higher prediction corresponds to higher confidence an image is a 3.\n",
        "\n",
        "Having defined a loss function, now is a good moment to recapitulate why we did this. After all, we already had a metric, which was overall accuracy. So why did we define a loss?\n",
        "\n",
        "The key difference is that the metric is to drive human understanding and the loss is to drive automated learning. To drive automated learning, the loss must be a function that has a meaningful derivative. It can't have big flat sections and large jumps, but instead must be reasonably smooth. This is why we designed a loss function that would respond to small changes in confidence level. This requirement means that sometimes it does not really reflect exactly what we are trying to achieve, but is rather a compromise between our real goal and a function that can be optimized using its gradient. The loss function is calculated for each item in our dataset, and then at the end of an epoch the loss values are all averaged and the overall mean is reported for the epoch.\n",
        "\n",
        "Metrics, on the other hand, are the numbers that we really care about. These are the values that are printed at the end of each epoch that tell us how our model is really doing. It is important that we learn to focus on these metrics, rather than the loss, when judging the performance of a model."
      ]
    },
    {
      "cell_type": "markdown",
      "metadata": {
        "id": "jazXxfLMjlQl"
      },
      "source": [
        "### SGD and Mini-Batches"
      ]
    },
    {
      "cell_type": "markdown",
      "metadata": {
        "id": "k60e9pl-jlQl"
      },
      "source": [
        "Now that we have a loss function that is suitable for driving SGD, we can consider some of the details involved in the next phase of the learning process, which is to change or update the weights based on the gradients. This is called an *optimization step*.\n",
        "\n",
        "In order to take an optimization step we need to calculate the loss over one or more data items. How many should we use? We could calculate it for the whole dataset, and take the average, or we could calculate it for a single data item. But neither of these is ideal. Calculating it for the whole dataset would take a very long time. Calculating it for a single item would not use much information, so it would result in a very imprecise and unstable gradient. That is, you'd be going to the trouble of updating the weights, but taking into account only how that would improve the model's performance on that single item.\n",
        "\n",
        "So instead we take a compromise between the two: we calculate the average loss for a few data items at a time. This is called a *mini-batch*. The number of data items in the mini-batch is called the *batch size*. A larger batch size means that you will get a more accurate and stable estimate of your dataset's gradients from the loss function, but it will take longer, and you will process fewer mini-batches per epoch. Choosing a good batch size is one of the decisions you need to make as a deep learning practitioner to train your model quickly and accurately. We will talk about how to make this choice throughout this book.\n",
        "\n",
        "Another good reason for using mini-batches rather than calculating the gradient on individual data items is that, in practice, we nearly always do our training on an accelerator such as a GPU. These accelerators only perform well if they have lots of work to do at a time, so it's helpful if we can give them lots of data items to work on. Using mini-batches is one of the best ways to do this. However, if you give them too much data to work on at once, they run out of memory—making GPUs happy is also tricky!\n",
        "\n",
        "As we saw in our discussion of data augmentation in <<chapter_production>>, we get better generalization if we can vary things during training. One simple and effective thing we can vary is what data items we put in each mini-batch. Rather than simply enumerating our dataset in order for every epoch, instead what we normally do is randomly shuffle it on every epoch, before we create mini-batches. PyTorch and fastai provide a class that will do the shuffling and mini-batch collation for you, called `DataLoader`.\n",
        "\n",
        "A `DataLoader` can take any Python collection and turn it into an iterator over mini-batches, like so:"
      ]
    },
    {
      "cell_type": "code",
      "execution_count": 198,
      "metadata": {
        "colab": {
          "base_uri": "https://localhost:8080/"
        },
        "id": "9yIvIC84jlQm",
        "outputId": "414c408f-2259-4d10-c1b7-998516433ca4"
      },
      "outputs": [
        {
          "output_type": "execute_result",
          "data": {
            "text/plain": [
              "[tensor([ 8,  9,  5, 11,  4]),\n",
              " tensor([ 7, 13, 14,  2,  3]),\n",
              " tensor([ 6, 12, 10,  1,  0])]"
            ]
          },
          "metadata": {},
          "execution_count": 198
        }
      ],
      "source": [
        "coll = range(15)\n",
        "dl = DataLoader(coll, batch_size=5, shuffle=True)\n",
        "list(dl)"
      ]
    },
    {
      "cell_type": "markdown",
      "metadata": {
        "id": "9lfL3GwtjlQm"
      },
      "source": [
        "For training a model, we don't just want any Python collection, but a collection containing independent and dependent variables (that is, the inputs and targets of the model). A collection that contains tuples of independent and dependent variables is known in PyTorch as a `Dataset`. Here's an example of an extremely simple `Dataset`:"
      ]
    },
    {
      "cell_type": "code",
      "execution_count": 199,
      "metadata": {
        "colab": {
          "base_uri": "https://localhost:8080/"
        },
        "id": "N7OWbpYhjlQm",
        "outputId": "424794df-ad14-46f6-b0fe-61eafa2bc2c9"
      },
      "outputs": [
        {
          "output_type": "execute_result",
          "data": {
            "text/plain": [
              "(#26) [(0, 'a'),(1, 'b'),(2, 'c'),(3, 'd'),(4, 'e'),(5, 'f'),(6, 'g'),(7, 'h'),(8, 'i'),(9, 'j')...]"
            ]
          },
          "metadata": {},
          "execution_count": 199
        }
      ],
      "source": [
        "ds = L(enumerate(string.ascii_lowercase))\n",
        "ds"
      ]
    },
    {
      "cell_type": "markdown",
      "metadata": {
        "id": "VjSOf95vjlQm"
      },
      "source": [
        "When we pass a `Dataset` to a `DataLoader` we will get back mini-batches which are themselves tuples of tensors representing batches of independent and dependent variables:"
      ]
    },
    {
      "cell_type": "code",
      "execution_count": 200,
      "metadata": {
        "colab": {
          "base_uri": "https://localhost:8080/"
        },
        "id": "QQ6zQdTijlQm",
        "outputId": "296c290a-c1ea-46eb-a156-600bd6844354"
      },
      "outputs": [
        {
          "output_type": "execute_result",
          "data": {
            "text/plain": [
              "[(tensor([19, 14,  0, 24, 20, 12]), ('t', 'o', 'a', 'y', 'u', 'm')),\n",
              " (tensor([23,  8,  9,  3, 16,  6]), ('x', 'i', 'j', 'd', 'q', 'g')),\n",
              " (tensor([ 4,  7,  1, 13,  2, 22]), ('e', 'h', 'b', 'n', 'c', 'w')),\n",
              " (tensor([ 5, 17, 18, 10, 11, 15]), ('f', 'r', 's', 'k', 'l', 'p')),\n",
              " (tensor([25, 21]), ('z', 'v'))]"
            ]
          },
          "metadata": {},
          "execution_count": 200
        }
      ],
      "source": [
        "dl = DataLoader(ds, batch_size=6, shuffle=True)\n",
        "list(dl)"
      ]
    },
    {
      "cell_type": "markdown",
      "metadata": {
        "id": "aB4tx8IOjlQm"
      },
      "source": [
        "We are now ready to write our first training loop for a model using SGD!"
      ]
    },
    {
      "cell_type": "markdown",
      "metadata": {
        "id": "PRSCWqaLjlQn"
      },
      "source": [
        "## Putting It All Together"
      ]
    },
    {
      "cell_type": "markdown",
      "metadata": {
        "id": "c5serV-6jlQn"
      },
      "source": [
        "It's time to implement the process we saw in <<gradient_descent>>. In code, our process will be implemented something like this for each epoch:\n",
        "\n",
        "```python\n",
        "for x,y in dl:\n",
        "    pred = model(x)\n",
        "    loss = loss_func(pred, y)\n",
        "    loss.backward()\n",
        "    parameters -= parameters.grad * lr\n",
        "```"
      ]
    },
    {
      "cell_type": "markdown",
      "metadata": {
        "id": "c1hKvH00jlQn"
      },
      "source": [
        "First, let's re-initialize our parameters:"
      ]
    },
    {
      "cell_type": "code",
      "execution_count": 201,
      "metadata": {
        "id": "5_jI3q0ljlQn"
      },
      "outputs": [],
      "source": [
        "weights = init_params((28*28,1))\n",
        "bias = init_params(1)"
      ]
    },
    {
      "cell_type": "markdown",
      "metadata": {
        "id": "7ZSZEfdmjlQn"
      },
      "source": [
        "A `DataLoader` can be created from a `Dataset`:"
      ]
    },
    {
      "cell_type": "code",
      "execution_count": 202,
      "metadata": {
        "colab": {
          "base_uri": "https://localhost:8080/"
        },
        "id": "yOIoaGn_jlQn",
        "outputId": "00bd36e8-7edc-46ba-e46c-eb89941e39c8"
      },
      "outputs": [
        {
          "output_type": "execute_result",
          "data": {
            "text/plain": [
              "(torch.Size([256, 784]), torch.Size([256, 1]))"
            ]
          },
          "metadata": {},
          "execution_count": 202
        }
      ],
      "source": [
        "dl = DataLoader(dset, batch_size=256)\n",
        "xb,yb = first(dl)\n",
        "xb.shape,yb.shape"
      ]
    },
    {
      "cell_type": "markdown",
      "metadata": {
        "id": "G1V7VGBdjlQn"
      },
      "source": [
        "We'll do the same for the validation set:"
      ]
    },
    {
      "cell_type": "code",
      "execution_count": 203,
      "metadata": {
        "id": "rw5i3JESjlQn"
      },
      "outputs": [],
      "source": [
        "valid_dl = DataLoader(valid_dset, batch_size=256)"
      ]
    },
    {
      "cell_type": "markdown",
      "metadata": {
        "id": "a7pcPgZcjlQn"
      },
      "source": [
        "Let's create a mini-batch of size 4 for testing:"
      ]
    },
    {
      "cell_type": "code",
      "execution_count": 204,
      "metadata": {
        "colab": {
          "base_uri": "https://localhost:8080/"
        },
        "id": "nclnWaDojlQn",
        "outputId": "1d871113-47a6-4272-b3d5-0de0872b765d"
      },
      "outputs": [
        {
          "output_type": "execute_result",
          "data": {
            "text/plain": [
              "torch.Size([4, 784])"
            ]
          },
          "metadata": {},
          "execution_count": 204
        }
      ],
      "source": [
        "batch = train_x[:4]\n",
        "batch.shape"
      ]
    },
    {
      "cell_type": "code",
      "execution_count": 205,
      "metadata": {
        "colab": {
          "base_uri": "https://localhost:8080/"
        },
        "id": "N_gsVDbPjlQo",
        "outputId": "2cdaf3c2-d665-4c25-d295-c2a8d5e487c5"
      },
      "outputs": [
        {
          "output_type": "execute_result",
          "data": {
            "text/plain": [
              "tensor([[-6.3363],\n",
              "        [ 2.0456],\n",
              "        [ 2.3045],\n",
              "        [-1.0365]], grad_fn=<AddBackward0>)"
            ]
          },
          "metadata": {},
          "execution_count": 205
        }
      ],
      "source": [
        "preds = linear1(batch)\n",
        "preds"
      ]
    },
    {
      "cell_type": "code",
      "execution_count": 206,
      "metadata": {
        "colab": {
          "base_uri": "https://localhost:8080/"
        },
        "id": "TPwPzPO7jlQo",
        "outputId": "516f69ad-b6f1-4179-9bef-a9a8186db09b"
      },
      "outputs": [
        {
          "output_type": "execute_result",
          "data": {
            "text/plain": [
              "tensor(0.4854, grad_fn=<MeanBackward0>)"
            ]
          },
          "metadata": {},
          "execution_count": 206
        }
      ],
      "source": [
        "loss = mnist_loss(preds, train_y[:4])\n",
        "loss"
      ]
    },
    {
      "cell_type": "markdown",
      "metadata": {
        "id": "n3QdKZpgjlQo"
      },
      "source": [
        "Now we can calculate the gradients:"
      ]
    },
    {
      "cell_type": "code",
      "execution_count": 210,
      "metadata": {
        "colab": {
          "base_uri": "https://localhost:8080/"
        },
        "id": "sB_a4ALJjlQo",
        "outputId": "d54bb3d9-af6d-44cc-b371-6221eface170"
      },
      "outputs": [
        {
          "output_type": "execute_result",
          "data": {
            "text/plain": [
              "(torch.Size([784, 1]), tensor(-0.0151), tensor([-0.0947]))"
            ]
          },
          "metadata": {},
          "execution_count": 210
        }
      ],
      "source": [
        "loss.backward()\n",
        "weights.grad.shape,weights.grad.mean(),bias.grad"
      ]
    },
    {
      "cell_type": "markdown",
      "metadata": {
        "id": "Qe20NDrVjlQo"
      },
      "source": [
        "Let's put that all in a function:"
      ]
    },
    {
      "cell_type": "code",
      "execution_count": 211,
      "metadata": {
        "id": "P2LVwR8ejlQo"
      },
      "outputs": [],
      "source": [
        "def calc_grad(xb, yb, model):\n",
        "    preds = model(xb)\n",
        "    loss = mnist_loss(preds, yb)\n",
        "    loss.backward()"
      ]
    },
    {
      "cell_type": "markdown",
      "metadata": {
        "id": "Mm8t1M5PjlQo"
      },
      "source": [
        "and test it:"
      ]
    },
    {
      "cell_type": "code",
      "execution_count": 212,
      "metadata": {
        "colab": {
          "base_uri": "https://localhost:8080/"
        },
        "id": "kiheD7IpjlQo",
        "outputId": "25f98ff0-52fa-4653-d30a-1a634c175924"
      },
      "outputs": [
        {
          "output_type": "execute_result",
          "data": {
            "text/plain": [
              "(tensor(-0.0303), tensor([-0.1895]))"
            ]
          },
          "metadata": {},
          "execution_count": 212
        }
      ],
      "source": [
        "calc_grad(batch, train_y[:4], linear1)\n",
        "weights.grad.mean(),bias.grad"
      ]
    },
    {
      "cell_type": "markdown",
      "metadata": {
        "id": "DscMOyO9jlQp"
      },
      "source": [
        "But look what happens if we call it twice:"
      ]
    },
    {
      "cell_type": "code",
      "execution_count": 213,
      "metadata": {
        "colab": {
          "base_uri": "https://localhost:8080/"
        },
        "id": "IRVfitKZjlQp",
        "outputId": "2afbee30-cc54-4373-ea7c-17b9e2ea0eaf"
      },
      "outputs": [
        {
          "output_type": "execute_result",
          "data": {
            "text/plain": [
              "(tensor(-0.0454), tensor([-0.2842]))"
            ]
          },
          "metadata": {},
          "execution_count": 213
        }
      ],
      "source": [
        "calc_grad(batch, train_y[:4], linear1)\n",
        "weights.grad.mean(),bias.grad"
      ]
    },
    {
      "cell_type": "markdown",
      "metadata": {
        "id": "byCY2IMGjlQp"
      },
      "source": [
        "The gradients have changed! The reason for this is that `loss.backward` actually *adds* the gradients of `loss` to any gradients that are currently stored. So, we have to set the current gradients to 0 first:"
      ]
    },
    {
      "cell_type": "code",
      "execution_count": 214,
      "metadata": {
        "id": "zvhUmL1GjlQp"
      },
      "outputs": [],
      "source": [
        "weights.grad.zero_()\n",
        "bias.grad.zero_();"
      ]
    },
    {
      "cell_type": "markdown",
      "metadata": {
        "id": "PT8Un7vBjlQp"
      },
      "source": [
        "> note: Inplace Operations: Methods in PyTorch whose names end in an underscore modify their objects _in place_. For instance, `bias.zero_()` sets all elements of the tensor `bias` to 0."
      ]
    },
    {
      "cell_type": "markdown",
      "metadata": {
        "id": "8liUZnaHjlQp"
      },
      "source": [
        "Our only remaining step is to update the weights and biases based on the gradient and learning rate. When we do so, we have to tell PyTorch not to take the gradient of this step too—otherwise things will get very confusing when we try to compute the derivative at the next batch! If we assign to the `data` attribute of a tensor then PyTorch will not take the gradient of that step. Here's our basic training loop for an epoch:"
      ]
    },
    {
      "cell_type": "code",
      "execution_count": 215,
      "metadata": {
        "id": "9zqIOYtajlQp"
      },
      "outputs": [],
      "source": [
        "def train_epoch(model, lr, params):\n",
        "    for xb,yb in dl:\n",
        "        calc_grad(xb, yb, model)\n",
        "        for p in params:\n",
        "            p.data -= p.grad*lr\n",
        "            p.grad.zero_()"
      ]
    },
    {
      "cell_type": "markdown",
      "metadata": {
        "id": "E2QXEWTFjlQp"
      },
      "source": [
        "We also want to check how we're doing, by looking at the accuracy of the validation set. To decide if an output represents a 3 or a 7, we can just check whether it's greater than 0. So our accuracy for each item can be calculated (using broadcasting, so no loops!) with:"
      ]
    },
    {
      "cell_type": "code",
      "execution_count": 216,
      "metadata": {
        "colab": {
          "base_uri": "https://localhost:8080/"
        },
        "id": "XdBJ0FK8jlQp",
        "outputId": "989f7374-60d8-40f0-b705-fc4d64122dd4"
      },
      "outputs": [
        {
          "output_type": "execute_result",
          "data": {
            "text/plain": [
              "tensor([[False],\n",
              "        [ True],\n",
              "        [ True],\n",
              "        [False]])"
            ]
          },
          "metadata": {},
          "execution_count": 216
        }
      ],
      "source": [
        "(preds>0.0).float() == train_y[:4]"
      ]
    },
    {
      "cell_type": "markdown",
      "metadata": {
        "id": "ngFvEKUsjlQq"
      },
      "source": [
        "That gives us this function to calculate our validation accuracy:"
      ]
    },
    {
      "cell_type": "code",
      "execution_count": 217,
      "metadata": {
        "id": "12OqmCDhjlQq"
      },
      "outputs": [],
      "source": [
        "def batch_accuracy(xb, yb):\n",
        "    preds = xb.sigmoid()\n",
        "    correct = (preds>0.5) == yb\n",
        "    return correct.float().mean()"
      ]
    },
    {
      "cell_type": "markdown",
      "metadata": {
        "id": "CIe_LR52jlQq"
      },
      "source": [
        "We can check it works:"
      ]
    },
    {
      "cell_type": "code",
      "execution_count": 218,
      "metadata": {
        "colab": {
          "base_uri": "https://localhost:8080/"
        },
        "id": "2566-3RVjlQq",
        "outputId": "fb6aff47-57f0-4ee2-e1f9-54a09bba37ce"
      },
      "outputs": [
        {
          "output_type": "execute_result",
          "data": {
            "text/plain": [
              "tensor(0.5000)"
            ]
          },
          "metadata": {},
          "execution_count": 218
        }
      ],
      "source": [
        "batch_accuracy(linear1(batch), train_y[:4])"
      ]
    },
    {
      "cell_type": "markdown",
      "metadata": {
        "id": "py56poAvjlQq"
      },
      "source": [
        "and then put the batches together:"
      ]
    },
    {
      "cell_type": "code",
      "execution_count": 219,
      "metadata": {
        "id": "2lS1CUdajlQq"
      },
      "outputs": [],
      "source": [
        "def validate_epoch(model):\n",
        "    accs = [batch_accuracy(model(xb), yb) for xb,yb in valid_dl]\n",
        "    return round(torch.stack(accs).mean().item(), 4)"
      ]
    },
    {
      "cell_type": "code",
      "execution_count": 220,
      "metadata": {
        "colab": {
          "base_uri": "https://localhost:8080/"
        },
        "id": "4UZ2IxOajlQq",
        "outputId": "daf7cb22-b05c-4c15-92b3-bc81f87c7e3a"
      },
      "outputs": [
        {
          "output_type": "execute_result",
          "data": {
            "text/plain": [
              "0.4196"
            ]
          },
          "metadata": {},
          "execution_count": 220
        }
      ],
      "source": [
        "validate_epoch(linear1)"
      ]
    },
    {
      "cell_type": "markdown",
      "metadata": {
        "id": "9slI2_xcjlQq"
      },
      "source": [
        "That's our starting point. Let's train for one epoch, and see if the accuracy improves:"
      ]
    },
    {
      "cell_type": "code",
      "execution_count": 221,
      "metadata": {
        "colab": {
          "base_uri": "https://localhost:8080/"
        },
        "id": "cR6rX8IPjlQq",
        "outputId": "72fae767-55de-4b88-81e4-f9832736a448"
      },
      "outputs": [
        {
          "output_type": "execute_result",
          "data": {
            "text/plain": [
              "0.6502"
            ]
          },
          "metadata": {},
          "execution_count": 221
        }
      ],
      "source": [
        "lr = 1.\n",
        "params = weights,bias\n",
        "train_epoch(linear1, lr, params)\n",
        "validate_epoch(linear1)"
      ]
    },
    {
      "cell_type": "markdown",
      "metadata": {
        "id": "pbxL-Q8ujlQq"
      },
      "source": [
        "Then do a few more:"
      ]
    },
    {
      "cell_type": "code",
      "execution_count": 222,
      "metadata": {
        "colab": {
          "base_uri": "https://localhost:8080/"
        },
        "id": "dEs4zL4mjlQr",
        "outputId": "c6f3fcd6-8038-474e-aea0-cde3b2750694"
      },
      "outputs": [
        {
          "output_type": "stream",
          "name": "stdout",
          "text": [
            "0.811 0.8881 0.9164 0.9281 0.9384 0.9447 0.9467 0.953 0.955 0.9579 0.9599 0.9603 0.9613 0.9628 0.9633 0.9643 0.9638 0.9647 0.9652 0.9672 "
          ]
        }
      ],
      "source": [
        "for i in range(20):\n",
        "    train_epoch(linear1, lr, params)\n",
        "    print(validate_epoch(linear1), end=' ')"
      ]
    },
    {
      "cell_type": "markdown",
      "metadata": {
        "id": "VOulSYuZjlQr"
      },
      "source": [
        "Looking good! We're already about at the same accuracy as our \"pixel similarity\" approach, and we've created a general-purpose foundation we can build on. Our next step will be to create an object that will handle the SGD step for us. In PyTorch, it's called an *optimizer*."
      ]
    },
    {
      "cell_type": "markdown",
      "metadata": {
        "id": "K33DaN9YjlQr"
      },
      "source": [
        "### Creating an Optimizer"
      ]
    },
    {
      "cell_type": "markdown",
      "metadata": {
        "id": "jgs0F_3SjlQr"
      },
      "source": [
        "Because this is such a general foundation, PyTorch provides some useful classes to make it easier to implement. The first thing we can do is replace our `linear1` function with PyTorch's `nn.Linear` module. A *module* is an object of a class that inherits from the PyTorch `nn.Module` class. Objects of this class behave identically to standard Python functions, in that you can call them using parentheses and they will return the activations of a model.\n",
        "\n",
        "`nn.Linear` does the same thing as our `init_params` and `linear` together. It contains both the *weights* and *biases* in a single class. Here's how we replicate our model from the previous section:"
      ]
    },
    {
      "cell_type": "code",
      "execution_count": 223,
      "metadata": {
        "id": "_XBi0ePejlQr"
      },
      "outputs": [],
      "source": [
        "linear_model = nn.Linear(28*28,1)"
      ]
    },
    {
      "cell_type": "markdown",
      "metadata": {
        "id": "bfGOtjLujlQr"
      },
      "source": [
        "Every PyTorch module knows what parameters it has that can be trained; they are available through the `parameters` method:"
      ]
    },
    {
      "cell_type": "code",
      "execution_count": 224,
      "metadata": {
        "colab": {
          "base_uri": "https://localhost:8080/"
        },
        "id": "BssLYD7KjlQr",
        "outputId": "f5909e58-1391-484f-ed04-a6e4c3eadd88"
      },
      "outputs": [
        {
          "output_type": "execute_result",
          "data": {
            "text/plain": [
              "(torch.Size([1, 784]), torch.Size([1]))"
            ]
          },
          "metadata": {},
          "execution_count": 224
        }
      ],
      "source": [
        "w,b = linear_model.parameters()\n",
        "w.shape,b.shape"
      ]
    },
    {
      "cell_type": "markdown",
      "metadata": {
        "id": "YtmKYuYVjlQr"
      },
      "source": [
        "We can use this information to create an optimizer:"
      ]
    },
    {
      "cell_type": "code",
      "execution_count": 226,
      "metadata": {
        "id": "7sjs50M0jlQr"
      },
      "outputs": [],
      "source": [
        "class BasicOptim:\n",
        "    def __init__(self,params,lr): self.params,self.lr = list(params),lr\n",
        "\n",
        "    def step(self, *args, **kwargs):\n",
        "        for p in self.params: p.data -= p.grad.data * self.lr\n",
        "\n",
        "    def zero_grad(self, *args, **kwargs):\n",
        "        for p in self.params: p.grad = None"
      ]
    },
    {
      "cell_type": "markdown",
      "metadata": {
        "id": "GjYxyVXVjlQs"
      },
      "source": [
        "We can create our optimizer by passing in the model's parameters:"
      ]
    },
    {
      "cell_type": "code",
      "execution_count": 227,
      "metadata": {
        "id": "L8skyY_8jlQs"
      },
      "outputs": [],
      "source": [
        "opt = BasicOptim(linear_model.parameters(), lr)"
      ]
    },
    {
      "cell_type": "markdown",
      "metadata": {
        "id": "-z6GqEKBjlQs"
      },
      "source": [
        "Our training loop can now be simplified to:"
      ]
    },
    {
      "cell_type": "code",
      "execution_count": 228,
      "metadata": {
        "id": "iN1FT8myjlQs"
      },
      "outputs": [],
      "source": [
        "def train_epoch(model):\n",
        "    for xb,yb in dl:\n",
        "        calc_grad(xb, yb, model)\n",
        "        opt.step()\n",
        "        opt.zero_grad()"
      ]
    },
    {
      "cell_type": "markdown",
      "metadata": {
        "id": "AKrXY2HZjlQs"
      },
      "source": [
        "Our validation function doesn't need to change at all:"
      ]
    },
    {
      "cell_type": "code",
      "execution_count": 229,
      "metadata": {
        "colab": {
          "base_uri": "https://localhost:8080/"
        },
        "id": "Kg662BAvjlQs",
        "outputId": "4e425af7-e73c-4789-9a74-efd2b6bfa4a8"
      },
      "outputs": [
        {
          "output_type": "execute_result",
          "data": {
            "text/plain": [
              "0.1525"
            ]
          },
          "metadata": {},
          "execution_count": 229
        }
      ],
      "source": [
        "validate_epoch(linear_model)"
      ]
    },
    {
      "cell_type": "markdown",
      "metadata": {
        "id": "Jcy1TdN7jlQs"
      },
      "source": [
        "Let's put our little training loop in a function, to make things simpler:"
      ]
    },
    {
      "cell_type": "code",
      "execution_count": 230,
      "metadata": {
        "id": "lStcwFYgjlQs"
      },
      "outputs": [],
      "source": [
        "def train_model(model, epochs):\n",
        "    for i in range(epochs):\n",
        "        train_epoch(model)\n",
        "        print(validate_epoch(model), end=' ')"
      ]
    },
    {
      "cell_type": "markdown",
      "metadata": {
        "id": "ssZloQ1njlQs"
      },
      "source": [
        "The results are the same as in the previous section:"
      ]
    },
    {
      "cell_type": "code",
      "execution_count": 231,
      "metadata": {
        "colab": {
          "base_uri": "https://localhost:8080/"
        },
        "id": "J4rszVf5jlQs",
        "outputId": "8914af93-6fc8-4f1e-c08b-7dc755a3df8d"
      },
      "outputs": [
        {
          "output_type": "stream",
          "name": "stdout",
          "text": [
            "0.4932 0.9059 0.707 0.8799 0.9204 0.938 0.9516 0.9595 0.9638 0.9663 0.9682 0.9702 0.9721 0.9751 0.9756 0.9761 0.9775 0.978 0.9785 0.9785 "
          ]
        }
      ],
      "source": [
        "train_model(linear_model, 20)"
      ]
    },
    {
      "cell_type": "markdown",
      "metadata": {
        "id": "iRVp8ohfjlQt"
      },
      "source": [
        "fastai provides the `SGD` class which, by default, does the same thing as our `BasicOptim`:"
      ]
    },
    {
      "cell_type": "code",
      "execution_count": 232,
      "metadata": {
        "colab": {
          "base_uri": "https://localhost:8080/"
        },
        "id": "4QNJnP2sjlQt",
        "outputId": "adb64110-0aed-4a43-9a70-acd51ee77c89"
      },
      "outputs": [
        {
          "output_type": "stream",
          "name": "stdout",
          "text": [
            "0.4932 0.8808 0.8179 0.9092 0.9321 0.9438 0.9541 0.9619 0.9653 0.9668 0.9697 0.9717 0.9731 0.9746 0.9761 0.9765 0.9775 0.9775 0.978 0.9785 "
          ]
        }
      ],
      "source": [
        "linear_model = nn.Linear(28*28,1)\n",
        "opt = SGD(linear_model.parameters(), lr)\n",
        "train_model(linear_model, 20)"
      ]
    },
    {
      "cell_type": "markdown",
      "metadata": {
        "id": "UCzcWPCajlQt"
      },
      "source": [
        "fastai also provides `Learner.fit`, which we can use instead of `train_model`. To create a `Learner` we first need to create a `DataLoaders`, by passing in our training and validation `DataLoader`s:"
      ]
    },
    {
      "cell_type": "code",
      "execution_count": 233,
      "metadata": {
        "id": "RqjtgJLHjlQt"
      },
      "outputs": [],
      "source": [
        "dls = DataLoaders(dl, valid_dl)"
      ]
    },
    {
      "cell_type": "markdown",
      "metadata": {
        "id": "OaHSkdpijlQt"
      },
      "source": [
        "To create a `Learner` without using an application (such as `vision_learner`) we need to pass in all the elements that we've created in this chapter: the `DataLoaders`, the model, the optimization function (which will be passed the parameters), the loss function, and optionally any metrics to print:"
      ]
    },
    {
      "cell_type": "code",
      "execution_count": 234,
      "metadata": {
        "id": "h7pbf624jlQt"
      },
      "outputs": [],
      "source": [
        "learn = Learner(dls, nn.Linear(28*28,1), opt_func=SGD,\n",
        "                loss_func=mnist_loss, metrics=batch_accuracy)"
      ]
    },
    {
      "cell_type": "markdown",
      "metadata": {
        "id": "dpIdUa-ejlQt"
      },
      "source": [
        "Now we can call `fit`:"
      ]
    },
    {
      "cell_type": "code",
      "execution_count": 235,
      "metadata": {
        "colab": {
          "base_uri": "https://localhost:8080/",
          "height": 363
        },
        "id": "XV7LRpXqjlQt",
        "outputId": "84f57557-a659-4860-d3ac-5e66d4823172"
      },
      "outputs": [
        {
          "output_type": "display_data",
          "data": {
            "text/plain": [
              "<IPython.core.display.HTML object>"
            ],
            "text/html": [
              "\n",
              "<style>\n",
              "    /* Turns off some styling */\n",
              "    progress {\n",
              "        /* gets rid of default border in Firefox and Opera. */\n",
              "        border: none;\n",
              "        /* Needs to be in here for Safari polyfill so background images work as expected. */\n",
              "        background-size: auto;\n",
              "    }\n",
              "    progress:not([value]), progress:not([value])::-webkit-progress-bar {\n",
              "        background: repeating-linear-gradient(45deg, #7e7e7e, #7e7e7e 10px, #5c5c5c 10px, #5c5c5c 20px);\n",
              "    }\n",
              "    .progress-bar-interrupted, .progress-bar-interrupted::-webkit-progress-bar {\n",
              "        background: #F44336;\n",
              "    }\n",
              "</style>\n"
            ]
          },
          "metadata": {}
        },
        {
          "output_type": "display_data",
          "data": {
            "text/plain": [
              "<IPython.core.display.HTML object>"
            ],
            "text/html": [
              "<table border=\"1\" class=\"dataframe\">\n",
              "  <thead>\n",
              "    <tr style=\"text-align: left;\">\n",
              "      <th>epoch</th>\n",
              "      <th>train_loss</th>\n",
              "      <th>valid_loss</th>\n",
              "      <th>batch_accuracy</th>\n",
              "      <th>time</th>\n",
              "    </tr>\n",
              "  </thead>\n",
              "  <tbody>\n",
              "    <tr>\n",
              "      <td>0</td>\n",
              "      <td>0.636628</td>\n",
              "      <td>0.503450</td>\n",
              "      <td>0.495584</td>\n",
              "      <td>00:00</td>\n",
              "    </tr>\n",
              "    <tr>\n",
              "      <td>1</td>\n",
              "      <td>0.512373</td>\n",
              "      <td>0.191324</td>\n",
              "      <td>0.839549</td>\n",
              "      <td>00:00</td>\n",
              "    </tr>\n",
              "    <tr>\n",
              "      <td>2</td>\n",
              "      <td>0.188646</td>\n",
              "      <td>0.178050</td>\n",
              "      <td>0.842493</td>\n",
              "      <td>00:00</td>\n",
              "    </tr>\n",
              "    <tr>\n",
              "      <td>3</td>\n",
              "      <td>0.082987</td>\n",
              "      <td>0.105486</td>\n",
              "      <td>0.911678</td>\n",
              "      <td>00:00</td>\n",
              "    </tr>\n",
              "    <tr>\n",
              "      <td>4</td>\n",
              "      <td>0.044001</td>\n",
              "      <td>0.077256</td>\n",
              "      <td>0.933759</td>\n",
              "      <td>00:00</td>\n",
              "    </tr>\n",
              "    <tr>\n",
              "      <td>5</td>\n",
              "      <td>0.028762</td>\n",
              "      <td>0.062068</td>\n",
              "      <td>0.947988</td>\n",
              "      <td>00:00</td>\n",
              "    </tr>\n",
              "    <tr>\n",
              "      <td>6</td>\n",
              "      <td>0.022490</td>\n",
              "      <td>0.052575</td>\n",
              "      <td>0.955348</td>\n",
              "      <td>00:00</td>\n",
              "    </tr>\n",
              "    <tr>\n",
              "      <td>7</td>\n",
              "      <td>0.019697</td>\n",
              "      <td>0.046224</td>\n",
              "      <td>0.963690</td>\n",
              "      <td>00:00</td>\n",
              "    </tr>\n",
              "    <tr>\n",
              "      <td>8</td>\n",
              "      <td>0.018276</td>\n",
              "      <td>0.041748</td>\n",
              "      <td>0.965653</td>\n",
              "      <td>00:00</td>\n",
              "    </tr>\n",
              "    <tr>\n",
              "      <td>9</td>\n",
              "      <td>0.017421</td>\n",
              "      <td>0.038443</td>\n",
              "      <td>0.967125</td>\n",
              "      <td>00:00</td>\n",
              "    </tr>\n",
              "  </tbody>\n",
              "</table>"
            ]
          },
          "metadata": {}
        }
      ],
      "source": [
        "learn.fit(10, lr=lr)"
      ]
    },
    {
      "cell_type": "markdown",
      "metadata": {
        "id": "-bIzQe2wjlQt"
      },
      "source": [
        "As you can see, there's nothing magic about the PyTorch and fastai classes. They are just convenient pre-packaged pieces that make your life a bit easier! (They also provide a lot of extra functionality we'll be using in future chapters.)\n",
        "\n",
        "With these classes, we can now replace our linear model with a neural network."
      ]
    },
    {
      "cell_type": "markdown",
      "metadata": {
        "id": "6mdXno9MjlQt"
      },
      "source": [
        "## Adding a Nonlinearity"
      ]
    },
    {
      "cell_type": "markdown",
      "metadata": {
        "id": "cBqQqzEtjlQu"
      },
      "source": [
        "So far we have a general procedure for optimizing the parameters of a function, and we have tried it out on a very boring function: a simple linear classifier. A linear classifier is very constrained in terms of what it can do. To make it a bit more complex (and able to handle more tasks), we need to add something nonlinear between two linear classifiers—this is what gives us a neural network.\n",
        "\n",
        "Here is the entire definition of a basic neural network:"
      ]
    },
    {
      "cell_type": "code",
      "execution_count": 241,
      "metadata": {
        "id": "RzsVc4nWjlQu"
      },
      "outputs": [],
      "source": [
        "def simple_net(xb): \n",
        "    res = xb@w1 + b1\n",
        "    res = res.max(tensor(0.0))\n",
        "    res = res@w2 + b2\n",
        "    return res"
      ]
    },
    {
      "cell_type": "markdown",
      "metadata": {
        "id": "MxFGcsIPjlQu"
      },
      "source": [
        "That's it! All we have in `simple_net` is two linear classifiers with a `max` function between them.\n",
        "\n",
        "Here, `w1` and `w2` are weight tensors, and `b1` and `b2` are bias tensors; that is, parameters that are initially randomly initialized, just like we did in the previous section:"
      ]
    },
    {
      "cell_type": "code",
      "execution_count": 242,
      "metadata": {
        "id": "nmshGMo_jlQu"
      },
      "outputs": [],
      "source": [
        "w1 = init_params((28*28,30))\n",
        "b1 = init_params(30)\n",
        "w2 = init_params((30,1))\n",
        "b2 = init_params(1)"
      ]
    },
    {
      "cell_type": "markdown",
      "metadata": {
        "id": "e0FaNpaLjlQu"
      },
      "source": [
        "The key point about this is that `w1` has 30 output activations (which means that `w2` must have 30 input activations, so they match). That means that the first layer can construct 30 different features, each representing some different mix of pixels. You can change that `30` to anything you like, to make the model more or less complex.\n",
        "\n",
        "That little function `res.max(tensor(0.0))` is called a *rectified linear unit*, also known as *ReLU*. We think we can all agree that *rectified linear unit* sounds pretty fancy and complicated... But actually, there's nothing more to it than `res.max(tensor(0.0))`—in other words, replace every negative number with a zero. This tiny function is also available in PyTorch as `F.relu`:"
      ]
    },
    {
      "cell_type": "code",
      "execution_count": 243,
      "metadata": {
        "colab": {
          "base_uri": "https://localhost:8080/",
          "height": 268
        },
        "id": "m_z2HI-GjlQu",
        "outputId": "cb258e37-7453-4483-c36c-c7cd3788d1e9"
      },
      "outputs": [
        {
          "output_type": "display_data",
          "data": {
            "text/plain": [
              "<Figure size 432x288 with 1 Axes>"
            ],
            "image/png": "[encoded data removed]"
          },
          "metadata": {
            "needs_background": "light"
          }
        }
      ],
      "source": [
        "plot_function(F.relu)"
      ]
    },
    {
      "cell_type": "markdown",
      "metadata": {
        "id": "dir48427jlQu"
      },
      "source": [
        "> J: There is an enormous amount of jargon in deep learning, including terms like _rectified linear unit_. The vast vast majority of this jargon is no more complicated than can be implemented in a short line of code, as we saw in this example. The reality is that for academics to get their papers published they need to make them sound as impressive and sophisticated as possible. One of the ways that they do that is to introduce jargon. Unfortunately, this has the result that the field ends up becoming far more intimidating and difficult to get into than it should be. You do have to learn the jargon, because otherwise papers and tutorials are not going to mean much to you. But that doesn't mean you have to find the jargon intimidating. Just remember, when you come across a word or phrase that you haven't seen before, it will almost certainly turn out to be referring to a very simple concept."
      ]
    },
    {
      "cell_type": "markdown",
      "metadata": {
        "id": "waSMkEv5jlQu"
      },
      "source": [
        "The basic idea is that by using more linear layers, we can have our model do more computation, and therefore model more complex functions. But there's no point just putting one linear layer directly after another one, because when we multiply things together and then add them up multiple times, that could be replaced by multiplying different things together and adding them up just once! That is to say, a series of any number of linear layers in a row can be replaced with a single linear layer with a different set of parameters.\n",
        "\n",
        "But if we put a nonlinear function between them, such as `max`, then this is no longer true. Now each linear layer is actually somewhat decoupled from the other ones, and can do its own useful work. The `max` function is particularly interesting, because it operates as a simple `if` statement."
      ]
    },
    {
      "cell_type": "markdown",
      "metadata": {
        "id": "mvKauelMjlQu"
      },
      "source": [
        "> S: Mathematically, we say the composition of two linear functions is another linear function. So, we can stack as many linear classifiers as we want on top of each other, and without nonlinear functions between them, it will just be the same as one linear classifier."
      ]
    },
    {
      "cell_type": "markdown",
      "metadata": {
        "id": "0Xbtyvo1jlQu"
      },
      "source": [
        "Amazingly enough, it can be mathematically proven that this little function can solve any computable problem to an arbitrarily high level of accuracy, if you can find the right parameters for `w1` and `w2` and if you make these matrices big enough. For any arbitrarily wiggly function, we can approximate it as a bunch of lines joined together; to make it closer to the wiggly function, we just have to use shorter lines. This is known as the *universal approximation theorem*. The three lines of code that we have here are known as *layers*. The first and third are known as *linear layers*, and the second line of code is known variously as a *nonlinearity*, or *activation function*.\n",
        "\n",
        "Just like in the previous section, we can replace this code with something a bit simpler, by taking advantage of PyTorch:"
      ]
    },
    {
      "cell_type": "code",
      "execution_count": 244,
      "metadata": {
        "id": "1KNmwIlPjlQv"
      },
      "outputs": [],
      "source": [
        "simple_net = nn.Sequential(\n",
        "    nn.Linear(28*28,30),\n",
        "    nn.ReLU(),\n",
        "    nn.Linear(30,1)\n",
        ")"
      ]
    },
    {
      "cell_type": "markdown",
      "metadata": {
        "id": "ujSXK31ljlQv"
      },
      "source": [
        "`nn.Sequential` creates a module that will call each of the listed layers or functions in turn.\n",
        "\n",
        "`nn.ReLU` is a PyTorch module that does exactly the same thing as the `F.relu` function. Most functions that can appear in a model also have identical forms that are modules. Generally, it's just a case of replacing `F` with `nn` and changing the capitalization. When using `nn.Sequential`, PyTorch requires us to use the module version. Since modules are classes, we have to instantiate them, which is why you see `nn.ReLU()` in this example. \n",
        "\n",
        "Because `nn.Sequential` is a module, we can get its parameters, which will return a list of all the parameters of all the modules it contains. Let's try it out! As this is a deeper model, we'll use a lower learning rate and a few more epochs."
      ]
    },
    {
      "cell_type": "code",
      "execution_count": 245,
      "metadata": {
        "id": "rpaCImf9jlQv"
      },
      "outputs": [],
      "source": [
        "learn = Learner(dls, simple_net, opt_func=SGD,\n",
        "                loss_func=mnist_loss, metrics=batch_accuracy)"
      ]
    },
    {
      "cell_type": "code",
      "execution_count": 246,
      "metadata": {
        "colab": {
          "base_uri": "https://localhost:8080/",
          "height": 1000
        },
        "id": "R4F_FFXnjlQv",
        "outputId": "a4d3af30-2367-446e-829a-be284f33e32b"
      },
      "outputs": [
        {
          "output_type": "display_data",
          "data": {
            "text/plain": [
              "<IPython.core.display.HTML object>"
            ],
            "text/html": [
              "\n",
              "<style>\n",
              "    /* Turns off some styling */\n",
              "    progress {\n",
              "        /* gets rid of default border in Firefox and Opera. */\n",
              "        border: none;\n",
              "        /* Needs to be in here for Safari polyfill so background images work as expected. */\n",
              "        background-size: auto;\n",
              "    }\n",
              "    progress:not([value]), progress:not([value])::-webkit-progress-bar {\n",
              "        background: repeating-linear-gradient(45deg, #7e7e7e, #7e7e7e 10px, #5c5c5c 10px, #5c5c5c 20px);\n",
              "    }\n",
              "    .progress-bar-interrupted, .progress-bar-interrupted::-webkit-progress-bar {\n",
              "        background: #F44336;\n",
              "    }\n",
              "</style>\n"
            ]
          },
          "metadata": {}
        },
        {
          "output_type": "display_data",
          "data": {
            "text/plain": [
              "<IPython.core.display.HTML object>"
            ],
            "text/html": [
              "<table border=\"1\" class=\"dataframe\">\n",
              "  <thead>\n",
              "    <tr style=\"text-align: left;\">\n",
              "      <th>epoch</th>\n",
              "      <th>train_loss</th>\n",
              "      <th>valid_loss</th>\n",
              "      <th>batch_accuracy</th>\n",
              "      <th>time</th>\n",
              "    </tr>\n",
              "  </thead>\n",
              "  <tbody>\n",
              "    <tr>\n",
              "      <td>0</td>\n",
              "      <td>0.344378</td>\n",
              "      <td>0.382295</td>\n",
              "      <td>0.540236</td>\n",
              "      <td>00:00</td>\n",
              "    </tr>\n",
              "    <tr>\n",
              "      <td>1</td>\n",
              "      <td>0.157957</td>\n",
              "      <td>0.233621</td>\n",
              "      <td>0.794406</td>\n",
              "      <td>00:00</td>\n",
              "    </tr>\n",
              "    <tr>\n",
              "      <td>2</td>\n",
              "      <td>0.085577</td>\n",
              "      <td>0.114893</td>\n",
              "      <td>0.917566</td>\n",
              "      <td>00:00</td>\n",
              "    </tr>\n",
              "    <tr>\n",
              "      <td>3</td>\n",
              "      <td>0.054849</td>\n",
              "      <td>0.076389</td>\n",
              "      <td>0.944553</td>\n",
              "      <td>00:00</td>\n",
              "    </tr>\n",
              "    <tr>\n",
              "      <td>4</td>\n",
              "      <td>0.040800</td>\n",
              "      <td>0.059420</td>\n",
              "      <td>0.958783</td>\n",
              "      <td>00:00</td>\n",
              "    </tr>\n",
              "    <tr>\n",
              "      <td>5</td>\n",
              "      <td>0.033771</td>\n",
              "      <td>0.050085</td>\n",
              "      <td>0.964671</td>\n",
              "      <td>00:00</td>\n",
              "    </tr>\n",
              "    <tr>\n",
              "      <td>6</td>\n",
              "      <td>0.029825</td>\n",
              "      <td>0.044247</td>\n",
              "      <td>0.966634</td>\n",
              "      <td>00:00</td>\n",
              "    </tr>\n",
              "    <tr>\n",
              "      <td>7</td>\n",
              "      <td>0.027314</td>\n",
              "      <td>0.040255</td>\n",
              "      <td>0.968106</td>\n",
              "      <td>00:00</td>\n",
              "    </tr>\n",
              "    <tr>\n",
              "      <td>8</td>\n",
              "      <td>0.025530</td>\n",
              "      <td>0.037356</td>\n",
              "      <td>0.969087</td>\n",
              "      <td>00:00</td>\n",
              "    </tr>\n",
              "    <tr>\n",
              "      <td>9</td>\n",
              "      <td>0.024163</td>\n",
              "      <td>0.035148</td>\n",
              "      <td>0.971050</td>\n",
              "      <td>00:00</td>\n",
              "    </tr>\n",
              "    <tr>\n",
              "      <td>10</td>\n",
              "      <td>0.023063</td>\n",
              "      <td>0.033397</td>\n",
              "      <td>0.972522</td>\n",
              "      <td>00:00</td>\n",
              "    </tr>\n",
              "    <tr>\n",
              "      <td>11</td>\n",
              "      <td>0.022148</td>\n",
              "      <td>0.031966</td>\n",
              "      <td>0.973013</td>\n",
              "      <td>00:00</td>\n",
              "    </tr>\n",
              "    <tr>\n",
              "      <td>12</td>\n",
              "      <td>0.021370</td>\n",
              "      <td>0.030764</td>\n",
              "      <td>0.974485</td>\n",
              "      <td>00:00</td>\n",
              "    </tr>\n",
              "    <tr>\n",
              "      <td>13</td>\n",
              "      <td>0.020698</td>\n",
              "      <td>0.029731</td>\n",
              "      <td>0.974975</td>\n",
              "      <td>00:00</td>\n",
              "    </tr>\n",
              "    <tr>\n",
              "      <td>14</td>\n",
              "      <td>0.020109</td>\n",
              "      <td>0.028829</td>\n",
              "      <td>0.975466</td>\n",
              "      <td>00:00</td>\n",
              "    </tr>\n",
              "    <tr>\n",
              "      <td>15</td>\n",
              "      <td>0.019587</td>\n",
              "      <td>0.028031</td>\n",
              "      <td>0.976448</td>\n",
              "      <td>00:00</td>\n",
              "    </tr>\n",
              "    <tr>\n",
              "      <td>16</td>\n",
              "      <td>0.019121</td>\n",
              "      <td>0.027317</td>\n",
              "      <td>0.976448</td>\n",
              "      <td>00:00</td>\n",
              "    </tr>\n",
              "    <tr>\n",
              "      <td>17</td>\n",
              "      <td>0.018701</td>\n",
              "      <td>0.026675</td>\n",
              "      <td>0.978410</td>\n",
              "      <td>00:00</td>\n",
              "    </tr>\n",
              "    <tr>\n",
              "      <td>18</td>\n",
              "      <td>0.018320</td>\n",
              "      <td>0.026094</td>\n",
              "      <td>0.978410</td>\n",
              "      <td>00:00</td>\n",
              "    </tr>\n",
              "    <tr>\n",
              "      <td>19</td>\n",
              "      <td>0.017972</td>\n",
              "      <td>0.025565</td>\n",
              "      <td>0.978410</td>\n",
              "      <td>00:00</td>\n",
              "    </tr>\n",
              "    <tr>\n",
              "      <td>20</td>\n",
              "      <td>0.017652</td>\n",
              "      <td>0.025082</td>\n",
              "      <td>0.979392</td>\n",
              "      <td>00:00</td>\n",
              "    </tr>\n",
              "    <tr>\n",
              "      <td>21</td>\n",
              "      <td>0.017355</td>\n",
              "      <td>0.024639</td>\n",
              "      <td>0.980373</td>\n",
              "      <td>00:00</td>\n",
              "    </tr>\n",
              "    <tr>\n",
              "      <td>22</td>\n",
              "      <td>0.017080</td>\n",
              "      <td>0.024232</td>\n",
              "      <td>0.980864</td>\n",
              "      <td>00:00</td>\n",
              "    </tr>\n",
              "    <tr>\n",
              "      <td>23</td>\n",
              "      <td>0.016822</td>\n",
              "      <td>0.023857</td>\n",
              "      <td>0.980864</td>\n",
              "      <td>00:00</td>\n",
              "    </tr>\n",
              "    <tr>\n",
              "      <td>24</td>\n",
              "      <td>0.016580</td>\n",
              "      <td>0.023510</td>\n",
              "      <td>0.980864</td>\n",
              "      <td>00:00</td>\n",
              "    </tr>\n",
              "    <tr>\n",
              "      <td>25</td>\n",
              "      <td>0.016353</td>\n",
              "      <td>0.023189</td>\n",
              "      <td>0.981354</td>\n",
              "      <td>00:00</td>\n",
              "    </tr>\n",
              "    <tr>\n",
              "      <td>26</td>\n",
              "      <td>0.016138</td>\n",
              "      <td>0.022892</td>\n",
              "      <td>0.981354</td>\n",
              "      <td>00:00</td>\n",
              "    </tr>\n",
              "    <tr>\n",
              "      <td>27</td>\n",
              "      <td>0.015935</td>\n",
              "      <td>0.022616</td>\n",
              "      <td>0.981354</td>\n",
              "      <td>00:00</td>\n",
              "    </tr>\n",
              "    <tr>\n",
              "      <td>28</td>\n",
              "      <td>0.015742</td>\n",
              "      <td>0.022359</td>\n",
              "      <td>0.982336</td>\n",
              "      <td>00:00</td>\n",
              "    </tr>\n",
              "    <tr>\n",
              "      <td>29</td>\n",
              "      <td>0.015559</td>\n",
              "      <td>0.022118</td>\n",
              "      <td>0.982336</td>\n",
              "      <td>00:00</td>\n",
              "    </tr>\n",
              "    <tr>\n",
              "      <td>30</td>\n",
              "      <td>0.015384</td>\n",
              "      <td>0.021893</td>\n",
              "      <td>0.982336</td>\n",
              "      <td>00:00</td>\n",
              "    </tr>\n",
              "    <tr>\n",
              "      <td>31</td>\n",
              "      <td>0.015217</td>\n",
              "      <td>0.021682</td>\n",
              "      <td>0.982336</td>\n",
              "      <td>00:00</td>\n",
              "    </tr>\n",
              "    <tr>\n",
              "      <td>32</td>\n",
              "      <td>0.015058</td>\n",
              "      <td>0.021484</td>\n",
              "      <td>0.982826</td>\n",
              "      <td>00:00</td>\n",
              "    </tr>\n",
              "    <tr>\n",
              "      <td>33</td>\n",
              "      <td>0.014905</td>\n",
              "      <td>0.021298</td>\n",
              "      <td>0.983317</td>\n",
              "      <td>00:00</td>\n",
              "    </tr>\n",
              "    <tr>\n",
              "      <td>34</td>\n",
              "      <td>0.014759</td>\n",
              "      <td>0.021122</td>\n",
              "      <td>0.983317</td>\n",
              "      <td>00:00</td>\n",
              "    </tr>\n",
              "    <tr>\n",
              "      <td>35</td>\n",
              "      <td>0.014618</td>\n",
              "      <td>0.020957</td>\n",
              "      <td>0.983317</td>\n",
              "      <td>00:00</td>\n",
              "    </tr>\n",
              "    <tr>\n",
              "      <td>36</td>\n",
              "      <td>0.014483</td>\n",
              "      <td>0.020800</td>\n",
              "      <td>0.983317</td>\n",
              "      <td>00:00</td>\n",
              "    </tr>\n",
              "    <tr>\n",
              "      <td>37</td>\n",
              "      <td>0.014354</td>\n",
              "      <td>0.020652</td>\n",
              "      <td>0.983317</td>\n",
              "      <td>00:00</td>\n",
              "    </tr>\n",
              "    <tr>\n",
              "      <td>38</td>\n",
              "      <td>0.014228</td>\n",
              "      <td>0.020510</td>\n",
              "      <td>0.983317</td>\n",
              "      <td>00:00</td>\n",
              "    </tr>\n",
              "    <tr>\n",
              "      <td>39</td>\n",
              "      <td>0.014107</td>\n",
              "      <td>0.020376</td>\n",
              "      <td>0.983317</td>\n",
              "      <td>00:00</td>\n",
              "    </tr>\n",
              "  </tbody>\n",
              "</table>"
            ]
          },
          "metadata": {}
        }
      ],
      "source": [
        "#hide_output\n",
        "learn.fit(40, 0.1)"
      ]
    },
    {
      "cell_type": "markdown",
      "metadata": {
        "id": "klC64VPFjlQv"
      },
      "source": [
        "We're not showing the 40 lines of output here to save room; the training process is recorded in `learn.recorder`, with the table of output stored in the `values` attribute, so we can plot the accuracy over training as:"
      ]
    },
    {
      "cell_type": "code",
      "execution_count": 247,
      "metadata": {
        "colab": {
          "base_uri": "https://localhost:8080/",
          "height": 271
        },
        "id": "C7oCBsj_jlQv",
        "outputId": "b90339b6-459b-4d50-a349-16b54e124a21"
      },
      "outputs": [
        {
          "output_type": "display_data",
          "data": {
            "text/plain": [
              "<Figure size 432x288 with 1 Axes>"
            ],
            "image/png": "[encoded data removed]"
          },
          "metadata": {
            "needs_background": "light"
          }
        }
      ],
      "source": [
        "plt.plot(L(learn.recorder.values).itemgot(2));"
      ]
    },
    {
      "cell_type": "markdown",
      "metadata": {
        "id": "sPJ_e-PTjlQv"
      },
      "source": [
        "And we can view the final accuracy:"
      ]
    },
    {
      "cell_type": "code",
      "execution_count": 248,
      "metadata": {
        "colab": {
          "base_uri": "https://localhost:8080/"
        },
        "id": "qzdhZ5eCjlQv",
        "outputId": "167f2910-5981-4ff3-abc7-f8817b0dedac"
      },
      "outputs": [
        {
          "output_type": "execute_result",
          "data": {
            "text/plain": [
              "0.983316957950592"
            ]
          },
          "metadata": {},
          "execution_count": 248
        }
      ],
      "source": [
        "learn.recorder.values[-1][2]"
      ]
    },
    {
      "cell_type": "markdown",
      "metadata": {
        "id": "iUVTH4gFjlQv"
      },
      "source": [
        "At this point we have something that is rather magical:\n",
        "\n",
        "1. A function that can solve any problem to any level of accuracy (the neural network) given the correct set of parameters\n",
        "1. A way to find the best set of parameters for any function (stochastic gradient descent)\n",
        "\n",
        "This is why deep learning can do things which seem rather magical, such fantastic things. Believing that this combination of simple techniques can really solve any problem is one of the biggest steps that we find many students have to take. It seems too good to be true—surely things should be more difficult and complicated than this? Our recommendation: try it out! We just tried it on the MNIST dataset and you have seen the results. And since we are doing everything from scratch ourselves (except for calculating the gradients) you know that there is no special magic hiding behind the scenes."
      ]
    },
    {
      "cell_type": "markdown",
      "metadata": {
        "id": "-9AITyARjlQw"
      },
      "source": [
        "### Going Deeper"
      ]
    },
    {
      "cell_type": "markdown",
      "metadata": {
        "id": "zidgSEfTjlQw"
      },
      "source": [
        "There is no need to stop at just two linear layers. We can add as many as we want, as long as we add a nonlinearity between each pair of linear layers. As you will learn, however, the deeper the model gets, the harder it is to optimize the parameters in practice. Later in this book you will learn about some simple but brilliantly effective techniques for training deeper models.\n",
        "\n",
        "We already know that a single nonlinearity with two linear layers is enough to approximate any function. So why would we use deeper models? The reason is performance. With a deeper model (that is, one with more layers) we do not need to use as many parameters; it turns out that we can use smaller matrices with more layers, and get better results than we would get with larger matrices, and few layers.\n",
        "\n",
        "That means that we can train the model more quickly, and it will take up less memory. In the 1990s researchers were so focused on the universal approximation theorem that very few were experimenting with more than one nonlinearity. This theoretical but not practical foundation held back the field for years. Some researchers, however, did experiment with deep models, and eventually were able to show that these models could perform much better in practice. Eventually, theoretical results were developed which showed why this happens. Today, it is extremely unusual to find anybody using a neural network with just one nonlinearity.\n",
        "\n",
        "Here is what happens when we train an 18-layer model using the same approach we saw in <<chapter_intro>>:"
      ]
    },
    {
      "cell_type": "code",
      "execution_count": 249,
      "metadata": {
        "colab": {
          "base_uri": "https://localhost:8080/",
          "height": 174
        },
        "id": "7Ms8PXNHjlQw",
        "outputId": "0de8c126-6ffb-4fc3-b960-7d3ead3773fc"
      },
      "outputs": [
        {
          "output_type": "stream",
          "name": "stderr",
          "text": [
            "/usr/local/lib/python3.7/dist-packages/torchvision/models/_utils.py:209: UserWarning: The parameter 'pretrained' is deprecated since 0.13 and will be removed in 0.15, please use 'weights' instead.\n",
            "  f\"The parameter '{pretrained_param}' is deprecated since 0.13 and will be removed in 0.15, \"\n",
            "/usr/local/lib/python3.7/dist-packages/torchvision/models/_utils.py:223: UserWarning: Arguments other than a weight enum or `None` for 'weights' are deprecated since 0.13 and will be removed in 0.15. The current behavior is equivalent to passing `weights=None`.\n",
            "  warnings.warn(msg)\n"
          ]
        },
        {
          "output_type": "display_data",
          "data": {
            "text/plain": [
              "<IPython.core.display.HTML object>"
            ],
            "text/html": [
              "\n",
              "<style>\n",
              "    /* Turns off some styling */\n",
              "    progress {\n",
              "        /* gets rid of default border in Firefox and Opera. */\n",
              "        border: none;\n",
              "        /* Needs to be in here for Safari polyfill so background images work as expected. */\n",
              "        background-size: auto;\n",
              "    }\n",
              "    progress:not([value]), progress:not([value])::-webkit-progress-bar {\n",
              "        background: repeating-linear-gradient(45deg, #7e7e7e, #7e7e7e 10px, #5c5c5c 10px, #5c5c5c 20px);\n",
              "    }\n",
              "    .progress-bar-interrupted, .progress-bar-interrupted::-webkit-progress-bar {\n",
              "        background: #F44336;\n",
              "    }\n",
              "</style>\n"
            ]
          },
          "metadata": {}
        },
        {
          "output_type": "display_data",
          "data": {
            "text/plain": [
              "<IPython.core.display.HTML object>"
            ],
            "text/html": [
              "<table border=\"1\" class=\"dataframe\">\n",
              "  <thead>\n",
              "    <tr style=\"text-align: left;\">\n",
              "      <th>epoch</th>\n",
              "      <th>train_loss</th>\n",
              "      <th>valid_loss</th>\n",
              "      <th>accuracy</th>\n",
              "      <th>time</th>\n",
              "    </tr>\n",
              "  </thead>\n",
              "  <tbody>\n",
              "    <tr>\n",
              "      <td>0</td>\n",
              "      <td>0.101593</td>\n",
              "      <td>0.025883</td>\n",
              "      <td>0.993621</td>\n",
              "      <td>03:36</td>\n",
              "    </tr>\n",
              "  </tbody>\n",
              "</table>"
            ]
          },
          "metadata": {}
        }
      ],
      "source": [
        "dls = ImageDataLoaders.from_folder(path)\n",
        "learn = vision_learner(dls, resnet18, pretrained=False,\n",
        "                    loss_func=F.cross_entropy, metrics=accuracy)\n",
        "learn.fit_one_cycle(1, 0.1)"
      ]
    },
    {
      "cell_type": "markdown",
      "metadata": {
        "id": "hf_amszYjlQw"
      },
      "source": [
        "Nearly 100% accuracy! That's a big difference compared to our simple neural net. But as you'll learn in the remainder of this book, there are just a few little tricks you need to use to get such great results from scratch yourself. You already know the key foundational pieces. (Of course, even once you know all the tricks, you'll nearly always want to work with the pre-built classes provided by PyTorch and fastai, because they save you having to think about all the little details yourself.)"
      ]
    },
    {
      "cell_type": "markdown",
      "metadata": {
        "id": "_zhhMySajlQw"
      },
      "source": [
        "## Jargon Recap"
      ]
    },
    {
      "cell_type": "markdown",
      "metadata": {
        "id": "OFZO4SrxjlQw"
      },
      "source": [
        "Congratulations: you now know how to create and train a deep neural network from scratch! We've gone through quite a few steps to get to this point, but you might be surprised at how simple it really is.\n",
        "\n",
        "Now that we are at this point, it is a good opportunity to define, and review, some jargon and key concepts.\n",
        "\n",
        "A neural network contains a lot of numbers, but they are only of two types: numbers that are calculated, and the parameters that these numbers are calculated from. This gives us the two most important pieces of jargon to learn:\n",
        "\n",
        "- Activations:: Numbers that are calculated (both by linear and nonlinear layers)\n",
        "- Parameters:: Numbers that are randomly initialized, and optimized (that is, the numbers that define the model)\n",
        "\n",
        "We will often talk in this book about activations and parameters. Remember that they have very specific meanings. They are numbers. They are not abstract concepts, but they are actual specific numbers that are in your model. Part of becoming a good deep learning practitioner is getting used to the idea of actually looking at your activations and parameters, and plotting them and testing whether they are behaving correctly.\n",
        "\n",
        "Our activations and parameters are all contained in *tensors*. These are simply regularly shaped arrays—for example, a matrix. Matrices have rows and columns; we call these the *axes* or *dimensions*. The number of dimensions of a tensor is its *rank*. There are some special tensors:\n",
        "\n",
        "- Rank zero: scalar\n",
        "- Rank one: vector\n",
        "- Rank two: matrix\n",
        "\n",
        "A neural network contains a number of layers. Each layer is either *linear* or *nonlinear*. We generally alternate between these two kinds of layers in a neural network. Sometimes people refer to both a linear layer and its subsequent nonlinearity together as a single layer. Yes, this is confusing. Sometimes a nonlinearity is referred to as an *activation function*.\n",
        "\n",
        "<<dljargon1>> summarizes the key concepts related to SGD.\n",
        "\n",
        "```asciidoc\n",
        "[[dljargon1]]\n",
        ".Deep learning vocabulary\n",
        "[options=\"header\"]\n",
        "|=====\n",
        "| Term | Meaning\n",
        "|ReLU | Function that returns 0 for negative numbers and doesn't change positive numbers.\n",
        "|Mini-batch | A small group of inputs and labels gathered together in two arrays. A gradient descent step is updated on this batch (rather than a whole epoch).\n",
        "|Forward pass | Applying the model to some input and computing the predictions.\n",
        "|Loss | A value that represents how well (or badly) our model is doing.\n",
        "|Gradient | The derivative of the loss with respect to some parameter of the model.\n",
        "|Backward pass | Computing the gradients of the loss with respect to all model parameters.\n",
        "|Gradient descent | Taking a step in the directions opposite to the gradients to make the model parameters a little bit better.\n",
        "|Learning rate | The size of the step we take when applying SGD to update the parameters of the model.\n",
        "|=====\n",
        "```"
      ]
    },
    {
      "cell_type": "markdown",
      "metadata": {
        "id": "mw97Ds3zjlQw"
      },
      "source": [
        "> note: _Choose Your Own Adventure_ Reminder: Did you choose to skip over chapters 2 & 3, in your excitement to peek under the hood? Well, here's your reminder to head back to chapter 2 now, because you'll be needing to know that stuff very soon!"
      ]
    },
    {
      "cell_type": "markdown",
      "metadata": {
        "id": "msiEdkcDjlQx"
      },
      "source": [
        "## Questionnaire"
      ]
    },
    {
      "cell_type": "markdown",
      "metadata": {
        "id": "gTIXsxXLjlQx"
      },
      "source": [
        "1. How is a grayscale image represented on a computer? How about a color image?\n",
        "  * Las imágenes se representan por medio de matrices con valores de píxeles que representan el contenido de la imagen. Para las imágenes en escala de grises, se utiliza una matriz bidimensional (1 canal) con los píxeles que representan los valores en escala de grises, con un rango de 256 números enteros 0 - 255. Un valor de 0 representaría el blanco y un valor de 255 representaría el negro y diferentes tonos de escala de grises en el medio.\n",
        "  * Para las imágenes en color, se utilizan normalmente tres canales de color (rojo, verde, azul) - RGB, con una matriz 2D con valores de 0 - 255 para cada canal. Un valor de píxel de 0 nuevamente representa blanco, con 255 representando rojo, verde o azul.\n",
        "\n",
        "1. How are the files and folders in the `MNIST_SAMPLE` dataset structured? Why?\n",
        "  * Hay dos subcarpetas, para entrenar y validar, la primera contiene los datos para el entrenamiento del modelo, la segunda contiene los datos para validar el desempeño del modelo después de cada época. Se dice que la evaluación del modelo en el conjunto de validación tiene dos propósitos: 1. informar una métrica que sea interpretable cotidianamente , 2. detectar el sobreajuste al evaluar el modelo en un conjunto de datos que no ha visto.\n",
        "\n",
        "1. Explain how the \"pixel similarity\" approach to classifying digits works.\n",
        "  * En este enfoque se generan caracteristicas para cada clase que queremos identificar.Se requiere distinguir imágenes de numeros 3 de imágenes de 7. Definimos el 3 como el valor medio en píxeles de todos los 3 en el conjunto de entrenamiento. Análogamente para los 7. Puede visualizar los dos promedios y ver que, de hecho, son versiones borrosas de los números que representan.\n",
        "  * Basado en probar un modelo simple, se verifica la diferencia entre esos 2 numéros para poder clasificarlos obtenido una métrica de distancia (diferencia absoluta media), de esta manera se resume que una nueva imagen es un 3 si su distancia a la matriz promedio de 3 es menor que a la de 7.\n",
        "\n",
        "1. What is a list comprehension? Create one now that selects odd numbers from a \n",
        "list and doubles them.\n",
        "  * Las listas de comprensión en forma en python de condensar la creación de listas utilizando un ciclo for en una sola expresión, ademas se pueden incluir condicionantes `if` para filtrar.\n",
        "\n",
        "1. What is a \"rank-3 tensor\"?\n",
        "  * Un tensor de rango 3 es un conjunto de matrices(3 índices). En particular, el rango de un tensor es independiente de su forma o dimensionalidad.\n",
        "\n",
        "1. What is the difference between tensor rank and shape? How do you get the rank from the shape?\n",
        "  * El `rank` es el número de ejes o dimensiones en un tensor y el `shape` es el tamaño de cada eje de un tensor.\n",
        "  Se puede obtener de la siguiente forma: `len(tensor_var.shape)` ó `tensor_var.ndim`\n",
        "\n",
        "1. What are RMSE and L1 norm?\n",
        "  * RMSE: Root Mean Squared Error (Raíz del Error Cuadrático Medio) ó norma L2, y MAE: Mean absolute Error  ó norma L1, son dos métodos para medir la distancia, son tipos de funciones que se enfocan en medir las diferencias entre magnitudes, el hecho de determinar las diferencias simples se anularían entre sí mismos. En el caso del RMSE se obtiene como la raíz de la media de los residuales (errores de predicción) al cuadrado, se define como error: diferencia predicho vs experimental, es una métrica común en regresión que indica el ajuste absoluto del modelo a los datos, cuán cerca están los puntos de datos observados de los valores predichos del modelo.\n",
        "\n",
        "1. How can you apply a calculation on thousands of numbers at once, many thousands of times faster than a Python loop?\n",
        "  * Representar las operaciones como operaciones matriciales, en lugar de iterar por los elementos individuales para ejecutar una operación, esto es así ya que los ciclos ó bucles en python son lentos. Se puede utilizar numpy o Pythorch para realizar estas operaciones.\n",
        "\n",
        "1. Create a 3×3 tensor or array containing the numbers from 1 to 9. Double it. Select the bottom-right four numbers.\n",
        "  * Respuesta en celda de código más abajo.\n",
        "\n",
        "1. What is broadcasting?\n",
        "  * Las bibliotecas como NumPy y PyTorch implementarán `broadcasting` que  hace que el código sea más fácil de escribir. En el caso de PyTorch, los tensores con rango más pequeño se expanden para tener el mismo tamaño que el tensor de rango más grande. De tal forma, se pueden realizar operaciones entre tensores de distinto `rank`.\n",
        "\n",
        "1. Are metrics generally calculated using the training set, or the validation set? Why?\n",
        "  * Las métricas generalmente se calculan en un conjunto de validación. Como el conjunto de validación son datos no vistos para el modelo, es mejor evaluar las métricas en el conjunto de validación para determinar si hay algún sobreajuste y qué tan bien podría generalizarse el modelo si se le proporcionaran datos similares.\n",
        "\n",
        "1. What is SGD?\n",
        " * SGD (Stochastic gradient descent) descenso de gradiente estocástico es un algoritmo de optimización muy usado en Deep Learning, que permite actualizar los parámetros de un modelo a minizar con una función de pérdida definida que evalua las predicciones y la variable de salida. La idea principal de SGD (y muchos algoritmos de optimización) es que el gradiente de la función de pérdida proporciona una indicación de cómo cambia esa función de pérdida en el espacio de parámetros, que podemos usar para determinar la mejor manera de actualizar los parámetros para minimizar la función de pérdida.\n",
        "\n",
        "1. Why does SGD use mini-batches?\n",
        " * Para calcular la función de pérdida (y nuestro gradiente) en uno o más puntos de datos. No es lo ideal calcular sobre todos los conjuntos de datos debido a las limitaciones de cálculo - cómputo y las limitaciones de tiempo. Si se itera a través de cada punto de datos, el gradiente será inestable e impreciso, y no es adecuado para el entrenamiento. Por lo tanto, es estratégico calcular la pérdida promedio para un pequeño subconjunto del conjunto de datos a la vez. Este subconjunto se denomina minilote (mini-batch).\n",
        "\n",
        "1. What are the seven steps in SGD for machine learning?\n",
        "  1.  Inicialice los parámetros: los valores aleatorios suelen funcionar mejor.\n",
        "  2. Calcular las predicciones: esto se hace en el conjunto de entrenamiento, un mini lote a la vez.\n",
        "  3. Calcular la pérdida: se calcula la pérdida promedio sobre el minilote\n",
        "  4. Calcule los gradientes: esta es una aproximación de cómo deben cambiar los parámetros para minimizar la función de pérdida\n",
        "  5. Actuialización de pesos: actualice los parámetros en función de los pesos calculados\n",
        "  6. Repita el proceso\n",
        "  7. Detener: esto se basa en limitaciones de tiempo o époocas o, por lo general, en el momento en que las pérdidas de entrenamiento/validación y las métricas dejan de mejorar.\n",
        "\n",
        "1. How do we initialize the weights in a model?\n",
        "  * De forma aleatoria.\n",
        "\n",
        "1. What is \"loss\"?\n",
        "  * La función de pérdida devolverá un valor basado en las predicciones y objetivos dados, donde los valores más bajos corresponden a mejores predicciones del modelo.\n",
        "\n",
        "1. Why can't we always use a high learning rate?\n",
        "  * La pérdida puede oscilar o incluso divergir, ya que el optimizador está tomando pasos que son demasiado grandes y actualizando los parámetros más rápido de lo que debería ser.\n",
        "\n",
        "1. What is a \"gradient\"?\n",
        "  * Los gradientes indican cuánto tiene que variar cada peso para mejorar nuestro modelo (minimizar la función de pérdida). Es esencialmente una medida de la razón de cambio de la función de pérdida con las variaciones de los pesos del modelo (defición de la derivada).\n",
        "\n",
        "1. Do you need to know how to calculate gradients yourself?\n",
        "  * No se requiere el cálculo manual de los gradientes, ya que las bibliotecas de aprendizaje profundo calcularán automáticamente los gradientes. Esta característica se conoce como diferenciación automática `automatic differentiation`. En PyTorch, si require_grad=True, los gradientes se pueden devolver llamando al método de retroceso: a.backward()\n",
        "\n",
        "1. Why can't we use accuracy as a loss function?\n",
        "  * Una función de pérdida debe cambiar a medida que se ajustan los pesos. La precisión solo cambia si cambian las predicciones del modelo. Entonces, al existir cambios en el modelo que, por ejemplo, mejoran el desempeño en una predicción, pero no cambian la predicción, la precisión seguirá sin cambiar. Por lo tanto, los gradientes serán cero en todas partes excepto cuando cambien las predicciones reales. Por lo tanto, el modelo no puede aprender de los gradientes iguales a cero, y los pesos del modelo no se actualizarán ni entrenarán.\n",
        "\n",
        "1. Draw the sigmoid function. What is special about its shape?\n",
        "  * ![sigmoid.png](https://drive.google.com/uc?export=view&id=1ockBhGCItKx8aBFVViL9INPJn3HiFnao)\n",
        "\n",
        "  Es un tipo de curva suave que toma valores en los números reales $\\mathbb{R}$ a la entrada y los mapea al rango de 0 - 1, ademas de tener las características que es continuamente diferenciable, satura y mata al gradiente,  en las funciones de pérdida que suponen que el modelo tiene como salida un valor de probabilidad o nivel de confianza con rango antes mencionado, la función sigmoide es utilizada al final del modelo para lograr eso.\n",
        "\n",
        "1. What is the difference between a loss function and a metric?\n",
        "  * La diferencia clave es que las métricas impulsan la comprensión humana y las pérdidas impulsan el aprendizaje automatizado.\n",
        "\n",
        "1. What is the function to calculate new weights using a learning rate?\n",
        "  * optimizer step function\n",
        "\n",
        "1. What does the `DataLoader` class do?\n",
        "  * La clase DataLoader  toma cualquier colección de Python y convertirla en un iterador en muchos lotes. \n",
        "\n",
        "1. Write pseudocode showing the basic steps taken in each epoch for SGD.\n",
        "`for x,y in dl:\n",
        "    pred = model(x)\n",
        "    loss = loss_func(pred, y)\n",
        "    loss.backward()\n",
        "    param -= param.grad * lr`\n",
        "\n",
        "1. Create a function that, if passed two arguments `[1,2,3,4]` and `'abcd'`, returns `[(1, 'a'), (2, 'b'), (3, 'c'), (4, 'd')]`. What is special about that output data structure?\n",
        "`def func(x,y): return list(zip(x,y))`\n",
        "\n",
        "1. What does `view` do in PyTorch?\n",
        "  * Tiene una función parecida al reshape, es decir cambia la forma del Tensor sin cmabiar el contenido.\n",
        "\n",
        "1. What are the \"bias\" parameters in a neural network? Why do we need them?\n",
        "  * Sin los parámetros de sesgo, si la entrada es cero, la salida siempre será cero. Por lo tanto, el uso de parámetros de sesgo agrega flexibilidad adicional al modelo.\n",
        "\n",
        "1. What does the `@` operator do in Python?\n",
        "  * Es un operador para la multiplicación de matrices.\n",
        "\n",
        "1. What does the `backward` method do?\n",
        "  * Método que devulve los gradientes actuales.\n",
        "\n",
        "1. Why do we have to zero the gradients?\n",
        "   * Esto se hace ya que Pythorch agregará los gradientes de una variable a cualquier gradiente previamente almacenado, esto sobre todo si el lazo de entrenamiento es ejecutado multiples veces, por lo que, el gradiente de la función de pérdida actual será agregado al gradiente previamente almaceado.\n",
        "\n",
        "1. What information do we have to pass to `Learner`?\n",
        "   * Se deben de definir como argumentos: \n",
        "    a) DataLoaders,\n",
        "    b) modelo,\n",
        "    c) optimizador,\n",
        "    d) Loss function, \n",
        "    e) métricas de interés.\n",
        "\n",
        "1. Show Python or pseudocode for the basic steps of a training loop.\n",
        "\n",
        "  `def train_epoch(model, lr, params):\n",
        "      for xb,yb in dl:\n",
        "          calc_grad(xb, yb, model)\n",
        "          for p in params:\n",
        "              p.data -= p.grad*lr\n",
        "              p.grad.zero_()`\n",
        "    \n",
        "  `for i in range(10):\n",
        "      train_epoch(model, lr, params)`\n",
        "\n",
        "1. What is \"ReLU\"? Draw a plot of it for values from `-2` to `+2`.\n",
        "  *ReLU  reemplazar cualquier número negativo con cero. Es una función de activación de uso común. \n",
        "\n",
        "  ![ReLU.png](https://drive.google.com/uc?export=view&id=1jsA6GxVmf8Eh0BDGl1DeTOBACtKVkKDN)\n",
        "\n",
        "1. What is an \"activation function\"?\n",
        "  * La función de activación realiza una transformación no lineal al modelo. La idea que sustenta la función de activación, es que sin aplicar esa no linealidad se tendrá simplemente multiples funciónes lineales, siendo equivalente en una sola capa lineal, de esta forma se dota al modelo la capacidad de ajustar a funciones más complejas.\n",
        "\n",
        "1. What's the difference between `F.relu` and `nn.ReLU`?\n",
        "  * F.relu es una función de Python para la función de activación de relu. Por otro lado, nn.ReLU es un módulo de PyTorch. Hay equivalencia entre ambas funciones.\n",
        "\n",
        "1. The universal approximation theorem shows that any function can be approximated as closely as needed using just one nonlinearity. So why do we normally use more?\n",
        "  * Existen beneficios prácticos de rendimiento al usar más de una no linealidad. Se puede generar un modelo más profundo con menos cantidad de parámetros, mejor rendimiento, entrenamiento más rápido y menos requisitos de cómputo/memoria"
      ]
    },
    {
      "cell_type": "markdown",
      "source": [
        "**Ejercicio en código de la pregunta 4**"
      ],
      "metadata": {
        "id": "3R-X7xq9dx4M"
      }
    },
    {
      "cell_type": "code",
      "source": [
        "list_odds = [2*item for item in range(20) if item%2 != 0]\n",
        "list_odds"
      ],
      "metadata": {
        "colab": {
          "base_uri": "https://localhost:8080/"
        },
        "id": "nwwxI0cKdwT_",
        "outputId": "6aecdd7f-9d65-47f9-a644-89d4cc50039c"
      },
      "execution_count": 253,
      "outputs": [
        {
          "output_type": "execute_result",
          "data": {
            "text/plain": [
              "[2, 6, 10, 14, 18, 22, 26, 30, 34, 38]"
            ]
          },
          "metadata": {},
          "execution_count": 253
        }
      ]
    },
    {
      "cell_type": "markdown",
      "source": [
        "**Ejercicio en código de la pregunta 5**"
      ],
      "metadata": {
        "id": "eO8Wyt9d5gXy"
      }
    },
    {
      "cell_type": "code",
      "source": [
        "tensor_var = tensor([1,2,3])\n",
        "len(tensor_var.shape), tensor_var.ndim"
      ],
      "metadata": {
        "colab": {
          "base_uri": "https://localhost:8080/"
        },
        "id": "nkQVe4RUyeiX",
        "outputId": "4af88397-aa30-4144-fa17-b873434ccb1c"
      },
      "execution_count": 260,
      "outputs": [
        {
          "output_type": "execute_result",
          "data": {
            "text/plain": [
              "(1, 1)"
            ]
          },
          "metadata": {},
          "execution_count": 260
        }
      ]
    },
    {
      "cell_type": "markdown",
      "source": [
        "**Ejercicio en código de la pregunta 9**"
      ],
      "metadata": {
        "id": "ciPkM9Yp5qgW"
      }
    },
    {
      "cell_type": "code",
      "source": [
        "a = Tensor(range(1,10)).reshape(3,3)\n",
        "print(f'Tensor a: {a}')\n",
        "b = 2*a\n",
        "print(f'Double a: {b}')\n",
        "\n",
        "print(f'selección de 4 números inferiores -  derecha: {b[1:,1:]}')"
      ],
      "metadata": {
        "colab": {
          "base_uri": "https://localhost:8080/"
        },
        "id": "Bk-1vG1G4fJ4",
        "outputId": "fc5f1cdb-eb0e-4589-a5d3-8db61f4c5839"
      },
      "execution_count": 270,
      "outputs": [
        {
          "output_type": "stream",
          "name": "stdout",
          "text": [
            "Tensor a: tensor([[1., 2., 3.],\n",
            "        [4., 5., 6.],\n",
            "        [7., 8., 9.]])\n",
            "Double a: tensor([[ 2.,  4.,  6.],\n",
            "        [ 8., 10., 12.],\n",
            "        [14., 16., 18.]])\n",
            "selección de 4 números inferiores -  derecha: tensor([[10., 12.],\n",
            "        [16., 18.]])\n"
          ]
        }
      ]
    },
    {
      "cell_type": "markdown",
      "metadata": {
        "id": "5Y9itf52jlQx"
      },
      "source": [
        "### Further Research"
      ]
    },
    {
      "cell_type": "markdown",
      "metadata": {
        "id": "m2VOuZW8jlQx"
      },
      "source": [
        "1. Create your own implementation of `Learner` from scratch, based on the training loop shown in this chapter.\n",
        "1. Complete all the steps in this chapter using the full MNIST datasets (that is, for all digits, not just 3s and 7s). This is a significant project and will take you quite a bit of time to complete! You'll need to do some of your own research to figure out how to overcome some obstacles you'll meet on the way."
      ]
    },
    {
      "cell_type": "code",
      "execution_count": null,
      "metadata": {
        "id": "pf1qa8E_jlQx"
      },
      "outputs": [],
      "source": []
    }
  ],
  "metadata": {
    "jupytext": {
      "split_at_heading": true
    },
    "kernelspec": {
      "display_name": "Python 3 (ipykernel)",
      "language": "python",
      "name": "python3"
    },
    "colab": {
      "provenance": [],
      "collapsed_sections": [
        "5Y9itf52jlQx"
      ]
    }
  },
  "nbformat": 4,
  "nbformat_minor": 0
}